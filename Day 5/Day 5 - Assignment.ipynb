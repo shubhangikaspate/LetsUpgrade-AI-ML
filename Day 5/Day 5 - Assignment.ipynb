{
 "cells": [
  {
   "cell_type": "markdown",
   "metadata": {},
   "source": [
    "## Assignment - Day 5 | 10th July 2020\n"
   ]
  },
  {
   "cell_type": "markdown",
   "metadata": {},
   "source": [
    "__________________"
   ]
  },
  {
   "cell_type": "markdown",
   "metadata": {},
   "source": [
    "__Question 1 :__\n",
    "\n",
    "Write a Python program to find the first 20 non-even prime natural numbers."
   ]
  },
  {
   "cell_type": "code",
   "execution_count": 2,
   "metadata": {},
   "outputs": [
    {
     "name": "stdout",
     "output_type": "stream",
     "text": [
      "1 3 5 7 9 11 13 15 17 19 21 23 25 27 29 31 33 35 37 39 "
     ]
    }
   ],
   "source": [
    "# Python program to print non-even Numbers in a List \n",
    "  \n",
    "a = range(10,100)\n",
    "i = 0\n",
    "         \n",
    "while(i < len(a)): \n",
    "      \n",
    "    if a[i] % 2 != 0: \n",
    "        print(a[i], end = \" \") \n",
    "    i += 1\n",
    "     "
   ]
  },
  {
   "cell_type": "code",
   "execution_count": 6,
   "metadata": {},
   "outputs": [
    {
     "name": "stdout",
     "output_type": "stream",
     "text": [
      " 11   13   17   19   23   29   31   37   41   43   47   53   59   61   67   71   73   79   83   89  "
     ]
    }
   ],
   "source": [
    "# Python Program to print Prime Numbers\n",
    " \n",
    "for a in range (10, 90):\n",
    "    count = 0\n",
    "    for i in range(2, (a//2 + 1)):\n",
    "        if(a % i == 0):\n",
    "            count = count + 1\n",
    "            break\n",
    "\n",
    "    if (count == 0 and a != 1):\n",
    "        print(\" %d\" %a, end = '  ')\n",
    "    "
   ]
  },
  {
   "cell_type": "markdown",
   "metadata": {},
   "source": [
    "_______________________"
   ]
  },
  {
   "cell_type": "markdown",
   "metadata": {},
   "source": [
    "__Question 2 :__\n",
    "\n",
    "Write a Python program to implement 15 functions of string."
   ]
  },
  {
   "cell_type": "code",
   "execution_count": 15,
   "metadata": {},
   "outputs": [
    {
     "name": "stdout",
     "output_type": "stream",
     "text": [
      "I am learning python.\n",
      "I have joined upgrade's ai - ml course.\n"
     ]
    }
   ],
   "source": [
    "# 1. capitalize() \n",
    "\n",
    "str1=\"i am learning python.\"\n",
    "str2=\"i have joined upgrade's AI - ML course.\"\n",
    "\n",
    "a=str1.capitalize()\n",
    "b=str2.capitalize()\n",
    "print(a)\n",
    "print(b)"
   ]
  },
  {
   "cell_type": "code",
   "execution_count": 16,
   "metadata": {},
   "outputs": [
    {
     "name": "stdout",
     "output_type": "stream",
     "text": [
      "I AM LEARNING PYTHON.\n",
      "I HAVE JOINED UPGRADE'S AI - ML COURSE.\n"
     ]
    }
   ],
   "source": [
    "# 2. upper - returns a string where all characters are upper case. \n",
    "\n",
    "str1=\"i am learning python.\"\n",
    "str2=\"i have joined upgrade's AI - ML course.\"\n",
    "\n",
    "a=str1.upper()\n",
    "b=str2.upper()\n",
    "print(a)\n",
    "print(b)\n",
    "\n"
   ]
  },
  {
   "cell_type": "code",
   "execution_count": 17,
   "metadata": {},
   "outputs": [
    {
     "name": "stdout",
     "output_type": "stream",
     "text": [
      "i am learning python. i have joined upgrade's ai - ml course.\n"
     ]
    }
   ],
   "source": [
    "# 3. lower - returns a string where all characters are lower case. \n",
    "\n",
    "str1=\"I AM LEARNING PYTHON. I HAVE JOINED UPGRADE'S AI - ML COURSE.\"\n",
    "\n",
    "a=str1.lower()\n",
    "print(a)\n"
   ]
  },
  {
   "cell_type": "code",
   "execution_count": 19,
   "metadata": {},
   "outputs": [
    {
     "name": "stdout",
     "output_type": "stream",
     "text": [
      "False\n",
      "True\n"
     ]
    }
   ],
   "source": [
    "# 4. islower() - returns True if all the characters are in lower case \n",
    "\n",
    "\n",
    "str1=\"I AM LEARNING PYTHON. I HAVE JOINED UPGRADE'S AI - ML COURSE.\"\n",
    "\n",
    "a=str1.islower()\n",
    "print(a)\n",
    "\n",
    "str2=\"i am learning python. i have joined upgrade's ai - ml course.\"\n",
    "\n",
    "b=str2.islower()\n",
    "print(b)"
   ]
  },
  {
   "cell_type": "code",
   "execution_count": 20,
   "metadata": {},
   "outputs": [
    {
     "name": "stdout",
     "output_type": "stream",
     "text": [
      "True\n",
      "False\n"
     ]
    }
   ],
   "source": [
    "# 5. isupper() - returns True if all the characters are in upper case\n",
    "\n",
    "s1=\"I AM LEARNING PYTHON. I HAVE JOINED UPGRADE'S AI - ML COURSE.\"\n",
    "\n",
    "a=s1.isupper()\n",
    "print(a)\n",
    "\n",
    "s2=\"i am learning python. i have joined upgrade's ai - ml course.\"\n",
    "\n",
    "b=s2.isupper()\n",
    "print(b)\n"
   ]
  },
  {
   "cell_type": "code",
   "execution_count": 21,
   "metadata": {},
   "outputs": [
    {
     "name": "stdout",
     "output_type": "stream",
     "text": [
      "I AM LEARNING PYTHON. I HAVE JOINED UPGRADE'S ai - ml COURSE.\n",
      "i am learning python. i have joined upgrade's ai - ml course.\n"
     ]
    }
   ],
   "source": [
    "# 6. swapcase()- returns a string where all the upper case letters are lower case and vice versa.\n",
    "\n",
    "str1=\"i am learning python. i have joined upgrade's AI - ML course.\"\n",
    "s1=\"I AM LEARNING PYTHON. I HAVE JOINED UPGRADE'S AI - ML COURSE.\"\n",
    "\n",
    "a=str1.swapcase()\n",
    "b=s1.swapcase()\n",
    "print(a)\n",
    "print(b)\n"
   ]
  },
  {
   "cell_type": "code",
   "execution_count": 23,
   "metadata": {},
   "outputs": [
    {
     "name": "stdout",
     "output_type": "stream",
     "text": [
      "I am learning Artificial Intelligence.\n"
     ]
    }
   ],
   "source": [
    "#. 7. replace() - replaces a specified word/element with another specified element.\n",
    "\n",
    "str1=\"I am learning python.\"\n",
    "\n",
    "a=str1.replace(\"python\", \"Artificial Intelligence\")\n",
    "\n",
    "print(a)\n",
    "\n",
    "\n"
   ]
  },
  {
   "cell_type": "code",
   "execution_count": 30,
   "metadata": {},
   "outputs": [
    {
     "name": "stdout",
     "output_type": "stream",
     "text": [
      "False\n"
     ]
    }
   ],
   "source": [
    "# 8. isalnum() - returns True if all the characters are alphanumeric\n",
    "\n",
    "S1=\"Artificial Intelligence\"\n",
    "a=S1.isalnum()\n",
    "print(a)"
   ]
  },
  {
   "cell_type": "code",
   "execution_count": 31,
   "metadata": {},
   "outputs": [
    {
     "name": "stdout",
     "output_type": "stream",
     "text": [
      "False\n"
     ]
    }
   ],
   "source": [
    "# 9. isalpha() - returns True if all the characters are alphabets\n",
    "\n",
    "s1=\"20, 40.12,'python','AI',11\"\n",
    "b=s1.isalpha()\n",
    "\n",
    "print(b)\n"
   ]
  },
  {
   "cell_type": "code",
   "execution_count": 39,
   "metadata": {},
   "outputs": [
    {
     "name": "stdout",
     "output_type": "stream",
     "text": [
      "True\n"
     ]
    }
   ],
   "source": [
    "# 10. isnumeric() - returns True if all the characters are numbers\n",
    "\n",
    "y = \"565543\"\n",
    "\n",
    "x = y.isnumeric()\n",
    "\n",
    "print(x)"
   ]
  },
  {
   "cell_type": "code",
   "execution_count": 40,
   "metadata": {},
   "outputs": [
    {
     "name": "stdout",
     "output_type": "stream",
     "text": [
      "True\n",
      "False\n"
     ]
    }
   ],
   "source": [
    "# 11. isspace() - returns True if all the characters in a string are whitespaces\n",
    "\n",
    "x=\"         \"\n",
    "y=\"Upgrade AI ML\"\n",
    "\n",
    "m=x.isspace()\n",
    "n=y.isspace()\n",
    "\n",
    "print(m)\n",
    "print(n)"
   ]
  },
  {
   "cell_type": "code",
   "execution_count": 42,
   "metadata": {},
   "outputs": [
    {
     "name": "stdout",
     "output_type": "stream",
     "text": [
      "61\n",
      "LEARNING PYTHON. I HAVE J\n",
      "I AM LEARNING PYTHON. I HAVE JOINED UPGRADE'S AI - ML CO\n"
     ]
    }
   ],
   "source": [
    "# 12. len() & index\n",
    "\n",
    "z=\"I AM LEARNING PYTHON. I HAVE JOINED UPGRADE'S AI - ML COURSE.\"\n",
    "\n",
    "print(len(z))\n",
    "print(z[5:30])\n",
    "print(z[ : -5])\n",
    "\n"
   ]
  },
  {
   "cell_type": "code",
   "execution_count": 44,
   "metadata": {},
   "outputs": [
    {
     "name": "stdout",
     "output_type": "stream",
     "text": [
      "I- -A-M- -L-E-A-R-N-I-N-G- -P-Y-T-H-O-N- -I- -H-A-V-E- -J-O-I-N-E-D- -U-P-G-R-A-D-E-'-S- -A-I- --- -M-L- -C-O-U-R-S-E\n",
      "I* *A*M* *L*E*A*R*N*I*N*G* *P*Y*T*H*O*N* *I* *H*A*V*E* *J*O*I*N*E*D* *U*P*G*R*A*D*E*'*S* *A*I* *-* *M*L* *C*O*U*R*S*E\n"
     ]
    }
   ],
   "source": [
    "# 13. join()\n",
    "\n",
    "z=\"I AM LEARNING PYTHON I HAVE JOINED UPGRADE'S AI - ML COURSE\"\n",
    "\n",
    "x=\"-\".join(z)\n",
    "y=\"*\".join(z)\n",
    "\n",
    "print(x)\n",
    "print(y)"
   ]
  },
  {
   "cell_type": "code",
   "execution_count": 45,
   "metadata": {},
   "outputs": [
    {
     "name": "stdout",
     "output_type": "stream",
     "text": [
      "['I', 'AM', 'LEARNING', 'PYTHON', 'I', 'HAVE', 'JOINED', \"UPGRADE'S\", 'AI', '-', 'ML', 'COURSE']\n"
     ]
    }
   ],
   "source": [
    "# 14. split()\n",
    "\n",
    "z=\"I AM LEARNING PYTHON I HAVE JOINED UPGRADE'S AI - ML COURSE\"\n",
    "\n",
    "x=z.split()\n",
    "print(x)\n",
    "\n"
   ]
  },
  {
   "cell_type": "code",
   "execution_count": 46,
   "metadata": {},
   "outputs": [
    {
     "name": "stdout",
     "output_type": "stream",
     "text": [
      "('I AM LEARNING PYTHON ', 'I HAVE JOINED ', \"UPGRADE'S AI - ML COURSE\")\n"
     ]
    }
   ],
   "source": [
    "# 15. partition()\n",
    "z=\"I AM LEARNING PYTHON I HAVE JOINED UPGRADE'S AI - ML COURSE\"\n",
    "\n",
    "x=z.partition(\"I HAVE JOINED \")\n",
    "print(x)"
   ]
  },
  {
   "cell_type": "code",
   "execution_count": 47,
   "metadata": {},
   "outputs": [
    {
     "name": "stdout",
     "output_type": "stream",
     "text": [
      "I Am Learning Python. I Have Joined Upgrade'S Ai - Ml Course.\n"
     ]
    }
   ],
   "source": [
    "# 16. title() - Converts the first character of each word to upper case\n",
    "\n",
    "str1=\"i am learning python. i have joined upgrade's AI - ML course.\"\n",
    "\n",
    "x=str1.title()\n",
    "\n",
    "print(x)\n",
    "\n"
   ]
  },
  {
   "cell_type": "code",
   "execution_count": 49,
   "metadata": {},
   "outputs": [
    {
     "name": "stdout",
     "output_type": "stream",
     "text": [
      "I am learning python.I have joined upgrade's AI - ML course.\n"
     ]
    }
   ],
   "source": [
    "# 17. concatination\n",
    "\n",
    "str1=\"I am learning python.\"\n",
    "str2=\"I have joined upgrade's AI - ML course.\"\n",
    "\n",
    "a=str1+str2\n",
    "print(a)\n"
   ]
  },
  {
   "cell_type": "code",
   "execution_count": 52,
   "metadata": {},
   "outputs": [
    {
     "name": "stdout",
     "output_type": "stream",
     "text": [
      "lets Upgrade.  lets Upgrade.  lets Upgrade.  lets Upgrade.  \n"
     ]
    }
   ],
   "source": [
    "# 18. Repetition\n",
    "str1=\"lets Upgrade.  \"\n",
    "print(str1*4)\n"
   ]
  },
  {
   "cell_type": "code",
   "execution_count": 54,
   "metadata": {},
   "outputs": [
    {
     "name": "stdout",
     "output_type": "stream",
     "text": [
      "True\n",
      "False\n"
     ]
    }
   ],
   "source": [
    "# 19. Membership (in)\n",
    "\n",
    "Str1= \"Python, Java, C, C++, AI, ML, Data science, Deep learning\"\n",
    "\n",
    "print('Data' in Str1)\n",
    "\n",
    "print('SAS' in Str1)\n",
    "\n"
   ]
  },
  {
   "cell_type": "code",
   "execution_count": 56,
   "metadata": {},
   "outputs": [
    {
     "name": "stdout",
     "output_type": "stream",
     "text": [
      "True\n",
      "False\n"
     ]
    }
   ],
   "source": [
    "# 20. Membership (not in)\n",
    "\n",
    "Str1= \"Python, Java, C, C++, AI, ML, Data science, Deep learning\"\n",
    "\n",
    "print('Superman' not in Str1)\n",
    "\n",
    "print('science' not in Str1)"
   ]
  },
  {
   "cell_type": "markdown",
   "metadata": {},
   "source": [
    "________________"
   ]
  },
  {
   "cell_type": "markdown",
   "metadata": {},
   "source": [
    "__Question 3:__\n",
    "    \n",
    "Write a Python program to check if the given string is a Palindrome or Anagram or None of them.\n",
    "Display the message accordingly to the user."
   ]
  },
  {
   "cell_type": "code",
   "execution_count": 59,
   "metadata": {},
   "outputs": [
    {
     "name": "stdout",
     "output_type": "stream",
     "text": [
      "Please enter your String : Radar\n",
      "This is Not a Palindrome String\n"
     ]
    }
   ],
   "source": [
    "# A palindrome is any  a string or number which remains same/unchanged if reversed.\n",
    "# An anagram of a string is another string that contains same characters, only the order of characters can be different.\n",
    "\n",
    "\n",
    "# example 1\n",
    "\n",
    "str = input(\"Please enter your String : \")\n",
    "\n",
    "if(str == str[:: - 1]):\n",
    "    print(\"This is a Palindrome String\")\n",
    "else:\n",
    "    print(\"This is Not a Palindrome String\")\n"
   ]
  },
  {
   "cell_type": "code",
   "execution_count": 60,
   "metadata": {},
   "outputs": [
    {
     "name": "stdout",
     "output_type": "stream",
     "text": [
      "Please enter your String : laptop\n",
      "This is Not a Palindrome String\n"
     ]
    }
   ],
   "source": [
    "# Example 2\n",
    "\n",
    "str = input(\"Please enter your String : \")\n",
    "\n",
    "if(str == str[:: - 1]):\n",
    "    print(\"This is a Palindrome String\")\n",
    "else:\n",
    "    print(\"This is Not a Palindrome String\")\n"
   ]
  },
  {
   "cell_type": "code",
   "execution_count": 66,
   "metadata": {},
   "outputs": [
    {
     "name": "stdout",
     "output_type": "stream",
     "text": [
      "True\n",
      "True\n",
      "True\n",
      "True\n",
      "False\n"
     ]
    }
   ],
   "source": [
    "def is_anagram(str1, str2):\n",
    "    str1 = list(str1)\n",
    "    str1.sort()\n",
    "    str2 = list(str2)\n",
    "    str2.sort()\n",
    "\n",
    "    return (str1 == str2)\n",
    "\n",
    "print(is_anagram('abcd','dcba'))\n",
    "print(is_anagram('arc','car'))\n",
    "print(is_anagram('nagaram','anagram'))\n",
    "print(is_anagram('abcd','dcba'))\n",
    "print(is_anagram('cat','bat'))\n",
    "\n"
   ]
  },
  {
   "cell_type": "code",
   "execution_count": 76,
   "metadata": {},
   "outputs": [
    {
     "ename": "SyntaxError",
     "evalue": "invalid syntax (<ipython-input-76-d7badfefe2cf>, line 7)",
     "output_type": "error",
     "traceback": [
      "\u001b[1;36m  File \u001b[1;32m\"<ipython-input-76-d7badfefe2cf>\"\u001b[1;36m, line \u001b[1;32m7\u001b[0m\n\u001b[1;33m    elif:\u001b[0m\n\u001b[1;37m       ^\u001b[0m\n\u001b[1;31mSyntaxError\u001b[0m\u001b[1;31m:\u001b[0m invalid syntax\n"
     ]
    }
   ],
   "source": [
    "#\n",
    "\n",
    "s1=\"I m malayalam m I\" \n",
    "s2=s1[::-1]\n",
    "if s1==s2:\n",
    "    print(s1,\" is a palindrome\")\n",
    "    elif:\n",
    "        def is_anagram(s1, s2):\n",
    "            s1 = list(s1)\n",
    "            s1.sort()\n",
    "            s2 = list(s2)\n",
    "            s2.sort()\n",
    "            return (s1 == s2)\n",
    "    print(is_anagram(s1,s2))\n",
    "else:\n",
    "    print(\"None of them\")"
   ]
  },
  {
   "cell_type": "markdown",
   "metadata": {},
   "source": [
    "__________________________"
   ]
  },
  {
   "cell_type": "markdown",
   "metadata": {},
   "source": [
    "__Question 4:__\n",
    "    \n",
    "Write a Python's user defined function that removes all the additional characters from the string\n",
    "and converts it finally to lower case using built-in lower(). eg: If the string is \"Dr. Darshan Ingle\n",
    "@AI-ML Trainer\", then the output be \"drdarshaningleaimltrainer\"."
   ]
  },
  {
   "cell_type": "code",
   "execution_count": 79,
   "metadata": {},
   "outputs": [
    {
     "name": "stdout",
     "output_type": "stream",
     "text": [
      "Enter string of your choice: I am learning Python. I have joined Lets Upgrade AI - ML course.\n",
      "iamlearningpythonihavejoinedletsupgradeai-mlcourse\n"
     ]
    }
   ],
   "source": [
    "# input from user\n",
    "a = input(\"Enter string of your choice: \")\n",
    "\n",
    "# removing space and addition characters\n",
    "x=a.replace('.','')\n",
    "y=x.replace(' ','')\n",
    "z=y.lower()                 # converting string to lower case\n",
    "print(z)"
   ]
  },
  {
   "cell_type": "markdown",
   "metadata": {},
   "source": [
    "________________"
   ]
  }
 ],
 "metadata": {
  "kernelspec": {
   "display_name": "Python 3",
   "language": "python",
   "name": "python3"
  },
  "language_info": {
   "codemirror_mode": {
    "name": "ipython",
    "version": 3
   },
   "file_extension": ".py",
   "mimetype": "text/x-python",
   "name": "python",
   "nbconvert_exporter": "python",
   "pygments_lexer": "ipython3",
   "version": "3.7.4"
  }
 },
 "nbformat": 4,
 "nbformat_minor": 2
}
