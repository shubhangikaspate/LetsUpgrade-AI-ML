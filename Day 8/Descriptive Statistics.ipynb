{
 "cells": [
  {
   "cell_type": "code",
   "execution_count": 1,
   "metadata": {},
   "outputs": [],
   "source": [
    "import numpy as np\n",
    "import pandas as pd\n",
    "import matplotlib.pyplot as plt "
   ]
  },
  {
   "cell_type": "code",
   "execution_count": 2,
   "metadata": {},
   "outputs": [
    {
     "data": {
      "text/plain": [
       "'C:\\\\Users\\\\vishal\\\\Desktop\\\\AI - ML - LetsUpgrade\\\\Day 8'"
      ]
     },
     "execution_count": 2,
     "metadata": {},
     "output_type": "execute_result"
    }
   ],
   "source": [
    "import os\n",
    "os.getcwd()"
   ]
  },
  {
   "cell_type": "code",
   "execution_count": 3,
   "metadata": {},
   "outputs": [
    {
     "data": {
      "text/html": [
       "<div>\n",
       "<style scoped>\n",
       "    .dataframe tbody tr th:only-of-type {\n",
       "        vertical-align: middle;\n",
       "    }\n",
       "\n",
       "    .dataframe tbody tr th {\n",
       "        vertical-align: top;\n",
       "    }\n",
       "\n",
       "    .dataframe thead th {\n",
       "        text-align: right;\n",
       "    }\n",
       "</style>\n",
       "<table border=\"1\" class=\"dataframe\">\n",
       "  <thead>\n",
       "    <tr style=\"text-align: right;\">\n",
       "      <th></th>\n",
       "      <th>ID</th>\n",
       "      <th>Gender</th>\n",
       "      <th>Birth Date</th>\n",
       "      <th>Education</th>\n",
       "      <th>JobCategory</th>\n",
       "      <th>CurrentSalary</th>\n",
       "      <th>After6Months</th>\n",
       "      <th>SalBegin</th>\n",
       "      <th>Job Time</th>\n",
       "      <th>Prev Exep</th>\n",
       "      <th>Minority</th>\n",
       "    </tr>\n",
       "  </thead>\n",
       "  <tbody>\n",
       "    <tr>\n",
       "      <td>0</td>\n",
       "      <td>3</td>\n",
       "      <td>f</td>\n",
       "      <td>07/26/1929</td>\n",
       "      <td>12</td>\n",
       "      <td>1</td>\n",
       "      <td>21450</td>\n",
       "      <td>16725.0</td>\n",
       "      <td>12000</td>\n",
       "      <td>98</td>\n",
       "      <td>381</td>\n",
       "      <td>0</td>\n",
       "    </tr>\n",
       "    <tr>\n",
       "      <td>1</td>\n",
       "      <td>4</td>\n",
       "      <td>f</td>\n",
       "      <td>04/15/1947</td>\n",
       "      <td>8</td>\n",
       "      <td>1</td>\n",
       "      <td>21900</td>\n",
       "      <td>17550.0</td>\n",
       "      <td>13200</td>\n",
       "      <td>98</td>\n",
       "      <td>190</td>\n",
       "      <td>0</td>\n",
       "    </tr>\n",
       "    <tr>\n",
       "      <td>2</td>\n",
       "      <td>8</td>\n",
       "      <td>f</td>\n",
       "      <td>1966-06-05 00:00:00</td>\n",
       "      <td>12</td>\n",
       "      <td>1</td>\n",
       "      <td>21900</td>\n",
       "      <td>15825.0</td>\n",
       "      <td>9750</td>\n",
       "      <td>98</td>\n",
       "      <td>0</td>\n",
       "      <td>0</td>\n",
       "    </tr>\n",
       "    <tr>\n",
       "      <td>3</td>\n",
       "      <td>9</td>\n",
       "      <td>f</td>\n",
       "      <td>01/23/1946</td>\n",
       "      <td>15</td>\n",
       "      <td>1</td>\n",
       "      <td>27900</td>\n",
       "      <td>20325.0</td>\n",
       "      <td>12750</td>\n",
       "      <td>98</td>\n",
       "      <td>115</td>\n",
       "      <td>0</td>\n",
       "    </tr>\n",
       "    <tr>\n",
       "      <td>4</td>\n",
       "      <td>10</td>\n",
       "      <td>f</td>\n",
       "      <td>02/13/1946</td>\n",
       "      <td>12</td>\n",
       "      <td>1</td>\n",
       "      <td>24000</td>\n",
       "      <td>18750.0</td>\n",
       "      <td>13500</td>\n",
       "      <td>98</td>\n",
       "      <td>244</td>\n",
       "      <td>0</td>\n",
       "    </tr>\n",
       "    <tr>\n",
       "      <td>...</td>\n",
       "      <td>...</td>\n",
       "      <td>...</td>\n",
       "      <td>...</td>\n",
       "      <td>...</td>\n",
       "      <td>...</td>\n",
       "      <td>...</td>\n",
       "      <td>...</td>\n",
       "      <td>...</td>\n",
       "      <td>...</td>\n",
       "      <td>...</td>\n",
       "      <td>...</td>\n",
       "    </tr>\n",
       "    <tr>\n",
       "      <td>469</td>\n",
       "      <td>464</td>\n",
       "      <td>m</td>\n",
       "      <td>03/20/1962</td>\n",
       "      <td>19</td>\n",
       "      <td>3</td>\n",
       "      <td>47550</td>\n",
       "      <td>40275.0</td>\n",
       "      <td>33000</td>\n",
       "      <td>64</td>\n",
       "      <td>27</td>\n",
       "      <td>0</td>\n",
       "    </tr>\n",
       "    <tr>\n",
       "      <td>470</td>\n",
       "      <td>465</td>\n",
       "      <td>m</td>\n",
       "      <td>07/20/1962</td>\n",
       "      <td>12</td>\n",
       "      <td>1</td>\n",
       "      <td>33900</td>\n",
       "      <td>25200.0</td>\n",
       "      <td>16500</td>\n",
       "      <td>64</td>\n",
       "      <td>106</td>\n",
       "      <td>0</td>\n",
       "    </tr>\n",
       "    <tr>\n",
       "      <td>471</td>\n",
       "      <td>470</td>\n",
       "      <td>m</td>\n",
       "      <td>01/22/1964</td>\n",
       "      <td>12</td>\n",
       "      <td>1</td>\n",
       "      <td>26250</td>\n",
       "      <td>21000.0</td>\n",
       "      <td>15750</td>\n",
       "      <td>64</td>\n",
       "      <td>69</td>\n",
       "      <td>1</td>\n",
       "    </tr>\n",
       "    <tr>\n",
       "      <td>472</td>\n",
       "      <td>471</td>\n",
       "      <td>m</td>\n",
       "      <td>1966-03-08 00:00:00</td>\n",
       "      <td>15</td>\n",
       "      <td>1</td>\n",
       "      <td>26400</td>\n",
       "      <td>21075.0</td>\n",
       "      <td>15750</td>\n",
       "      <td>64</td>\n",
       "      <td>32</td>\n",
       "      <td>1</td>\n",
       "    </tr>\n",
       "    <tr>\n",
       "      <td>473</td>\n",
       "      <td>472</td>\n",
       "      <td>m</td>\n",
       "      <td>02/21/1966</td>\n",
       "      <td>15</td>\n",
       "      <td>1</td>\n",
       "      <td>39150</td>\n",
       "      <td>27450.0</td>\n",
       "      <td>15750</td>\n",
       "      <td>63</td>\n",
       "      <td>46</td>\n",
       "      <td>0</td>\n",
       "    </tr>\n",
       "  </tbody>\n",
       "</table>\n",
       "<p>474 rows × 11 columns</p>\n",
       "</div>"
      ],
      "text/plain": [
       "      ID Gender           Birth Date  Education  JobCategory  CurrentSalary  \\\n",
       "0      3      f           07/26/1929         12            1          21450   \n",
       "1      4      f           04/15/1947          8            1          21900   \n",
       "2      8      f  1966-06-05 00:00:00         12            1          21900   \n",
       "3      9      f           01/23/1946         15            1          27900   \n",
       "4     10      f           02/13/1946         12            1          24000   \n",
       "..   ...    ...                  ...        ...          ...            ...   \n",
       "469  464      m           03/20/1962         19            3          47550   \n",
       "470  465      m           07/20/1962         12            1          33900   \n",
       "471  470      m           01/22/1964         12            1          26250   \n",
       "472  471      m  1966-03-08 00:00:00         15            1          26400   \n",
       "473  472      m           02/21/1966         15            1          39150   \n",
       "\n",
       "     After6Months  SalBegin  Job Time  Prev Exep  Minority  \n",
       "0         16725.0     12000        98        381         0  \n",
       "1         17550.0     13200        98        190         0  \n",
       "2         15825.0      9750        98          0         0  \n",
       "3         20325.0     12750        98        115         0  \n",
       "4         18750.0     13500        98        244         0  \n",
       "..            ...       ...       ...        ...       ...  \n",
       "469       40275.0     33000        64         27         0  \n",
       "470       25200.0     16500        64        106         0  \n",
       "471       21000.0     15750        64         69         1  \n",
       "472       21075.0     15750        64         32         1  \n",
       "473       27450.0     15750        63         46         0  \n",
       "\n",
       "[474 rows x 11 columns]"
      ]
     },
     "execution_count": 3,
     "metadata": {},
     "output_type": "execute_result"
    }
   ],
   "source": [
    "data = pd.read_excel('Descriptive Statistics.xlsx', Sheet_name=0)\n",
    "data"
   ]
  },
  {
   "cell_type": "code",
   "execution_count": 4,
   "metadata": {},
   "outputs": [
    {
     "data": {
      "text/html": [
       "<div>\n",
       "<style scoped>\n",
       "    .dataframe tbody tr th:only-of-type {\n",
       "        vertical-align: middle;\n",
       "    }\n",
       "\n",
       "    .dataframe tbody tr th {\n",
       "        vertical-align: top;\n",
       "    }\n",
       "\n",
       "    .dataframe thead th {\n",
       "        text-align: right;\n",
       "    }\n",
       "</style>\n",
       "<table border=\"1\" class=\"dataframe\">\n",
       "  <thead>\n",
       "    <tr style=\"text-align: right;\">\n",
       "      <th></th>\n",
       "      <th>ID</th>\n",
       "      <th>Gender</th>\n",
       "      <th>Birth Date</th>\n",
       "      <th>Education</th>\n",
       "      <th>JobCategory</th>\n",
       "      <th>CurrentSalary</th>\n",
       "      <th>After6Months</th>\n",
       "      <th>SalBegin</th>\n",
       "      <th>Job Time</th>\n",
       "      <th>Prev Exep</th>\n",
       "      <th>Minority</th>\n",
       "    </tr>\n",
       "  </thead>\n",
       "  <tbody>\n",
       "    <tr>\n",
       "      <td>0</td>\n",
       "      <td>3</td>\n",
       "      <td>f</td>\n",
       "      <td>07/26/1929</td>\n",
       "      <td>12</td>\n",
       "      <td>1</td>\n",
       "      <td>21450</td>\n",
       "      <td>16725.0</td>\n",
       "      <td>12000</td>\n",
       "      <td>98</td>\n",
       "      <td>381</td>\n",
       "      <td>0</td>\n",
       "    </tr>\n",
       "    <tr>\n",
       "      <td>1</td>\n",
       "      <td>4</td>\n",
       "      <td>f</td>\n",
       "      <td>04/15/1947</td>\n",
       "      <td>8</td>\n",
       "      <td>1</td>\n",
       "      <td>21900</td>\n",
       "      <td>17550.0</td>\n",
       "      <td>13200</td>\n",
       "      <td>98</td>\n",
       "      <td>190</td>\n",
       "      <td>0</td>\n",
       "    </tr>\n",
       "    <tr>\n",
       "      <td>2</td>\n",
       "      <td>8</td>\n",
       "      <td>f</td>\n",
       "      <td>1966-06-05 00:00:00</td>\n",
       "      <td>12</td>\n",
       "      <td>1</td>\n",
       "      <td>21900</td>\n",
       "      <td>15825.0</td>\n",
       "      <td>9750</td>\n",
       "      <td>98</td>\n",
       "      <td>0</td>\n",
       "      <td>0</td>\n",
       "    </tr>\n",
       "    <tr>\n",
       "      <td>3</td>\n",
       "      <td>9</td>\n",
       "      <td>f</td>\n",
       "      <td>01/23/1946</td>\n",
       "      <td>15</td>\n",
       "      <td>1</td>\n",
       "      <td>27900</td>\n",
       "      <td>20325.0</td>\n",
       "      <td>12750</td>\n",
       "      <td>98</td>\n",
       "      <td>115</td>\n",
       "      <td>0</td>\n",
       "    </tr>\n",
       "    <tr>\n",
       "      <td>4</td>\n",
       "      <td>10</td>\n",
       "      <td>f</td>\n",
       "      <td>02/13/1946</td>\n",
       "      <td>12</td>\n",
       "      <td>1</td>\n",
       "      <td>24000</td>\n",
       "      <td>18750.0</td>\n",
       "      <td>13500</td>\n",
       "      <td>98</td>\n",
       "      <td>244</td>\n",
       "      <td>0</td>\n",
       "    </tr>\n",
       "  </tbody>\n",
       "</table>\n",
       "</div>"
      ],
      "text/plain": [
       "   ID Gender           Birth Date  Education  JobCategory  CurrentSalary  \\\n",
       "0   3      f           07/26/1929         12            1          21450   \n",
       "1   4      f           04/15/1947          8            1          21900   \n",
       "2   8      f  1966-06-05 00:00:00         12            1          21900   \n",
       "3   9      f           01/23/1946         15            1          27900   \n",
       "4  10      f           02/13/1946         12            1          24000   \n",
       "\n",
       "   After6Months  SalBegin  Job Time  Prev Exep  Minority  \n",
       "0       16725.0     12000        98        381         0  \n",
       "1       17550.0     13200        98        190         0  \n",
       "2       15825.0      9750        98          0         0  \n",
       "3       20325.0     12750        98        115         0  \n",
       "4       18750.0     13500        98        244         0  "
      ]
     },
     "execution_count": 4,
     "metadata": {},
     "output_type": "execute_result"
    }
   ],
   "source": [
    "data.head()"
   ]
  },
  {
   "cell_type": "code",
   "execution_count": 5,
   "metadata": {},
   "outputs": [
    {
     "data": {
      "text/html": [
       "<div>\n",
       "<style scoped>\n",
       "    .dataframe tbody tr th:only-of-type {\n",
       "        vertical-align: middle;\n",
       "    }\n",
       "\n",
       "    .dataframe tbody tr th {\n",
       "        vertical-align: top;\n",
       "    }\n",
       "\n",
       "    .dataframe thead th {\n",
       "        text-align: right;\n",
       "    }\n",
       "</style>\n",
       "<table border=\"1\" class=\"dataframe\">\n",
       "  <thead>\n",
       "    <tr style=\"text-align: right;\">\n",
       "      <th></th>\n",
       "      <th>ID</th>\n",
       "      <th>Gender</th>\n",
       "      <th>Birth Date</th>\n",
       "      <th>Education</th>\n",
       "      <th>JobCategory</th>\n",
       "      <th>CurrentSalary</th>\n",
       "      <th>After6Months</th>\n",
       "      <th>SalBegin</th>\n",
       "      <th>Job Time</th>\n",
       "      <th>Prev Exep</th>\n",
       "      <th>Minority</th>\n",
       "    </tr>\n",
       "  </thead>\n",
       "  <tbody>\n",
       "    <tr>\n",
       "      <td>469</td>\n",
       "      <td>464</td>\n",
       "      <td>m</td>\n",
       "      <td>03/20/1962</td>\n",
       "      <td>19</td>\n",
       "      <td>3</td>\n",
       "      <td>47550</td>\n",
       "      <td>40275.0</td>\n",
       "      <td>33000</td>\n",
       "      <td>64</td>\n",
       "      <td>27</td>\n",
       "      <td>0</td>\n",
       "    </tr>\n",
       "    <tr>\n",
       "      <td>470</td>\n",
       "      <td>465</td>\n",
       "      <td>m</td>\n",
       "      <td>07/20/1962</td>\n",
       "      <td>12</td>\n",
       "      <td>1</td>\n",
       "      <td>33900</td>\n",
       "      <td>25200.0</td>\n",
       "      <td>16500</td>\n",
       "      <td>64</td>\n",
       "      <td>106</td>\n",
       "      <td>0</td>\n",
       "    </tr>\n",
       "    <tr>\n",
       "      <td>471</td>\n",
       "      <td>470</td>\n",
       "      <td>m</td>\n",
       "      <td>01/22/1964</td>\n",
       "      <td>12</td>\n",
       "      <td>1</td>\n",
       "      <td>26250</td>\n",
       "      <td>21000.0</td>\n",
       "      <td>15750</td>\n",
       "      <td>64</td>\n",
       "      <td>69</td>\n",
       "      <td>1</td>\n",
       "    </tr>\n",
       "    <tr>\n",
       "      <td>472</td>\n",
       "      <td>471</td>\n",
       "      <td>m</td>\n",
       "      <td>1966-03-08 00:00:00</td>\n",
       "      <td>15</td>\n",
       "      <td>1</td>\n",
       "      <td>26400</td>\n",
       "      <td>21075.0</td>\n",
       "      <td>15750</td>\n",
       "      <td>64</td>\n",
       "      <td>32</td>\n",
       "      <td>1</td>\n",
       "    </tr>\n",
       "    <tr>\n",
       "      <td>473</td>\n",
       "      <td>472</td>\n",
       "      <td>m</td>\n",
       "      <td>02/21/1966</td>\n",
       "      <td>15</td>\n",
       "      <td>1</td>\n",
       "      <td>39150</td>\n",
       "      <td>27450.0</td>\n",
       "      <td>15750</td>\n",
       "      <td>63</td>\n",
       "      <td>46</td>\n",
       "      <td>0</td>\n",
       "    </tr>\n",
       "  </tbody>\n",
       "</table>\n",
       "</div>"
      ],
      "text/plain": [
       "      ID Gender           Birth Date  Education  JobCategory  CurrentSalary  \\\n",
       "469  464      m           03/20/1962         19            3          47550   \n",
       "470  465      m           07/20/1962         12            1          33900   \n",
       "471  470      m           01/22/1964         12            1          26250   \n",
       "472  471      m  1966-03-08 00:00:00         15            1          26400   \n",
       "473  472      m           02/21/1966         15            1          39150   \n",
       "\n",
       "     After6Months  SalBegin  Job Time  Prev Exep  Minority  \n",
       "469       40275.0     33000        64         27         0  \n",
       "470       25200.0     16500        64        106         0  \n",
       "471       21000.0     15750        64         69         1  \n",
       "472       21075.0     15750        64         32         1  \n",
       "473       27450.0     15750        63         46         0  "
      ]
     },
     "execution_count": 5,
     "metadata": {},
     "output_type": "execute_result"
    }
   ],
   "source": [
    "data.tail()"
   ]
  },
  {
   "cell_type": "code",
   "execution_count": 6,
   "metadata": {},
   "outputs": [
    {
     "data": {
      "text/plain": [
       "Index(['ID', 'Gender', 'Birth Date', 'Education', 'JobCategory',\n",
       "       'CurrentSalary', 'After6Months', 'SalBegin', 'Job Time', 'Prev Exep',\n",
       "       'Minority'],\n",
       "      dtype='object')"
      ]
     },
     "execution_count": 6,
     "metadata": {},
     "output_type": "execute_result"
    }
   ],
   "source": [
    "data.columns"
   ]
  },
  {
   "cell_type": "code",
   "execution_count": 7,
   "metadata": {},
   "outputs": [
    {
     "name": "stdout",
     "output_type": "stream",
     "text": [
      "<class 'pandas.core.frame.DataFrame'>\n",
      "RangeIndex: 474 entries, 0 to 473\n",
      "Data columns (total 11 columns):\n",
      "ID               474 non-null int64\n",
      "Gender           474 non-null object\n",
      "Birth Date       473 non-null object\n",
      "Education        474 non-null int64\n",
      "JobCategory      474 non-null int64\n",
      "CurrentSalary    474 non-null int64\n",
      "After6Months     474 non-null float64\n",
      "SalBegin         474 non-null int64\n",
      "Job Time         474 non-null int64\n",
      "Prev Exep        474 non-null int64\n",
      "Minority         474 non-null int64\n",
      "dtypes: float64(1), int64(8), object(2)\n",
      "memory usage: 40.9+ KB\n"
     ]
    }
   ],
   "source": [
    "data.info()"
   ]
  },
  {
   "cell_type": "code",
   "execution_count": 8,
   "metadata": {},
   "outputs": [
    {
     "data": {
      "text/plain": [
       "34419.56751054852"
      ]
     },
     "execution_count": 8,
     "metadata": {},
     "output_type": "execute_result"
    }
   ],
   "source": [
    "data['CurrentSalary'].mean()"
   ]
  },
  {
   "cell_type": "code",
   "execution_count": 9,
   "metadata": {},
   "outputs": [
    {
     "data": {
      "text/plain": [
       "28875.0"
      ]
     },
     "execution_count": 9,
     "metadata": {},
     "output_type": "execute_result"
    }
   ],
   "source": [
    "data['CurrentSalary'].median()"
   ]
  },
  {
   "cell_type": "code",
   "execution_count": 10,
   "metadata": {},
   "outputs": [
    {
     "data": {
      "text/plain": [
       "0    30750\n",
       "dtype: int64"
      ]
     },
     "execution_count": 10,
     "metadata": {},
     "output_type": "execute_result"
    }
   ],
   "source": [
    "data['CurrentSalary'].mode()"
   ]
  },
  {
   "cell_type": "code",
   "execution_count": 11,
   "metadata": {},
   "outputs": [
    {
     "data": {
      "text/plain": [
       "count       474.000000\n",
       "mean      34419.567511\n",
       "std       17075.661465\n",
       "min       15750.000000\n",
       "25%       24000.000000\n",
       "50%       28875.000000\n",
       "75%       36937.500000\n",
       "max      135000.000000\n",
       "Name: CurrentSalary, dtype: float64"
      ]
     },
     "execution_count": 11,
     "metadata": {},
     "output_type": "execute_result"
    }
   ],
   "source": [
    "data['CurrentSalary'].describe()"
   ]
  },
  {
   "cell_type": "code",
   "execution_count": 12,
   "metadata": {},
   "outputs": [
    {
     "data": {
      "text/plain": [
       "(474, 11)"
      ]
     },
     "execution_count": 12,
     "metadata": {},
     "output_type": "execute_result"
    }
   ],
   "source": [
    "data.shape"
   ]
  },
  {
   "cell_type": "code",
   "execution_count": 13,
   "metadata": {},
   "outputs": [
    {
     "data": {
      "text/plain": [
       "ID               0\n",
       "Gender           0\n",
       "Birth Date       1\n",
       "Education        0\n",
       "JobCategory      0\n",
       "CurrentSalary    0\n",
       "After6Months     0\n",
       "SalBegin         0\n",
       "Job Time         0\n",
       "Prev Exep        0\n",
       "Minority         0\n",
       "dtype: int64"
      ]
     },
     "execution_count": 13,
     "metadata": {},
     "output_type": "execute_result"
    }
   ],
   "source": [
    "data.isnull().sum()"
   ]
  },
  {
   "cell_type": "code",
   "execution_count": 14,
   "metadata": {},
   "outputs": [
    {
     "data": {
      "text/plain": [
       "2.1246062823682506"
      ]
     },
     "execution_count": 14,
     "metadata": {},
     "output_type": "execute_result"
    }
   ],
   "source": [
    "data['CurrentSalary'].skew()"
   ]
  },
  {
   "cell_type": "code",
   "execution_count": 15,
   "metadata": {},
   "outputs": [
    {
     "data": {
      "text/plain": [
       "5.377822396136782"
      ]
     },
     "execution_count": 15,
     "metadata": {},
     "output_type": "execute_result"
    }
   ],
   "source": [
    "data['CurrentSalary'].kurt()"
   ]
  },
  {
   "cell_type": "code",
   "execution_count": 16,
   "metadata": {},
   "outputs": [
    {
     "data": {
      "text/plain": [
       "{'whiskers': [<matplotlib.lines.Line2D at 0x8f374c8>,\n",
       "  <matplotlib.lines.Line2D at 0x8f3e048>],\n",
       " 'caps': [<matplotlib.lines.Line2D at 0x8f3cdc8>,\n",
       "  <matplotlib.lines.Line2D at 0x8f4ce88>],\n",
       " 'boxes': [<matplotlib.lines.Line2D at 0x8f2d8c8>],\n",
       " 'medians': [<matplotlib.lines.Line2D at 0x8f5b688>],\n",
       " 'fliers': [<matplotlib.lines.Line2D at 0x8f567c8>],\n",
       " 'means': []}"
      ]
     },
     "execution_count": 16,
     "metadata": {},
     "output_type": "execute_result"
    },
    {
     "data": {
      "image/png": "[encoded data removed]",
      "text/plain": [
       "<Figure size 432x288 with 1 Axes>"
      ]
     },
     "metadata": {
      "needs_background": "light"
     },
     "output_type": "display_data"
    }
   ],
   "source": [
    "plt.boxplot(data['CurrentSalary'])"
   ]
  },
  {
   "cell_type": "code",
   "execution_count": 17,
   "metadata": {},
   "outputs": [
    {
     "data": {
      "text/plain": [
       "<matplotlib.collections.PathCollection at 0x8f23f48>"
      ]
     },
     "execution_count": 17,
     "metadata": {},
     "output_type": "execute_result"
    },
    {
     "data": {
      "image/png": "[encoded data removed]",
      "text/plain": [
       "<Figure size 432x288 with 1 Axes>"
      ]
     },
     "metadata": {
      "needs_background": "light"
     },
     "output_type": "display_data"
    }
   ],
   "source": [
    "plt.scatter(data['CurrentSalary'],data['After6Months'])"
   ]
  },
  {
   "cell_type": "code",
   "execution_count": 18,
   "metadata": {},
   "outputs": [
    {
     "data": {
      "text/html": [
       "<div>\n",
       "<style scoped>\n",
       "    .dataframe tbody tr th:only-of-type {\n",
       "        vertical-align: middle;\n",
       "    }\n",
       "\n",
       "    .dataframe tbody tr th {\n",
       "        vertical-align: top;\n",
       "    }\n",
       "\n",
       "    .dataframe thead th {\n",
       "        text-align: right;\n",
       "    }\n",
       "</style>\n",
       "<table border=\"1\" class=\"dataframe\">\n",
       "  <thead>\n",
       "    <tr style=\"text-align: right;\">\n",
       "      <th></th>\n",
       "      <th>ID</th>\n",
       "      <th>Education</th>\n",
       "      <th>JobCategory</th>\n",
       "      <th>CurrentSalary</th>\n",
       "      <th>After6Months</th>\n",
       "      <th>SalBegin</th>\n",
       "      <th>Job Time</th>\n",
       "      <th>Prev Exep</th>\n",
       "      <th>Minority</th>\n",
       "    </tr>\n",
       "  </thead>\n",
       "  <tbody>\n",
       "    <tr>\n",
       "      <td>ID</td>\n",
       "      <td>1.000000</td>\n",
       "      <td>-0.057212</td>\n",
       "      <td>-0.013504</td>\n",
       "      <td>-0.095544</td>\n",
       "      <td>-0.064630</td>\n",
       "      <td>0.007812</td>\n",
       "      <td>-0.998186</td>\n",
       "      <td>-0.003417</td>\n",
       "      <td>-0.032338</td>\n",
       "    </tr>\n",
       "    <tr>\n",
       "      <td>Education</td>\n",
       "      <td>-0.057212</td>\n",
       "      <td>1.000000</td>\n",
       "      <td>0.513854</td>\n",
       "      <td>0.660559</td>\n",
       "      <td>0.669489</td>\n",
       "      <td>0.633196</td>\n",
       "      <td>0.047379</td>\n",
       "      <td>-0.252353</td>\n",
       "      <td>-0.132889</td>\n",
       "    </tr>\n",
       "    <tr>\n",
       "      <td>JobCategory</td>\n",
       "      <td>-0.013504</td>\n",
       "      <td>0.513854</td>\n",
       "      <td>1.000000</td>\n",
       "      <td>0.780115</td>\n",
       "      <td>0.792885</td>\n",
       "      <td>0.754662</td>\n",
       "      <td>0.005329</td>\n",
       "      <td>0.062645</td>\n",
       "      <td>-0.143781</td>\n",
       "    </tr>\n",
       "    <tr>\n",
       "      <td>CurrentSalary</td>\n",
       "      <td>-0.095544</td>\n",
       "      <td>0.660559</td>\n",
       "      <td>0.780115</td>\n",
       "      <td>1.000000</td>\n",
       "      <td>0.988099</td>\n",
       "      <td>0.880117</td>\n",
       "      <td>0.084092</td>\n",
       "      <td>-0.097467</td>\n",
       "      <td>-0.177337</td>\n",
       "    </tr>\n",
       "    <tr>\n",
       "      <td>After6Months</td>\n",
       "      <td>-0.064630</td>\n",
       "      <td>0.669489</td>\n",
       "      <td>0.792885</td>\n",
       "      <td>0.988099</td>\n",
       "      <td>1.000000</td>\n",
       "      <td>0.942671</td>\n",
       "      <td>0.052711</td>\n",
       "      <td>-0.053889</td>\n",
       "      <td>-0.175719</td>\n",
       "    </tr>\n",
       "    <tr>\n",
       "      <td>SalBegin</td>\n",
       "      <td>0.007812</td>\n",
       "      <td>0.633196</td>\n",
       "      <td>0.754662</td>\n",
       "      <td>0.880117</td>\n",
       "      <td>0.942671</td>\n",
       "      <td>1.000000</td>\n",
       "      <td>-0.019753</td>\n",
       "      <td>0.045136</td>\n",
       "      <td>-0.157598</td>\n",
       "    </tr>\n",
       "    <tr>\n",
       "      <td>Job Time</td>\n",
       "      <td>-0.998186</td>\n",
       "      <td>0.047379</td>\n",
       "      <td>0.005329</td>\n",
       "      <td>0.084092</td>\n",
       "      <td>0.052711</td>\n",
       "      <td>-0.019753</td>\n",
       "      <td>1.000000</td>\n",
       "      <td>0.002978</td>\n",
       "      <td>0.049501</td>\n",
       "    </tr>\n",
       "    <tr>\n",
       "      <td>Prev Exep</td>\n",
       "      <td>-0.003417</td>\n",
       "      <td>-0.252353</td>\n",
       "      <td>0.062645</td>\n",
       "      <td>-0.097467</td>\n",
       "      <td>-0.053889</td>\n",
       "      <td>0.045136</td>\n",
       "      <td>0.002978</td>\n",
       "      <td>1.000000</td>\n",
       "      <td>0.144747</td>\n",
       "    </tr>\n",
       "    <tr>\n",
       "      <td>Minority</td>\n",
       "      <td>-0.032338</td>\n",
       "      <td>-0.132889</td>\n",
       "      <td>-0.143781</td>\n",
       "      <td>-0.177337</td>\n",
       "      <td>-0.175719</td>\n",
       "      <td>-0.157598</td>\n",
       "      <td>0.049501</td>\n",
       "      <td>0.144747</td>\n",
       "      <td>1.000000</td>\n",
       "    </tr>\n",
       "  </tbody>\n",
       "</table>\n",
       "</div>"
      ],
      "text/plain": [
       "                     ID  Education  JobCategory  CurrentSalary  After6Months  \\\n",
       "ID             1.000000  -0.057212    -0.013504      -0.095544     -0.064630   \n",
       "Education     -0.057212   1.000000     0.513854       0.660559      0.669489   \n",
       "JobCategory   -0.013504   0.513854     1.000000       0.780115      0.792885   \n",
       "CurrentSalary -0.095544   0.660559     0.780115       1.000000      0.988099   \n",
       "After6Months  -0.064630   0.669489     0.792885       0.988099      1.000000   \n",
       "SalBegin       0.007812   0.633196     0.754662       0.880117      0.942671   \n",
       "Job Time      -0.998186   0.047379     0.005329       0.084092      0.052711   \n",
       "Prev Exep     -0.003417  -0.252353     0.062645      -0.097467     -0.053889   \n",
       "Minority      -0.032338  -0.132889    -0.143781      -0.177337     -0.175719   \n",
       "\n",
       "               SalBegin  Job Time  Prev Exep  Minority  \n",
       "ID             0.007812 -0.998186  -0.003417 -0.032338  \n",
       "Education      0.633196  0.047379  -0.252353 -0.132889  \n",
       "JobCategory    0.754662  0.005329   0.062645 -0.143781  \n",
       "CurrentSalary  0.880117  0.084092  -0.097467 -0.177337  \n",
       "After6Months   0.942671  0.052711  -0.053889 -0.175719  \n",
       "SalBegin       1.000000 -0.019753   0.045136 -0.157598  \n",
       "Job Time      -0.019753  1.000000   0.002978  0.049501  \n",
       "Prev Exep      0.045136  0.002978   1.000000  0.144747  \n",
       "Minority      -0.157598  0.049501   0.144747  1.000000  "
      ]
     },
     "execution_count": 18,
     "metadata": {},
     "output_type": "execute_result"
    }
   ],
   "source": [
    "data.corr()"
   ]
  },
  {
   "cell_type": "code",
   "execution_count": 19,
   "metadata": {},
   "outputs": [
    {
     "data": {
      "text/plain": [
       "CurrentSalary    34419.567511\n",
       "After6Months     25717.827004\n",
       "SalBegin         17016.086498\n",
       "dtype: float64"
      ]
     },
     "execution_count": 19,
     "metadata": {},
     "output_type": "execute_result"
    }
   ],
   "source": [
    "data[['CurrentSalary','After6Months', 'SalBegin']].mean()"
   ]
  },
  {
   "cell_type": "code",
   "execution_count": 20,
   "metadata": {},
   "outputs": [
    {
     "data": {
      "text/plain": [
       "CurrentSalary    28875.0\n",
       "After6Months     21900.0\n",
       "SalBegin         15000.0\n",
       "dtype: float64"
      ]
     },
     "execution_count": 20,
     "metadata": {},
     "output_type": "execute_result"
    }
   ],
   "source": [
    "data[['CurrentSalary','After6Months', 'SalBegin']].median()"
   ]
  },
  {
   "cell_type": "code",
   "execution_count": 21,
   "metadata": {},
   "outputs": [
    {
     "data": {
      "text/html": [
       "<div>\n",
       "<style scoped>\n",
       "    .dataframe tbody tr th:only-of-type {\n",
       "        vertical-align: middle;\n",
       "    }\n",
       "\n",
       "    .dataframe tbody tr th {\n",
       "        vertical-align: top;\n",
       "    }\n",
       "\n",
       "    .dataframe thead th {\n",
       "        text-align: right;\n",
       "    }\n",
       "</style>\n",
       "<table border=\"1\" class=\"dataframe\">\n",
       "  <thead>\n",
       "    <tr style=\"text-align: right;\">\n",
       "      <th></th>\n",
       "      <th>CurrentSalary</th>\n",
       "      <th>After6Months</th>\n",
       "      <th>SalBegin</th>\n",
       "    </tr>\n",
       "  </thead>\n",
       "  <tbody>\n",
       "    <tr>\n",
       "      <td>0</td>\n",
       "      <td>30750</td>\n",
       "      <td>22875.0</td>\n",
       "      <td>15000</td>\n",
       "    </tr>\n",
       "  </tbody>\n",
       "</table>\n",
       "</div>"
      ],
      "text/plain": [
       "   CurrentSalary  After6Months  SalBegin\n",
       "0          30750       22875.0     15000"
      ]
     },
     "execution_count": 21,
     "metadata": {},
     "output_type": "execute_result"
    }
   ],
   "source": [
    "data[['CurrentSalary','After6Months', 'SalBegin']].mode()"
   ]
  },
  {
   "cell_type": "code",
   "execution_count": 22,
   "metadata": {},
   "outputs": [
    {
     "data": {
      "text/plain": [
       "CurrentSalary    2.915782e+08\n",
       "After6Months     1.475236e+08\n",
       "SalBegin         6.194694e+07\n",
       "dtype: float64"
      ]
     },
     "execution_count": 22,
     "metadata": {},
     "output_type": "execute_result"
    }
   ],
   "source": [
    "data[['CurrentSalary','After6Months', 'SalBegin']].var()"
   ]
  },
  {
   "cell_type": "code",
   "execution_count": 23,
   "metadata": {},
   "outputs": [
    {
     "data": {
      "text/plain": [
       "CurrentSalary    17075.661465\n",
       "After6Months     12145.928474\n",
       "SalBegin          7870.638154\n",
       "dtype: float64"
      ]
     },
     "execution_count": 23,
     "metadata": {},
     "output_type": "execute_result"
    }
   ],
   "source": [
    "data[['CurrentSalary','After6Months', 'SalBegin']].std()"
   ]
  },
  {
   "cell_type": "code",
   "execution_count": 24,
   "metadata": {},
   "outputs": [
    {
     "data": {
      "text/plain": [
       "CurrentSalary    16314875.0\n",
       "After6Months     12190250.0\n",
       "SalBegin          8065625.0\n",
       "dtype: float64"
      ]
     },
     "execution_count": 24,
     "metadata": {},
     "output_type": "execute_result"
    }
   ],
   "source": [
    "data[['CurrentSalary','After6Months', 'SalBegin']].sum()"
   ]
  },
  {
   "cell_type": "code",
   "execution_count": 25,
   "metadata": {},
   "outputs": [
    {
     "data": {
      "text/html": [
       "<div>\n",
       "<style scoped>\n",
       "    .dataframe tbody tr th:only-of-type {\n",
       "        vertical-align: middle;\n",
       "    }\n",
       "\n",
       "    .dataframe tbody tr th {\n",
       "        vertical-align: top;\n",
       "    }\n",
       "\n",
       "    .dataframe thead th {\n",
       "        text-align: right;\n",
       "    }\n",
       "</style>\n",
       "<table border=\"1\" class=\"dataframe\">\n",
       "  <thead>\n",
       "    <tr style=\"text-align: right;\">\n",
       "      <th></th>\n",
       "      <th>CurrentSalary</th>\n",
       "      <th>After6Months</th>\n",
       "      <th>SalBegin</th>\n",
       "    </tr>\n",
       "  </thead>\n",
       "  <tbody>\n",
       "    <tr>\n",
       "      <td>count</td>\n",
       "      <td>474.000000</td>\n",
       "      <td>474.000000</td>\n",
       "      <td>474.000000</td>\n",
       "    </tr>\n",
       "    <tr>\n",
       "      <td>mean</td>\n",
       "      <td>34419.567511</td>\n",
       "      <td>25717.827004</td>\n",
       "      <td>17016.086498</td>\n",
       "    </tr>\n",
       "    <tr>\n",
       "      <td>std</td>\n",
       "      <td>17075.661465</td>\n",
       "      <td>12145.928474</td>\n",
       "      <td>7870.638154</td>\n",
       "    </tr>\n",
       "    <tr>\n",
       "      <td>min</td>\n",
       "      <td>15750.000000</td>\n",
       "      <td>12975.000000</td>\n",
       "      <td>9000.000000</td>\n",
       "    </tr>\n",
       "    <tr>\n",
       "      <td>25%</td>\n",
       "      <td>24000.000000</td>\n",
       "      <td>18468.750000</td>\n",
       "      <td>12487.500000</td>\n",
       "    </tr>\n",
       "    <tr>\n",
       "      <td>50%</td>\n",
       "      <td>28875.000000</td>\n",
       "      <td>21900.000000</td>\n",
       "      <td>15000.000000</td>\n",
       "    </tr>\n",
       "    <tr>\n",
       "      <td>75%</td>\n",
       "      <td>36937.500000</td>\n",
       "      <td>27262.500000</td>\n",
       "      <td>17490.000000</td>\n",
       "    </tr>\n",
       "    <tr>\n",
       "      <td>max</td>\n",
       "      <td>135000.000000</td>\n",
       "      <td>107490.000000</td>\n",
       "      <td>79980.000000</td>\n",
       "    </tr>\n",
       "  </tbody>\n",
       "</table>\n",
       "</div>"
      ],
      "text/plain": [
       "       CurrentSalary   After6Months      SalBegin\n",
       "count     474.000000     474.000000    474.000000\n",
       "mean    34419.567511   25717.827004  17016.086498\n",
       "std     17075.661465   12145.928474   7870.638154\n",
       "min     15750.000000   12975.000000   9000.000000\n",
       "25%     24000.000000   18468.750000  12487.500000\n",
       "50%     28875.000000   21900.000000  15000.000000\n",
       "75%     36937.500000   27262.500000  17490.000000\n",
       "max    135000.000000  107490.000000  79980.000000"
      ]
     },
     "execution_count": 25,
     "metadata": {},
     "output_type": "execute_result"
    }
   ],
   "source": [
    "data[['CurrentSalary','After6Months', 'SalBegin']].describe()"
   ]
  },
  {
   "cell_type": "code",
   "execution_count": 26,
   "metadata": {},
   "outputs": [
    {
     "data": {
      "text/plain": [
       "CurrentSalary    2.124606\n",
       "After6Months     2.267649\n",
       "SalBegin         2.852856\n",
       "dtype: float64"
      ]
     },
     "execution_count": 26,
     "metadata": {},
     "output_type": "execute_result"
    }
   ],
   "source": [
    "data[['CurrentSalary','After6Months', 'SalBegin']].skew()"
   ]
  },
  {
   "cell_type": "code",
   "execution_count": 27,
   "metadata": {},
   "outputs": [
    {
     "data": {
      "text/plain": [
       "CurrentSalary     5.377822\n",
       "After6Months      6.823250\n",
       "SalBegin         12.390215\n",
       "dtype: float64"
      ]
     },
     "execution_count": 27,
     "metadata": {},
     "output_type": "execute_result"
    }
   ],
   "source": [
    "data[['CurrentSalary','After6Months', 'SalBegin']].kurt()"
   ]
  },
  {
   "cell_type": "code",
   "execution_count": 28,
   "metadata": {},
   "outputs": [
    {
     "data": {
      "text/plain": [
       "array([[<matplotlib.axes._subplots.AxesSubplot object at 0x0000000009140248>,\n",
       "        <matplotlib.axes._subplots.AxesSubplot object at 0x0000000008EFA4C8>],\n",
       "       [<matplotlib.axes._subplots.AxesSubplot object at 0x0000000008F5B048>,\n",
       "        <matplotlib.axes._subplots.AxesSubplot object at 0x0000000008F0C248>]],\n",
       "      dtype=object)"
      ]
     },
     "execution_count": 28,
     "metadata": {},
     "output_type": "execute_result"
    },
    {
     "data": {
      "image/png": "[encoded data removed]",
      "text/plain": [
       "<Figure size 432x288 with 4 Axes>"
      ]
     },
     "metadata": {
      "needs_background": "light"
     },
     "output_type": "display_data"
    }
   ],
   "source": [
    "data.hist(['CurrentSalary','After6Months', 'SalBegin'])"
   ]
  },
  {
   "cell_type": "code",
   "execution_count": 30,
   "metadata": {},
   "outputs": [
    {
     "data": {
      "text/html": [
       "<div>\n",
       "<style scoped>\n",
       "    .dataframe tbody tr th:only-of-type {\n",
       "        vertical-align: middle;\n",
       "    }\n",
       "\n",
       "    .dataframe tbody tr th {\n",
       "        vertical-align: top;\n",
       "    }\n",
       "\n",
       "    .dataframe thead th {\n",
       "        text-align: right;\n",
       "    }\n",
       "</style>\n",
       "<table border=\"1\" class=\"dataframe\">\n",
       "  <thead>\n",
       "    <tr style=\"text-align: right;\">\n",
       "      <th></th>\n",
       "      <th>ID</th>\n",
       "      <th>Gender</th>\n",
       "      <th>Birth Date</th>\n",
       "      <th>Education</th>\n",
       "      <th>JobCategory</th>\n",
       "      <th>CurrentSalary</th>\n",
       "      <th>After6Months</th>\n",
       "      <th>SalBegin</th>\n",
       "      <th>Job Time</th>\n",
       "      <th>Prev Exep</th>\n",
       "      <th>Minority</th>\n",
       "    </tr>\n",
       "  </thead>\n",
       "  <tbody>\n",
       "    <tr>\n",
       "      <td>226</td>\n",
       "      <td>18</td>\n",
       "      <td>m</td>\n",
       "      <td>03/20/1956</td>\n",
       "      <td>16</td>\n",
       "      <td>3</td>\n",
       "      <td>103750</td>\n",
       "      <td>65630.0</td>\n",
       "      <td>27510</td>\n",
       "      <td>97</td>\n",
       "      <td>70</td>\n",
       "      <td>0</td>\n",
       "    </tr>\n",
       "    <tr>\n",
       "      <td>232</td>\n",
       "      <td>29</td>\n",
       "      <td>m</td>\n",
       "      <td>01/28/1944</td>\n",
       "      <td>19</td>\n",
       "      <td>3</td>\n",
       "      <td>135000</td>\n",
       "      <td>107490.0</td>\n",
       "      <td>79980</td>\n",
       "      <td>96</td>\n",
       "      <td>199</td>\n",
       "      <td>0</td>\n",
       "    </tr>\n",
       "    <tr>\n",
       "      <td>235</td>\n",
       "      <td>32</td>\n",
       "      <td>m</td>\n",
       "      <td>01/28/1954</td>\n",
       "      <td>19</td>\n",
       "      <td>3</td>\n",
       "      <td>110625</td>\n",
       "      <td>77812.5</td>\n",
       "      <td>45000</td>\n",
       "      <td>96</td>\n",
       "      <td>120</td>\n",
       "      <td>0</td>\n",
       "    </tr>\n",
       "    <tr>\n",
       "      <td>280</td>\n",
       "      <td>103</td>\n",
       "      <td>m</td>\n",
       "      <td>03/17/1959</td>\n",
       "      <td>19</td>\n",
       "      <td>3</td>\n",
       "      <td>97000</td>\n",
       "      <td>66005.0</td>\n",
       "      <td>35010</td>\n",
       "      <td>91</td>\n",
       "      <td>68</td>\n",
       "      <td>0</td>\n",
       "    </tr>\n",
       "    <tr>\n",
       "      <td>409</td>\n",
       "      <td>343</td>\n",
       "      <td>m</td>\n",
       "      <td>1953-09-06 00:00:00</td>\n",
       "      <td>16</td>\n",
       "      <td>3</td>\n",
       "      <td>103500</td>\n",
       "      <td>81750.0</td>\n",
       "      <td>60000</td>\n",
       "      <td>73</td>\n",
       "      <td>150</td>\n",
       "      <td>0</td>\n",
       "    </tr>\n",
       "    <tr>\n",
       "      <td>457</td>\n",
       "      <td>446</td>\n",
       "      <td>m</td>\n",
       "      <td>1958-03-08 00:00:00</td>\n",
       "      <td>16</td>\n",
       "      <td>3</td>\n",
       "      <td>100000</td>\n",
       "      <td>72050.0</td>\n",
       "      <td>44100</td>\n",
       "      <td>66</td>\n",
       "      <td>128</td>\n",
       "      <td>1</td>\n",
       "    </tr>\n",
       "  </tbody>\n",
       "</table>\n",
       "</div>"
      ],
      "text/plain": [
       "      ID Gender           Birth Date  Education  JobCategory  CurrentSalary  \\\n",
       "226   18      m           03/20/1956         16            3         103750   \n",
       "232   29      m           01/28/1944         19            3         135000   \n",
       "235   32      m           01/28/1954         19            3         110625   \n",
       "280  103      m           03/17/1959         19            3          97000   \n",
       "409  343      m  1953-09-06 00:00:00         16            3         103500   \n",
       "457  446      m  1958-03-08 00:00:00         16            3         100000   \n",
       "\n",
       "     After6Months  SalBegin  Job Time  Prev Exep  Minority  \n",
       "226       65630.0     27510        97         70         0  \n",
       "232      107490.0     79980        96        199         0  \n",
       "235       77812.5     45000        96        120         0  \n",
       "280       66005.0     35010        91         68         0  \n",
       "409       81750.0     60000        73        150         0  \n",
       "457       72050.0     44100        66        128         1  "
      ]
     },
     "execution_count": 30,
     "metadata": {},
     "output_type": "execute_result"
    }
   ],
   "source": [
    "data2=data[data['CurrentSalary']>95000]\n",
    "data2"
   ]
  },
  {
   "cell_type": "code",
   "execution_count": 31,
   "metadata": {},
   "outputs": [
    {
     "data": {
      "text/html": [
       "<div>\n",
       "<style scoped>\n",
       "    .dataframe tbody tr th:only-of-type {\n",
       "        vertical-align: middle;\n",
       "    }\n",
       "\n",
       "    .dataframe tbody tr th {\n",
       "        vertical-align: top;\n",
       "    }\n",
       "\n",
       "    .dataframe thead th {\n",
       "        text-align: right;\n",
       "    }\n",
       "</style>\n",
       "<table border=\"1\" class=\"dataframe\">\n",
       "  <thead>\n",
       "    <tr style=\"text-align: right;\">\n",
       "      <th></th>\n",
       "      <th>ID</th>\n",
       "      <th>Gender</th>\n",
       "      <th>Birth Date</th>\n",
       "      <th>Education</th>\n",
       "      <th>JobCategory</th>\n",
       "      <th>CurrentSalary</th>\n",
       "      <th>After6Months</th>\n",
       "      <th>SalBegin</th>\n",
       "      <th>Job Time</th>\n",
       "      <th>Prev Exep</th>\n",
       "      <th>Minority</th>\n",
       "    </tr>\n",
       "  </thead>\n",
       "  <tbody>\n",
       "    <tr>\n",
       "      <td>0</td>\n",
       "      <td>3</td>\n",
       "      <td>f</td>\n",
       "      <td>07/26/1929</td>\n",
       "      <td>12</td>\n",
       "      <td>1</td>\n",
       "      <td>21450</td>\n",
       "      <td>16725.0</td>\n",
       "      <td>12000</td>\n",
       "      <td>98</td>\n",
       "      <td>381</td>\n",
       "      <td>0</td>\n",
       "    </tr>\n",
       "    <tr>\n",
       "      <td>1</td>\n",
       "      <td>4</td>\n",
       "      <td>f</td>\n",
       "      <td>04/15/1947</td>\n",
       "      <td>8</td>\n",
       "      <td>1</td>\n",
       "      <td>21900</td>\n",
       "      <td>17550.0</td>\n",
       "      <td>13200</td>\n",
       "      <td>98</td>\n",
       "      <td>190</td>\n",
       "      <td>0</td>\n",
       "    </tr>\n",
       "    <tr>\n",
       "      <td>2</td>\n",
       "      <td>8</td>\n",
       "      <td>f</td>\n",
       "      <td>1966-06-05 00:00:00</td>\n",
       "      <td>12</td>\n",
       "      <td>1</td>\n",
       "      <td>21900</td>\n",
       "      <td>15825.0</td>\n",
       "      <td>9750</td>\n",
       "      <td>98</td>\n",
       "      <td>0</td>\n",
       "      <td>0</td>\n",
       "    </tr>\n",
       "    <tr>\n",
       "      <td>3</td>\n",
       "      <td>9</td>\n",
       "      <td>f</td>\n",
       "      <td>01/23/1946</td>\n",
       "      <td>15</td>\n",
       "      <td>1</td>\n",
       "      <td>27900</td>\n",
       "      <td>20325.0</td>\n",
       "      <td>12750</td>\n",
       "      <td>98</td>\n",
       "      <td>115</td>\n",
       "      <td>0</td>\n",
       "    </tr>\n",
       "    <tr>\n",
       "      <td>4</td>\n",
       "      <td>10</td>\n",
       "      <td>f</td>\n",
       "      <td>02/13/1946</td>\n",
       "      <td>12</td>\n",
       "      <td>1</td>\n",
       "      <td>24000</td>\n",
       "      <td>18750.0</td>\n",
       "      <td>13500</td>\n",
       "      <td>98</td>\n",
       "      <td>244</td>\n",
       "      <td>0</td>\n",
       "    </tr>\n",
       "    <tr>\n",
       "      <td>...</td>\n",
       "      <td>...</td>\n",
       "      <td>...</td>\n",
       "      <td>...</td>\n",
       "      <td>...</td>\n",
       "      <td>...</td>\n",
       "      <td>...</td>\n",
       "      <td>...</td>\n",
       "      <td>...</td>\n",
       "      <td>...</td>\n",
       "      <td>...</td>\n",
       "      <td>...</td>\n",
       "    </tr>\n",
       "    <tr>\n",
       "      <td>469</td>\n",
       "      <td>464</td>\n",
       "      <td>m</td>\n",
       "      <td>03/20/1962</td>\n",
       "      <td>19</td>\n",
       "      <td>3</td>\n",
       "      <td>47550</td>\n",
       "      <td>40275.0</td>\n",
       "      <td>33000</td>\n",
       "      <td>64</td>\n",
       "      <td>27</td>\n",
       "      <td>0</td>\n",
       "    </tr>\n",
       "    <tr>\n",
       "      <td>470</td>\n",
       "      <td>465</td>\n",
       "      <td>m</td>\n",
       "      <td>07/20/1962</td>\n",
       "      <td>12</td>\n",
       "      <td>1</td>\n",
       "      <td>33900</td>\n",
       "      <td>25200.0</td>\n",
       "      <td>16500</td>\n",
       "      <td>64</td>\n",
       "      <td>106</td>\n",
       "      <td>0</td>\n",
       "    </tr>\n",
       "    <tr>\n",
       "      <td>471</td>\n",
       "      <td>470</td>\n",
       "      <td>m</td>\n",
       "      <td>01/22/1964</td>\n",
       "      <td>12</td>\n",
       "      <td>1</td>\n",
       "      <td>26250</td>\n",
       "      <td>21000.0</td>\n",
       "      <td>15750</td>\n",
       "      <td>64</td>\n",
       "      <td>69</td>\n",
       "      <td>1</td>\n",
       "    </tr>\n",
       "    <tr>\n",
       "      <td>472</td>\n",
       "      <td>471</td>\n",
       "      <td>m</td>\n",
       "      <td>1966-03-08 00:00:00</td>\n",
       "      <td>15</td>\n",
       "      <td>1</td>\n",
       "      <td>26400</td>\n",
       "      <td>21075.0</td>\n",
       "      <td>15750</td>\n",
       "      <td>64</td>\n",
       "      <td>32</td>\n",
       "      <td>1</td>\n",
       "    </tr>\n",
       "    <tr>\n",
       "      <td>473</td>\n",
       "      <td>472</td>\n",
       "      <td>m</td>\n",
       "      <td>02/21/1966</td>\n",
       "      <td>15</td>\n",
       "      <td>1</td>\n",
       "      <td>39150</td>\n",
       "      <td>27450.0</td>\n",
       "      <td>15750</td>\n",
       "      <td>63</td>\n",
       "      <td>46</td>\n",
       "      <td>0</td>\n",
       "    </tr>\n",
       "  </tbody>\n",
       "</table>\n",
       "<p>427 rows × 11 columns</p>\n",
       "</div>"
      ],
      "text/plain": [
       "      ID Gender           Birth Date  Education  JobCategory  CurrentSalary  \\\n",
       "0      3      f           07/26/1929         12            1          21450   \n",
       "1      4      f           04/15/1947          8            1          21900   \n",
       "2      8      f  1966-06-05 00:00:00         12            1          21900   \n",
       "3      9      f           01/23/1946         15            1          27900   \n",
       "4     10      f           02/13/1946         12            1          24000   \n",
       "..   ...    ...                  ...        ...          ...            ...   \n",
       "469  464      m           03/20/1962         19            3          47550   \n",
       "470  465      m           07/20/1962         12            1          33900   \n",
       "471  470      m           01/22/1964         12            1          26250   \n",
       "472  471      m  1966-03-08 00:00:00         15            1          26400   \n",
       "473  472      m           02/21/1966         15            1          39150   \n",
       "\n",
       "     After6Months  SalBegin  Job Time  Prev Exep  Minority  \n",
       "0         16725.0     12000        98        381         0  \n",
       "1         17550.0     13200        98        190         0  \n",
       "2         15825.0      9750        98          0         0  \n",
       "3         20325.0     12750        98        115         0  \n",
       "4         18750.0     13500        98        244         0  \n",
       "..            ...       ...       ...        ...       ...  \n",
       "469       40275.0     33000        64         27         0  \n",
       "470       25200.0     16500        64        106         0  \n",
       "471       21000.0     15750        64         69         1  \n",
       "472       21075.0     15750        64         32         1  \n",
       "473       27450.0     15750        63         46         0  \n",
       "\n",
       "[427 rows x 11 columns]"
      ]
     },
     "execution_count": 31,
     "metadata": {},
     "output_type": "execute_result"
    }
   ],
   "source": [
    "data2=data[data['CurrentSalary']<60000]\n",
    "data2"
   ]
  },
  {
   "cell_type": "code",
   "execution_count": 32,
   "metadata": {
    "scrolled": true
   },
   "outputs": [
    {
     "data": {
      "text/html": [
       "<div>\n",
       "<style scoped>\n",
       "    .dataframe tbody tr th:only-of-type {\n",
       "        vertical-align: middle;\n",
       "    }\n",
       "\n",
       "    .dataframe tbody tr th {\n",
       "        vertical-align: top;\n",
       "    }\n",
       "\n",
       "    .dataframe thead th {\n",
       "        text-align: right;\n",
       "    }\n",
       "</style>\n",
       "<table border=\"1\" class=\"dataframe\">\n",
       "  <thead>\n",
       "    <tr style=\"text-align: right;\">\n",
       "      <th>JobCategory</th>\n",
       "      <th>1</th>\n",
       "      <th>2</th>\n",
       "      <th>3</th>\n",
       "    </tr>\n",
       "    <tr>\n",
       "      <th>Gender</th>\n",
       "      <th></th>\n",
       "      <th></th>\n",
       "      <th></th>\n",
       "    </tr>\n",
       "  </thead>\n",
       "  <tbody>\n",
       "    <tr>\n",
       "      <td>f</td>\n",
       "      <td>206</td>\n",
       "      <td>0</td>\n",
       "      <td>10</td>\n",
       "    </tr>\n",
       "    <tr>\n",
       "      <td>m</td>\n",
       "      <td>157</td>\n",
       "      <td>27</td>\n",
       "      <td>74</td>\n",
       "    </tr>\n",
       "  </tbody>\n",
       "</table>\n",
       "</div>"
      ],
      "text/plain": [
       "JobCategory    1   2   3\n",
       "Gender                  \n",
       "f            206   0  10\n",
       "m            157  27  74"
      ]
     },
     "execution_count": 32,
     "metadata": {},
     "output_type": "execute_result"
    }
   ],
   "source": [
    "pd.crosstab(data['Gender'],data['JobCategory'])"
   ]
  },
  {
   "cell_type": "code",
   "execution_count": 33,
   "metadata": {},
   "outputs": [
    {
     "data": {
      "text/html": [
       "<div>\n",
       "<style scoped>\n",
       "    .dataframe tbody tr th:only-of-type {\n",
       "        vertical-align: middle;\n",
       "    }\n",
       "\n",
       "    .dataframe tbody tr th {\n",
       "        vertical-align: top;\n",
       "    }\n",
       "\n",
       "    .dataframe thead th {\n",
       "        text-align: right;\n",
       "    }\n",
       "</style>\n",
       "<table border=\"1\" class=\"dataframe\">\n",
       "  <thead>\n",
       "    <tr style=\"text-align: right;\">\n",
       "      <th>JobCategory</th>\n",
       "      <th>1</th>\n",
       "      <th>2</th>\n",
       "      <th>3</th>\n",
       "    </tr>\n",
       "    <tr>\n",
       "      <th>Education</th>\n",
       "      <th></th>\n",
       "      <th></th>\n",
       "      <th></th>\n",
       "    </tr>\n",
       "  </thead>\n",
       "  <tbody>\n",
       "    <tr>\n",
       "      <td>8</td>\n",
       "      <td>40</td>\n",
       "      <td>13</td>\n",
       "      <td>0</td>\n",
       "    </tr>\n",
       "    <tr>\n",
       "      <td>12</td>\n",
       "      <td>176</td>\n",
       "      <td>13</td>\n",
       "      <td>1</td>\n",
       "    </tr>\n",
       "    <tr>\n",
       "      <td>14</td>\n",
       "      <td>6</td>\n",
       "      <td>0</td>\n",
       "      <td>0</td>\n",
       "    </tr>\n",
       "    <tr>\n",
       "      <td>15</td>\n",
       "      <td>111</td>\n",
       "      <td>1</td>\n",
       "      <td>4</td>\n",
       "    </tr>\n",
       "    <tr>\n",
       "      <td>16</td>\n",
       "      <td>24</td>\n",
       "      <td>0</td>\n",
       "      <td>35</td>\n",
       "    </tr>\n",
       "    <tr>\n",
       "      <td>17</td>\n",
       "      <td>3</td>\n",
       "      <td>0</td>\n",
       "      <td>8</td>\n",
       "    </tr>\n",
       "    <tr>\n",
       "      <td>18</td>\n",
       "      <td>2</td>\n",
       "      <td>0</td>\n",
       "      <td>7</td>\n",
       "    </tr>\n",
       "    <tr>\n",
       "      <td>19</td>\n",
       "      <td>1</td>\n",
       "      <td>0</td>\n",
       "      <td>26</td>\n",
       "    </tr>\n",
       "    <tr>\n",
       "      <td>20</td>\n",
       "      <td>0</td>\n",
       "      <td>0</td>\n",
       "      <td>2</td>\n",
       "    </tr>\n",
       "    <tr>\n",
       "      <td>21</td>\n",
       "      <td>0</td>\n",
       "      <td>0</td>\n",
       "      <td>1</td>\n",
       "    </tr>\n",
       "  </tbody>\n",
       "</table>\n",
       "</div>"
      ],
      "text/plain": [
       "JobCategory    1   2   3\n",
       "Education               \n",
       "8             40  13   0\n",
       "12           176  13   1\n",
       "14             6   0   0\n",
       "15           111   1   4\n",
       "16            24   0  35\n",
       "17             3   0   8\n",
       "18             2   0   7\n",
       "19             1   0  26\n",
       "20             0   0   2\n",
       "21             0   0   1"
      ]
     },
     "execution_count": 33,
     "metadata": {},
     "output_type": "execute_result"
    }
   ],
   "source": [
    "pd.crosstab(data['Education'],data['JobCategory'])"
   ]
  },
  {
   "cell_type": "code",
   "execution_count": 34,
   "metadata": {},
   "outputs": [
    {
     "data": {
      "text/plain": [
       "<matplotlib.collections.PathCollection at 0x5476608>"
      ]
     },
     "execution_count": 34,
     "metadata": {},
     "output_type": "execute_result"
    },
    {
     "data": {
      "image/png": "[encoded data removed]",
      "text/plain": [
       "<Figure size 432x288 with 1 Axes>"
      ]
     },
     "metadata": {
      "needs_background": "light"
     },
     "output_type": "display_data"
    }
   ],
   "source": [
    "plt.scatter(data.Education, data.JobCategory)"
   ]
  },
  {
   "cell_type": "code",
   "execution_count": 35,
   "metadata": {
    "scrolled": true
   },
   "outputs": [
    {
     "data": {
      "text/plain": [
       "<matplotlib.collections.PathCollection at 0x54e6108>"
      ]
     },
     "execution_count": 35,
     "metadata": {},
     "output_type": "execute_result"
    },
    {
     "data": {
      "image/png": "[encoded data removed]",
      "text/plain": [
       "<Figure size 432x288 with 1 Axes>"
      ]
     },
     "metadata": {
      "needs_background": "light"
     },
     "output_type": "display_data"
    }
   ],
   "source": [
    "plt.scatter(data.Education, data.CurrentSalary)"
   ]
  },
  {
   "cell_type": "code",
   "execution_count": 36,
   "metadata": {},
   "outputs": [
    {
     "data": {
      "text/plain": [
       "<matplotlib.collections.PathCollection at 0x54e6088>"
      ]
     },
     "execution_count": 36,
     "metadata": {},
     "output_type": "execute_result"
    },
    {
     "data": {
      "image/png": "[encoded data removed]",
      "text/plain": [
       "<Figure size 432x288 with 1 Axes>"
      ]
     },
     "metadata": {
      "needs_background": "light"
     },
     "output_type": "display_data"
    }
   ],
   "source": [
    "plt.scatter(data.Gender, data.CurrentSalary)"
   ]
  },
  {
   "cell_type": "markdown",
   "metadata": {},
   "source": [
    "***"
   ]
  }
 ],
 "metadata": {
  "kernelspec": {
   "display_name": "Python 3",
   "language": "python",
   "name": "python3"
  },
  "language_info": {
   "codemirror_mode": {
    "name": "ipython",
    "version": 3
   },
   "file_extension": ".py",
   "mimetype": "text/x-python",
   "name": "python",
   "nbconvert_exporter": "python",
   "pygments_lexer": "ipython3",
   "version": "3.7.4"
  }
 },
 "nbformat": 4,
 "nbformat_minor": 2
}
