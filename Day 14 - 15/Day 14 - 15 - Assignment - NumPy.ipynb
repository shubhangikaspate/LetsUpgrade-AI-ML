{
 "cells": [
  {
   "cell_type": "markdown",
   "metadata": {},
   "source": [
    "# Numpy"
   ]
  },
  {
   "cell_type": "code",
   "execution_count": 1,
   "metadata": {},
   "outputs": [],
   "source": [
    "import numpy as np\n",
    "import pandas as pd"
   ]
  },
  {
   "cell_type": "markdown",
   "metadata": {},
   "source": [
    "\n",
    "1. Create a 3x3x3 array with random values\n"
   ]
  },
  {
   "cell_type": "code",
   "execution_count": 2,
   "metadata": {},
   "outputs": [
    {
     "name": "stdout",
     "output_type": "stream",
     "text": [
      "[[[0.96838284 0.07997594 0.42564637]\n",
      "  [0.79752608 0.19632408 0.67631177]\n",
      "  [0.79341661 0.5614027  0.12612526]]\n",
      "\n",
      " [[0.07543146 0.72819381 0.20561997]\n",
      "  [0.9606544  0.78776298 0.48337693]\n",
      "  [0.25560745 0.16314145 0.19899236]]\n",
      "\n",
      " [[0.52136038 0.7118674  0.19669642]\n",
      "  [0.58700358 0.85052448 0.21703932]\n",
      "  [0.52652615 0.51232057 0.71250254]]]\n"
     ]
    }
   ],
   "source": [
    "x = np.random.random((3,3,3))\n",
    "\n",
    "print (x)"
   ]
  },
  {
   "cell_type": "markdown",
   "metadata": {},
   "source": [
    "_____"
   ]
  },
  {
   "cell_type": "markdown",
   "metadata": {},
   "source": [
    "2. Create a 5x5 matrix with values 1,2,3,4 just below the diagonal"
   ]
  },
  {
   "cell_type": "code",
   "execution_count": 3,
   "metadata": {},
   "outputs": [
    {
     "name": "stdout",
     "output_type": "stream",
     "text": [
      "[[1 0 0 0 0]\n",
      " [0 2 0 0 0]\n",
      " [0 0 3 0 0]\n",
      " [0 0 0 4 0]\n",
      " [0 0 0 0 5]]\n"
     ]
    }
   ],
   "source": [
    "# a. matrix using .diag()\n",
    "\n",
    "mat_a = np.diag([1, 2, 3, 4, 5])\n",
    "\n",
    "print(mat_a)"
   ]
  },
  {
   "cell_type": "code",
   "execution_count": 7,
   "metadata": {},
   "outputs": [
    {
     "name": "stdout",
     "output_type": "stream",
     "text": [
      "[[0 0 0 0 0]\n",
      " [1 0 0 0 0]\n",
      " [0 2 0 0 0]\n",
      " [0 0 3 0 0]\n",
      " [0 0 0 4 0]]\n"
     ]
    }
   ],
   "source": [
    "# b. matrix using .diag() and arange()\n",
    "\n",
    "matrix_a = np.diag(1+np.arange(4),k=-1)\n",
    "\n",
    "print(matrix_a)"
   ]
  },
  {
   "cell_type": "markdown",
   "metadata": {},
   "source": [
    "____"
   ]
  },
  {
   "cell_type": "markdown",
   "metadata": {},
   "source": [
    "3. Create a 8x8 matrix and fill it with a checkerboard pattern"
   ]
  },
  {
   "cell_type": "code",
   "execution_count": 9,
   "metadata": {},
   "outputs": [
    {
     "name": "stdout",
     "output_type": "stream",
     "text": [
      "[[0 1 0 1 0 1 0 1]\n",
      " [1 0 1 0 1 0 1 0]\n",
      " [0 1 0 1 0 1 0 1]\n",
      " [1 0 1 0 1 0 1 0]\n",
      " [0 1 0 1 0 1 0 1]\n",
      " [1 0 1 0 1 0 1 0]\n",
      " [0 1 0 1 0 1 0 1]\n",
      " [1 0 1 0 1 0 1 0]]\n"
     ]
    }
   ],
   "source": [
    "# a.\n",
    "\n",
    "matrix_1 = np.zeros((8,8),dtype=int)\n",
    "\n",
    "matrix_1[1::2,::2] = 1\n",
    "\n",
    "matrix_1[::2,1::2] = 1\n",
    "\n",
    "print(matrix_1)"
   ]
  },
  {
   "cell_type": "code",
   "execution_count": 12,
   "metadata": {},
   "outputs": [
    {
     "name": "stdout",
     "output_type": "stream",
     "text": [
      "Checkerboard pattern:\n",
      "[[0 1 0 1 0 1 0 1]\n",
      " [1 0 1 0 1 0 1 0]\n",
      " [0 1 0 1 0 1 0 1]\n",
      " [1 0 1 0 1 0 1 0]\n",
      " [0 1 0 1 0 1 0 1]\n",
      " [1 0 1 0 1 0 1 0]\n",
      " [0 1 0 1 0 1 0 1]\n",
      " [1 0 1 0 1 0 1 0]]\n"
     ]
    }
   ],
   "source": [
    "# b.\n",
    "\n",
    "mat2 = np.ones((4,4))\n",
    "print(\"Checkerboard pattern:\")\n",
    "mat2 = np.zeros((8,8),dtype=int)\n",
    "mat2[1::2,::2] = 1\n",
    "mat2[::2,1::2] = 1\n",
    "print(mat2)"
   ]
  },
  {
   "cell_type": "markdown",
   "metadata": {},
   "source": [
    "_______________"
   ]
  },
  {
   "cell_type": "markdown",
   "metadata": {},
   "source": [
    "4. Normalize a 5x5 random matrix"
   ]
  },
  {
   "cell_type": "code",
   "execution_count": 13,
   "metadata": {},
   "outputs": [
    {
     "name": "stdout",
     "output_type": "stream",
     "text": [
      "[[0.41831163 0.66352626 0.16758368 0.68313841 0.08814198]\n",
      " [1.         0.         0.86978123 0.15886971 0.87808457]\n",
      " [0.53079692 0.60830285 0.02671995 0.95292528 0.93525366]\n",
      " [0.80950548 0.26920113 0.18193345 0.60746815 0.393624  ]\n",
      " [0.21321714 0.82722209 0.62767907 0.1664121  0.00232567]]\n"
     ]
    }
   ],
   "source": [
    "\n",
    "A = np.random.random((5,5))\n",
    "Amax, Amin = A.max(), A.min()\n",
    "A= (A-Amin)/(Amax-Amin)\n",
    "print (A)\n"
   ]
  },
  {
   "cell_type": "code",
   "execution_count": 17,
   "metadata": {},
   "outputs": [
    {
     "name": "stdout",
     "output_type": "stream",
     "text": [
      "Original Array:\n",
      "[[0.70569053 0.71892749 0.64762284 0.36293038]\n",
      " [0.72727803 0.12836903 0.2803122  0.58922961]\n",
      " [0.66338871 0.24001429 0.89504539 0.61181986]\n",
      " [0.91448899 0.74644487 0.34461439 0.85977367]]\n",
      "After normalization:\n",
      "[[0.73439364 0.75123199 0.66052744 0.29837857]\n",
      " [0.76185446 0.         0.19328242 0.58624714]\n",
      " [0.68058274 0.14202065 0.97526637 0.61498354]\n",
      " [1.         0.78623603 0.27507935 0.93039825]]\n"
     ]
    }
   ],
   "source": [
    "# B\n",
    "\n",
    "B= np.random.random((4,4))\n",
    "print(\"Original Array:\")\n",
    "\n",
    "print(B)\n",
    "\n",
    "\n",
    "\n",
    "Bmax, Bmin = B.max(), B.min()\n",
    "B = (B - Bmin)/(Bmax - Bmin)\n",
    "print(\"After normalization:\")\n",
    "print(B)\n",
    "\n"
   ]
  },
  {
   "cell_type": "markdown",
   "metadata": {},
   "source": [
    "_________________"
   ]
  },
  {
   "cell_type": "markdown",
   "metadata": {},
   "source": [
    "5. How to find common values between two arrays?"
   ]
  },
  {
   "cell_type": "code",
   "execution_count": 18,
   "metadata": {},
   "outputs": [
    {
     "name": "stdout",
     "output_type": "stream",
     "text": [
      "Array1:  [ 10  20  40  60  80  70 100  55  35  85]\n",
      "Array2:  [10, 100, 80, 70, 40]\n",
      "Common values between two arrays:\n",
      "[ 10  40  70  80 100]\n"
     ]
    }
   ],
   "source": [
    "# a. Using .array() and .intersection1d()\n",
    "\n",
    "array1 = np.array([10, 20, 40, 60, 80, 70, 100, 55, 35, 85,])\n",
    "\n",
    "print(\"Array1: \",array1)\n",
    "\n",
    "array2 = [10, 100, 80, 70, 40]\n",
    "\n",
    "print(\"Array2: \",array2)\n",
    "\n",
    "print(\"Common values between two arrays:\")\n",
    "\n",
    "\n",
    "print(np.intersect1d(array1, array2))"
   ]
  },
  {
   "cell_type": "code",
   "execution_count": 75,
   "metadata": {},
   "outputs": [
    {
     "name": "stdout",
     "output_type": "stream",
     "text": [
      "[0 1 4 5 6 7]\n"
     ]
    }
   ],
   "source": [
    "# b. using .random and .randint()\n",
    "\n",
    "arr1 = np.random.randint(0,10,10)\n",
    "\n",
    "arr2 = np.random.randint(0,10,10)\n",
    "\n",
    "print(np.intersect1d(arr1,arr2))\n",
    "\n"
   ]
  },
  {
   "cell_type": "markdown",
   "metadata": {},
   "source": [
    "__________"
   ]
  },
  {
   "cell_type": "markdown",
   "metadata": {},
   "source": [
    "6. How to get the dates of yesterday, today and tomorrow?"
   ]
  },
  {
   "cell_type": "markdown",
   "metadata": {},
   "source": [
    "##### Need to import Datetime Module to find dates\n",
    "\n",
    "* datetime - module helps to find the present day by using the now() or today() method.\n",
    "* timedelta - class from datetime module helps to find the previous day date and next day date."
   ]
  },
  {
   "cell_type": "markdown",
   "metadata": {},
   "source": [
    "###### Syntax to find a present-day date:\n",
    "\n",
    "datetime.now()     # Returns: A datetime object containing the current local date and time.\n",
    "\n",
    "###### Syntax to find a previous-day and next-day date:\n",
    "\n",
    "previous-day = datetime.now()-timedelta(1)\n",
    "\n",
    "next-day = datetime.now()+timedelta(1)"
   ]
  },
  {
   "cell_type": "code",
   "execution_count": 28,
   "metadata": {},
   "outputs": [
    {
     "name": "stdout",
     "output_type": "stream",
     "text": [
      "Enter today's date : 25-07-2020\n",
      "25-07-2020\n",
      "2020-07-26 20:27:32.491239\n",
      "2020-07-24 20:27:32.491239\n"
     ]
    }
   ],
   "source": [
    "\n",
    "from datetime import datetime, timedelta\n",
    "\n",
    "today = datetime.today()      # presentday = datetime.now() can also be used\n",
    "\n",
    "yesterday = today - timedelta(1) \n",
    "  \n",
    "tomorrow = today + timedelta(1) \n",
    "\n",
    "today = input(\"Enter today's date : \")     # input from user in date format : dd-mm-yyyy\n",
    "\n",
    "print(today)\n",
    "print(tomorrow)\n",
    "print(yesterday)\n",
    "\n"
   ]
  },
  {
   "cell_type": "code",
   "execution_count": 25,
   "metadata": {},
   "outputs": [
    {
     "name": "stdout",
     "output_type": "stream",
     "text": [
      "2020-07-24\n",
      "2020-07-25\n",
      "2020-07-26\n"
     ]
    }
   ],
   "source": [
    "# b.\n",
    "\n",
    "yesterday = np.datetime64('today', 'D') - np.timedelta64(1, 'D')\n",
    "\n",
    "today = np.datetime64('today', 'D')\n",
    "\n",
    "tomorrow = np.datetime64('today', 'D') + np.timedelta64(1, 'D')\n",
    "\n",
    "\n",
    "print(yesterday)\n",
    "print(today)\n",
    "print(tomorrow)"
   ]
  },
  {
   "cell_type": "markdown",
   "metadata": {},
   "source": [
    "_____"
   ]
  },
  {
   "cell_type": "code",
   "execution_count": null,
   "metadata": {},
   "outputs": [],
   "source": [
    "7. Consider two random array A and B, check if they are equal"
   ]
  },
  {
   "cell_type": "code",
   "execution_count": 29,
   "metadata": {},
   "outputs": [
    {
     "name": "stdout",
     "output_type": "stream",
     "text": [
      "First array:\n",
      "[0 1 1 1 1 1]\n",
      "Second array:\n",
      "[0 0 1 0 1 1]\n",
      "Test above two arrays are equal or not!\n",
      "False\n"
     ]
    }
   ],
   "source": [
    "x = np.random.randint(0,2,6)\n",
    "print(\"First array:\")\n",
    "\n",
    "print(x)\n",
    "\n",
    "y = np.random.randint(0,2,6)\n",
    "print(\"Second array:\")\n",
    "\n",
    "print(y)\n",
    "\n",
    "print(\"Test above two arrays are equal or not!\")\n",
    "\n",
    "array_equal = np.allclose(x, y)\n",
    "\n",
    "print(array_equal)"
   ]
  },
  {
   "cell_type": "code",
   "execution_count": 32,
   "metadata": {},
   "outputs": [
    {
     "name": "stdout",
     "output_type": "stream",
     "text": [
      "[1 0 0 1 0 1 1 0 1 1]\n",
      "[0 1 1 1 0 0 0 1 1 0]\n",
      "False\n"
     ]
    }
   ],
   "source": [
    "A = np.random.randint(0,2,10)\n",
    "\n",
    "print(A)\n",
    "\n",
    "B = np.random.randint(0,2,10)\n",
    "\n",
    "print(B)\n",
    "\n",
    "equal = np.allclose(A,B)\n",
    "\n",
    "print(equal)"
   ]
  },
  {
   "cell_type": "markdown",
   "metadata": {},
   "source": [
    "____________"
   ]
  },
  {
   "cell_type": "markdown",
   "metadata": {},
   "source": [
    "8.Create random vector of size 10 and replace the maximum value by 0"
   ]
  },
  {
   "cell_type": "code",
   "execution_count": 33,
   "metadata": {},
   "outputs": [
    {
     "name": "stdout",
     "output_type": "stream",
     "text": [
      "[0.         0.13097838 0.04398211 0.449949   0.62193993 0.45597204\n",
      " 0.51351353 0.80370599 0.21869386 0.49898541]\n"
     ]
    }
   ],
   "source": [
    "A = np.random.random(10)\n",
    "\n",
    "A[A.argmax()] = 0\n",
    "\n",
    "print(A)\n"
   ]
  },
  {
   "cell_type": "markdown",
   "metadata": {},
   "source": [
    "____"
   ]
  },
  {
   "cell_type": "markdown",
   "metadata": {},
   "source": [
    "9. How to print all the values of an array?"
   ]
  },
  {
   "cell_type": "code",
   "execution_count": 40,
   "metadata": {},
   "outputs": [
    {
     "data": {
      "text/plain": [
       "array([[0., 0., 0., 0., 0., 0., 0., 0.],\n",
       "       [0., 0., 0., 0., 0., 0., 0., 0.],\n",
       "       [0., 0., 0., 0., 0., 0., 0., 0.],\n",
       "       [0., 0., 0., 0., 0., 0., 0., 0.],\n",
       "       [0., 0., 0., 0., 0., 0., 0., 0.],\n",
       "       [0., 0., 0., 0., 0., 0., 0., 0.],\n",
       "       [0., 0., 0., 0., 0., 0., 0., 0.],\n",
       "       [0., 0., 0., 0., 0., 0., 0., 0.]])"
      ]
     },
     "execution_count": 40,
     "metadata": {},
     "output_type": "execute_result"
    }
   ],
   "source": [
    "# a.\n",
    "A = np.zeros((8,8))\n",
    "A"
   ]
  },
  {
   "cell_type": "code",
   "execution_count": 38,
   "metadata": {},
   "outputs": [
    {
     "name": "stdout",
     "output_type": "stream",
     "text": [
      "[[0. 0. 0. 0. 0. 0. 0. 0. 0. 0.]\n",
      " [0. 0. 0. 0. 0. 0. 0. 0. 0. 0.]\n",
      " [0. 0. 0. 0. 0. 0. 0. 0. 0. 0.]\n",
      " [0. 0. 0. 0. 0. 0. 0. 0. 0. 0.]\n",
      " [0. 0. 0. 0. 0. 0. 0. 0. 0. 0.]\n",
      " [0. 0. 0. 0. 0. 0. 0. 0. 0. 0.]\n",
      " [0. 0. 0. 0. 0. 0. 0. 0. 0. 0.]\n",
      " [0. 0. 0. 0. 0. 0. 0. 0. 0. 0.]\n",
      " [0. 0. 0. 0. 0. 0. 0. 0. 0. 0.]\n",
      " [0. 0. 0. 0. 0. 0. 0. 0. 0. 0.]]\n"
     ]
    }
   ],
   "source": [
    "# b.\n",
    "np.set_printoptions()\n",
    "\n",
    "A = np.zeros((10,10))\n",
    "\n",
    "print(A)\n"
   ]
  },
  {
   "cell_type": "markdown",
   "metadata": {},
   "source": [
    "________"
   ]
  },
  {
   "cell_type": "markdown",
   "metadata": {},
   "source": [
    "10. Subtract the mean of each row of a matrix"
   ]
  },
  {
   "cell_type": "code",
   "execution_count": 51,
   "metadata": {},
   "outputs": [
    {
     "name": "stdout",
     "output_type": "stream",
     "text": [
      "Original matrix:\n",
      "\n",
      "[[0.64927496 0.47590752 0.26576983 0.21672684 0.6087602  0.67833388]\n",
      " [0.48172724 0.12789971 0.82469947 0.9805648  0.50940657 0.59396581]\n",
      " [0.58673885 0.30764043 0.82125811 0.52112625 0.63889434 0.38799733]\n",
      " [0.41806758 0.12367763 0.59976599 0.90686829 0.26729226 0.08418663]\n",
      " [0.3721344  0.4872919  0.62468261 0.17969206 0.01508945 0.5399036 ]\n",
      " [0.55468635 0.9709677  0.71794396 0.37361583 0.46950525 0.03673519]\n",
      " [0.76167731 0.93402873 0.31192243 0.49930438 0.05181365 0.12399443]\n",
      " [0.41037032 0.44704066 0.04509208 0.04971343 0.93452948 0.88655428]]\n",
      "\n",
      "Subtract the mean of each row of the said matrix:\n",
      "\n",
      "[[ 0.16681275 -0.00655469 -0.21669237 -0.26573536  0.12629799  0.19587168]\n",
      " [-0.10465002 -0.45847756  0.23832221  0.39418753 -0.0769707   0.00758854]\n",
      " [ 0.0427963  -0.23630212  0.27731556 -0.0228163   0.09495179 -0.15594522]\n",
      " [ 0.01809119 -0.27629877  0.19978959  0.50689189 -0.13268414 -0.31578976]\n",
      " [ 0.00233539  0.1174929   0.25488361 -0.19010694 -0.35470956  0.1701046 ]\n",
      " [ 0.03411063  0.45039199  0.19736825 -0.14695988 -0.05107047 -0.48384052]\n",
      " [ 0.31455382  0.48690524 -0.13520106  0.05218089 -0.39530984 -0.32312906]\n",
      " [-0.05184639 -0.01517605 -0.41712462 -0.41250328  0.47231277  0.42433757]]\n"
     ]
    }
   ],
   "source": [
    "# a. \n",
    "print(\"Original matrix:\\n\")\n",
    "\n",
    "A = np.random.rand(8, 6)\n",
    "\n",
    "print(A)\n",
    "\n",
    "print(\"\\nSubtract the mean of each row of the said matrix:\\n\")\n",
    "\n",
    "B = A - A.mean(axis=1, keepdims=True)\n",
    "\n",
    "print(B)"
   ]
  },
  {
   "cell_type": "code",
   "execution_count": 54,
   "metadata": {},
   "outputs": [
    {
     "name": "stdout",
     "output_type": "stream",
     "text": [
      "[[0.14073728 0.45161068 0.94224095 0.49935104 0.27451894 0.82338728]\n",
      " [0.25872356 0.97861175 0.58304454 0.08542022 0.01605868 0.97160708]\n",
      " [0.20114708 0.99458147 0.27835006 0.58556831 0.51767618 0.58475123]]\n",
      "[[-0.38123708 -0.07036368  0.42026658 -0.02262332 -0.24745542  0.30141292]\n",
      " [-0.22352074  0.49636744  0.10080023 -0.39682408 -0.46618562  0.48936277]\n",
      " [-0.32586531  0.46756908 -0.24866232  0.05855592 -0.0093362   0.05773884]]\n"
     ]
    }
   ],
   "source": [
    "# b.\n",
    "A = np.random.rand(3, 6)   \n",
    "print(A)\n",
    "\n",
    "B = A - A.mean(axis=1, keepdims=True)\n",
    "\n",
    "print(B)"
   ]
  },
  {
   "cell_type": "markdown",
   "metadata": {},
   "source": [
    "_________"
   ]
  },
  {
   "cell_type": "markdown",
   "metadata": {},
   "source": [
    "11.Consider a given vector, how to add 1 to each element indexed by a second vector (be careful with repeated indices)?"
   ]
  },
  {
   "cell_type": "code",
   "execution_count": 55,
   "metadata": {},
   "outputs": [
    {
     "name": "stdout",
     "output_type": "stream",
     "text": [
      "[3. 2. 4. 4. 1. 2. 2. 3. 6. 3.]\n"
     ]
    }
   ],
   "source": [
    "# a.\n",
    "\n",
    "Z = np.ones(10)\n",
    "\n",
    "I = np.random.randint(0,len(Z),20)\n",
    "\n",
    "Z += np.bincount(I, minlength=len(Z))\n",
    "\n",
    "print(Z)"
   ]
  },
  {
   "cell_type": "code",
   "execution_count": 57,
   "metadata": {},
   "outputs": [
    {
     "name": "stdout",
     "output_type": "stream",
     "text": [
      "[2. 5. 6. 2. 2. 3. 3. 3. 2. 2.]\n"
     ]
    }
   ],
   "source": [
    "# b.\n",
    "\n",
    "A = np.ones(10)\n",
    "\n",
    "B = np.random.randint(0,len(A),20)\n",
    "\n",
    "np.add.at(A, B, 1)\n",
    "\n",
    "print(A)"
   ]
  },
  {
   "cell_type": "markdown",
   "metadata": {},
   "source": [
    "_________"
   ]
  },
  {
   "cell_type": "markdown",
   "metadata": {},
   "source": [
    "\n",
    "12. How to get the diagonal of a dot product?\n"
   ]
  },
  {
   "cell_type": "code",
   "execution_count": 60,
   "metadata": {},
   "outputs": [
    {
     "data": {
      "text/plain": [
       "array([0.96835432, 0.7083237 , 2.31853273, 0.68591791])"
      ]
     },
     "execution_count": 60,
     "metadata": {},
     "output_type": "execute_result"
    }
   ],
   "source": [
    "# a.\n",
    "\n",
    "A = np.random.uniform(0,1,(4,4))\n",
    "\n",
    "B = np.random.uniform(0,1,(4,4))\n",
    "\n",
    "np.diag(np.dot(A, B))\n"
   ]
  },
  {
   "cell_type": "code",
   "execution_count": 61,
   "metadata": {},
   "outputs": [
    {
     "data": {
      "text/plain": [
       "array([1.21424552, 2.84723985, 1.15293753, 0.60741609, 0.90901348])"
      ]
     },
     "execution_count": 61,
     "metadata": {},
     "output_type": "execute_result"
    }
   ],
   "source": [
    "# b.\n",
    "\n",
    "A = np.random.uniform(0,1,(5,5))\n",
    "\n",
    "B = np.random.uniform(0,1,(5,5))\n",
    "\n",
    "np.sum(A * B.T, axis=1)\n",
    "\n"
   ]
  },
  {
   "cell_type": "code",
   "execution_count": null,
   "metadata": {},
   "outputs": [],
   "source": [
    "13. How to find the most frequent value in an array?"
   ]
  },
  {
   "cell_type": "code",
   "execution_count": 62,
   "metadata": {},
   "outputs": [
    {
     "name": "stdout",
     "output_type": "stream",
     "text": [
      "Original array:\n",
      "[6 4 6 0 6 9 2 4 1 5 4 8 0 5 0 2 0 0 0 7 4 2 9 1 5 6 8 9 1 4 3 4 6 7 9 5 8\n",
      " 2 6 2]\n",
      "Most frequent value in the above array:\n",
      "0\n"
     ]
    }
   ],
   "source": [
    "\n",
    "a = np.random.randint(0, 10, 40)\n",
    "\n",
    "print(\"Original array:\")\n",
    "\n",
    "print(a)\n",
    "\n",
    "print(\"Most frequent value in the above array:\")\n",
    "\n",
    "print(np.bincount(a).argmax())\n"
   ]
  },
  {
   "cell_type": "markdown",
   "metadata": {},
   "source": [
    "_____________"
   ]
  },
  {
   "cell_type": "markdown",
   "metadata": {},
   "source": [
    "14. How to get the n largest values of an array"
   ]
  },
  {
   "cell_type": "code",
   "execution_count": 68,
   "metadata": {
    "scrolled": true
   },
   "outputs": [
    {
     "name": "stdout",
     "output_type": "stream",
     "text": [
      "Original array:\n",
      "[ 0  1  2  3  4  5  6  7  8  9 10 11 12 13 14]\n",
      "Largest values of an array :\n",
      "[14]\n"
     ]
    }
   ],
   "source": [
    "# a. Using .argsort()\n",
    "a = np.arange(15)\n",
    "\n",
    "print(\"Original array:\")\n",
    "\n",
    "print(a)\n",
    "\n",
    "np.random.shuffle(a)\n",
    "\n",
    "n = 1\n",
    "\n",
    "\n",
    "print(\"Largest values of an array :\")\n",
    "\n",
    "print (a[np.argsort(a)[-n:]])"
   ]
  },
  {
   "cell_type": "code",
   "execution_count": 69,
   "metadata": {},
   "outputs": [
    {
     "name": "stdout",
     "output_type": "stream",
     "text": [
      "Original array:\n",
      "[0 1 2 3 4 5 6 7 8 9]\n",
      "Largest values of an array :\n",
      "[9]\n"
     ]
    }
   ],
   "source": [
    "# b. Using .argpartition()\n",
    "\n",
    "a = np.arange(10)\n",
    "\n",
    "print(\"Original array:\")\n",
    "\n",
    "print(a)\n",
    "\n",
    "np.random.shuffle(a)\n",
    "\n",
    "n = 1\n",
    "\n",
    "print(\"Largest values of an array :\")\n",
    "\n",
    "print (a[np.argpartition(-a,n)[:n]])"
   ]
  },
  {
   "cell_type": "markdown",
   "metadata": {},
   "source": [
    "_____________"
   ]
  },
  {
   "cell_type": "markdown",
   "metadata": {},
   "source": [
    "\n",
    "15. How to create a record array from a regular array?\n"
   ]
  },
  {
   "cell_type": "code",
   "execution_count": 70,
   "metadata": {},
   "outputs": [
    {
     "name": "stdout",
     "output_type": "stream",
     "text": [
      "(1, 'Apple', 12.2)\n",
      "(2, 'Mac', 15.)\n",
      "(3, 'Microsoft', 20.)\n"
     ]
    }
   ],
   "source": [
    "# a.\n",
    "\n",
    "a1=np.array([1,2,3,4])\n",
    "a2=np.array(['Apple','Mac','Microsoft','Linux'])\n",
    "a3=np.array([12.20,15,20,40])\n",
    "result= np.core.records.fromarrays([a1, a2, a3],names='a,b,c')\n",
    "print(result[0])\n",
    "print(result[1])\n",
    "print(result[2])\n",
    "\n",
    "\n",
    "\n",
    "\n"
   ]
  },
  {
   "cell_type": "code",
   "execution_count": 74,
   "metadata": {},
   "outputs": [
    {
     "name": "stdout",
     "output_type": "stream",
     "text": [
      "Original arrays:\n",
      "[['Rohit S' '88.5' '90']\n",
      " ['Ajay M' '87' '99']\n",
      " ['Monisha S' '85.5' '91']]\n",
      "\n",
      "Record array;\n",
      "[(b'Rohit S', 88.5, 90) (b'Ajay M', 87. , 99) (b'Monisha S', 85.5, 91)]\n"
     ]
    }
   ],
   "source": [
    "# b.\n",
    "import numpy as np\n",
    "arra1 = np.array([(\"Rohit S\", 88.5, 90),\n",
    "                 (\"Ajay M\", 87, 99),\n",
    "             (\"Monisha S\", 85.5, 91)])\n",
    "print(\"Original arrays:\")\n",
    "print(arra1)\n",
    "print(\"\\nRecord array;\")\n",
    "result = np.core.records.fromarrays(arra1.T,\n",
    "                              names='col1, col2, col3',\n",
    "                              formats = 'S80, f8, i8')\n",
    "print(result)"
   ]
  },
  {
   "cell_type": "markdown",
   "metadata": {},
   "source": [
    "____________"
   ]
  }
 ],
 "metadata": {
  "kernelspec": {
   "display_name": "Python 3",
   "language": "python",
   "name": "python3"
  },
  "language_info": {
   "codemirror_mode": {
    "name": "ipython",
    "version": 3
   },
   "file_extension": ".py",
   "mimetype": "text/x-python",
   "name": "python",
   "nbconvert_exporter": "python",
   "pygments_lexer": "ipython3",
   "version": "3.7.4"
  }
 },
 "nbformat": 4,
 "nbformat_minor": 2
}
