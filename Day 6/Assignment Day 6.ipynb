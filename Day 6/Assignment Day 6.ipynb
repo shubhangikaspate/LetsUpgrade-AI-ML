{
 "cells": [
  {
   "cell_type": "markdown",
   "metadata": {},
   "source": [
    "# Assignment Day 6 | 14th July 2020"
   ]
  },
  {
   "cell_type": "markdown",
   "metadata": {},
   "source": [
    "## Question 1:\n",
    "    \n",
    "Assuming that we have some email addresses in the \"username@companyname.com\" format, please write program\n",
    "to print the company name of a given email address. Both user names and company names are composed of letters\n",
    "only.\n",
    "\n",
    "Input Format:\n",
    "The first line of the input contains an email address.\n",
    "\n",
    "Output Format:\n",
    "Print the company name in single line.\n",
    "\n",
    "Example;\n",
    "Input:\n",
    "john@google.com\n",
    "\n",
    "Output:\n",
    "google\n"
   ]
  },
  {
   "cell_type": "code",
   "execution_count": 1,
   "metadata": {},
   "outputs": [
    {
     "name": "stdout",
     "output_type": "stream",
     "text": [
      "games@google.com\n",
      "google"
     ]
    }
   ],
   "source": [
    "a = input()\n",
    "x =a.index(\"@\")\n",
    "print(a[x+1:len(a)-4], end='')"
   ]
  },
  {
   "cell_type": "markdown",
   "metadata": {},
   "source": [
    "_______________"
   ]
  },
  {
   "cell_type": "markdown",
   "metadata": {},
   "source": [
    "## Question 2:\n",
    "\n",
    "Write a program that accepts a comma-separated sequence of words as input and prints the words in a comma\n",
    "separated sequence after sorting them alphabetically.\n",
    "\n",
    "__Input Format:__\n",
    "The first line of input contains words separated by the comma.\n",
    "\n",
    "__Output Format:__\n",
    "Print the sorted words separated by the comma.\n",
    "\n",
    "\n",
    "__Example:__\n",
    "\n",
    "___Input:___\n",
    "without,hello,bag,world\n",
    "\n",
    "___Output:___\n",
    "bag,hello,without,world"
   ]
  },
  {
   "cell_type": "code",
   "execution_count": 4,
   "metadata": {},
   "outputs": [
    {
     "name": "stdout",
     "output_type": "stream",
     "text": [
      "without,hello,bag,world,sky\n",
      "bag,hello,sky,without,world"
     ]
    }
   ],
   "source": [
    "# Solution 1:\n",
    "\n",
    "a = input().split(',')\n",
    "l = list(a)\n",
    "l1 = len(l)\n",
    "\n",
    "y = sorted(l)\n",
    "l = y\n",
    "\n",
    "for i in range (l1):\n",
    "    if i == l1-1:\n",
    "        print(l[i],end=\"\")\n",
    "    else:\n",
    "        print(l[i],end=\",\")\n",
    "        "
   ]
  },
  {
   "cell_type": "code",
   "execution_count": 3,
   "metadata": {},
   "outputs": [
    {
     "name": "stdout",
     "output_type": "stream",
     "text": [
      "Enter the data to sort: ML,DL,DS,NLP,CNN,Math,stats,AI\n",
      "Sorted data is:  AI,CNN,DL,DS,ML,Math,NLP,stats\n"
     ]
    }
   ],
   "source": [
    "# Solution 2:\n",
    "\n",
    "a = [x for x in input(\"Enter the data to sort: \").split(',')]\n",
    "a.sort()\n",
    "print(\"Sorted data is: \",','.join(a))\n"
   ]
  },
  {
   "cell_type": "code",
   "execution_count": 2,
   "metadata": {},
   "outputs": [
    {
     "name": "stdout",
     "output_type": "stream",
     "text": [
      "enter words, comma separated here: cat,rat,bat,mat,jet,airplane,helicopter,train,boat,criuse\n",
      "airplane,bat,boat,cat,criuse,helicopter,jet,mat,rat,train\n"
     ]
    }
   ],
   "source": [
    "# Solution 3:\n",
    "a=input(\"enter words, comma separated here: \")\n",
    "a=a.split(\",\")\n",
    "a=sorted(a)\n",
    "print (\",\".join(a))"
   ]
  },
  {
   "cell_type": "markdown",
   "metadata": {},
   "source": [
    "___________________"
   ]
  },
  {
   "cell_type": "markdown",
   "metadata": {},
   "source": [
    "## Question 4:\n",
    "Given a list of n-1 numbers ranging from 1 to n, your task is to find the missing number. There are no duplicates.\n",
    "\n",
    "__Input Format:__\n",
    "The first line contains n-1 numbers with each number separated by a space.\n",
    "\n",
    "__Output Format:__\n",
    "Print the missing number\n",
    "\n",
    "__Example:__\n",
    "    \n",
    "___Input:___ 1 2 4 6 3 7 8\n",
    "\n",
    "___Output:___ 5\n",
    "    \n",
    "\n",
    "\n",
    "__Explanation:__\n",
    "In the above list of numbers 5 is missing and hence 5 is the input"
   ]
  },
  {
   "cell_type": "markdown",
   "metadata": {},
   "source": [
    "Solution:"
   ]
  },
  {
   "cell_type": "code",
   "execution_count": 35,
   "metadata": {},
   "outputs": [
    {
     "name": "stdout",
     "output_type": "stream",
     "text": [
      "5.0\n"
     ]
    }
   ],
   "source": [
    "# getMissingNo takes list as argument \n",
    "\n",
    "\n",
    "A = [3, 2, 4, 6, 1]      # input\n",
    "\n",
    "def get_missing_number(A): \n",
    "    n = len(A) \n",
    "    total = (n + 1)*(n + 2)/2\n",
    "    sum_of_A = sum(A) \n",
    "    return total - sum_of_A \n",
    "\n",
    "miss_no = get_missing_number(A) \n",
    "print(miss_no) "
   ]
  },
  {
   "cell_type": "markdown",
   "metadata": {},
   "source": [
    "_________________________"
   ]
  },
  {
   "cell_type": "markdown",
   "metadata": {},
   "source": [
    "## Question 5:    \n",
    "    \n",
    "With a given list L, write a program to print this list L after removing all duplicate values with original order reserved.\n",
    "\n",
    "\n",
    "__Example:__\n",
    "If the input list is\n",
    "12 24 35 24 88 120 155 88 120 155\n",
    "Then the output should be\n",
    "12 24 35 88 120 155\n",
    "\n",
    "__Explanation:__\n",
    "Third, seventh and ninth element of the list L has been removed because it was already present.\n",
    "\n",
    "__Input Format:__\n",
    "In one line take the elements of the list L with each element separated by a space.\n",
    "\n",
    "__Output Format:__\n",
    "Print the elements of the modified list in one line with each element separated by a space.\n",
    "\n",
    "__Example:__\n",
    "Input: 12 24 35 24\n",
    "Output: 12 24 35\n"
   ]
  },
  {
   "cell_type": "code",
   "execution_count": 4,
   "metadata": {},
   "outputs": [
    {
     "name": "stdout",
     "output_type": "stream",
     "text": [
      "[12, 24, 35, 88, 120, 155]\n"
     ]
    }
   ],
   "source": [
    "# Solution:\n",
    "\n",
    "    \n",
    "L=[12,24,35,24,88,120,155,88,120,155]    \n",
    "\n",
    "def remove_duplicates(L):\n",
    "    new_list=[]\n",
    "    seen = set()\n",
    "    for item in L:\n",
    "        if item not in seen:\n",
    "            seen.add( item )\n",
    "            new_list.append(item)\n",
    "\n",
    "    return new_list\n",
    "\n",
    "\n",
    "print(remove_duplicates(L))"
   ]
  },
  {
   "cell_type": "markdown",
   "metadata": {},
   "source": [
    "__________________________"
   ]
  },
  {
   "cell_type": "markdown",
   "metadata": {},
   "source": [
    "# Question 3:\n",
    "    \n",
    "Create your own Jupyter Notebook for Sets.\n",
    "\n",
    "Reference link: https://www.w3schools.com/python/python_sets.asp"
   ]
  },
  {
   "cell_type": "markdown",
   "metadata": {},
   "source": [
    "Solution:"
   ]
  },
  {
   "cell_type": "markdown",
   "metadata": {},
   "source": [
    "# Set in Python"
   ]
  },
  {
   "cell_type": "markdown",
   "metadata": {},
   "source": [
    "A set is a collection of elements which is unordered and unindexed. In Python sets are written with curly { } brackets."
   ]
  },
  {
   "cell_type": "code",
   "execution_count": 1,
   "metadata": {},
   "outputs": [
    {
     "data": {
      "text/plain": [
       "{}"
      ]
     },
     "execution_count": 1,
     "metadata": {},
     "output_type": "execute_result"
    }
   ],
   "source": [
    "# 1. Empty set\n",
    "s={}\n",
    "s"
   ]
  },
  {
   "cell_type": "code",
   "execution_count": 2,
   "metadata": {},
   "outputs": [
    {
     "data": {
      "text/plain": [
       "{'AI', 'DL', 'DS', 'ML'}"
      ]
     },
     "execution_count": 2,
     "metadata": {},
     "output_type": "execute_result"
    }
   ],
   "source": [
    "# 2. Creating Set\n",
    "s={\"AI\", \"ML\", \"DS\", \"DL\"}\n",
    "s\n"
   ]
  },
  {
   "cell_type": "code",
   "execution_count": 7,
   "metadata": {},
   "outputs": [
    {
     "name": "stdout",
     "output_type": "stream",
     "text": [
      "{'AI', 'ML', 'DL'}\n",
      "{'AI', 'ML', 'DL'}\n",
      "{'AI', 'ML', 'DL'}\n"
     ]
    }
   ],
   "source": [
    "# 3. Accessing Elements of Set\n",
    "\n",
    "# A\n",
    "s1={\"AI\", \"ML\", \"DL\"}\n",
    "\n",
    "for x in s1:\n",
    "    print(s1)"
   ]
  },
  {
   "cell_type": "code",
   "execution_count": 8,
   "metadata": {},
   "outputs": [
    {
     "name": "stdout",
     "output_type": "stream",
     "text": [
      "True\n"
     ]
    }
   ],
   "source": [
    "# B\n",
    "s={\"AI\", \"ML\", \"DS\", \"DL\"}\n",
    "\n",
    "print(\"ML\" in s)"
   ]
  },
  {
   "cell_type": "code",
   "execution_count": 10,
   "metadata": {},
   "outputs": [
    {
     "name": "stdout",
     "output_type": "stream",
     "text": [
      "{'AI', 'ML', 'DL', 'Data Science'}\n"
     ]
    }
   ],
   "source": [
    "# 4. Change an elements in set\n",
    "\n",
    "# a. Add() - to add element in set\n",
    "\n",
    "s1={\"AI\", \"ML\", \"DL\"}\n",
    "\n",
    "s1.add(\"Data Science\")\n",
    "\n",
    "print(s1)\n"
   ]
  },
  {
   "cell_type": "code",
   "execution_count": 11,
   "metadata": {},
   "outputs": [
    {
     "name": "stdout",
     "output_type": "stream",
     "text": [
      "{'Data Science', 'ML', 'Stistics', 'NLP', 'AI', 'DL'}\n"
     ]
    }
   ],
   "source": [
    "# b. Update() - to add more than 1 elements in set\n",
    "\n",
    "s1={\"AI\", \"ML\", \"DL\"}\n",
    "s1.update([\"Data Science\", \"NLP\", \"Stistics\" ])\n",
    "\n",
    "print(s1)\n"
   ]
  },
  {
   "cell_type": "code",
   "execution_count": 12,
   "metadata": {},
   "outputs": [
    {
     "name": "stdout",
     "output_type": "stream",
     "text": [
      "6\n"
     ]
    }
   ],
   "source": [
    "# 5. len() - to determine how many item a set has\n",
    "\n",
    "S1 = {'Data Science', 'ML', 'Stistics', 'NLP', 'AI', 'DL'}\n",
    "\n",
    "print(len(S1))"
   ]
  },
  {
   "cell_type": "code",
   "execution_count": 15,
   "metadata": {},
   "outputs": [
    {
     "name": "stdout",
     "output_type": "stream",
     "text": [
      "{'Data Science', 'ML', 'NLP', 'AI', 'DL'}\n"
     ]
    }
   ],
   "source": [
    "# 6. Removing Items From Set - remove(), discard(), pop(), clear(), del() are used.\n",
    "\n",
    "# a. remove()\n",
    "\n",
    "S1 = {'Data Science', 'ML', 'Statistics', 'NLP', 'AI', 'DL'}\n",
    "\n",
    "S1.remove(\"Statistics\")\n",
    "\n",
    "print(S1)\n",
    "\n",
    " \n"
   ]
  },
  {
   "cell_type": "code",
   "execution_count": 18,
   "metadata": {},
   "outputs": [
    {
     "name": "stdout",
     "output_type": "stream",
     "text": [
      "{'Statistics', 'ML', 'NLP', 'AI', 'DL'}\n"
     ]
    }
   ],
   "source": [
    "# b. discard()\n",
    "\n",
    "S1 = {'Data Science', 'ML', 'Statistics', 'NLP', 'AI', 'DL'}\n",
    "\n",
    "S1.discard(\"Data Science\")\n",
    "\n",
    "print(S1)"
   ]
  },
  {
   "cell_type": "code",
   "execution_count": 20,
   "metadata": {},
   "outputs": [
    {
     "name": "stdout",
     "output_type": "stream",
     "text": [
      "Statistics\n",
      "{'Data Science', 'ML', 'NLP', 'AI', 'DL'}\n"
     ]
    }
   ],
   "source": [
    "# c. pop()\n",
    "\n",
    "S1 = {'Data Science', 'ML', 'Statistics', 'NLP', 'AI', 'DL'}\n",
    "\n",
    "a = S1.pop()\n",
    "\n",
    "print(a)\n",
    "print(S1)"
   ]
  },
  {
   "cell_type": "code",
   "execution_count": 21,
   "metadata": {},
   "outputs": [
    {
     "name": "stdout",
     "output_type": "stream",
     "text": [
      "set()\n"
     ]
    }
   ],
   "source": [
    "# d. clear()\n",
    "\n",
    "\n",
    "S1 = {'Data Science', 'ML', 'Statistics', 'NLP', 'AI', 'DL'}\n",
    "\n",
    "S1.clear()\n",
    "\n",
    "print(S1)\n"
   ]
  },
  {
   "cell_type": "code",
   "execution_count": 22,
   "metadata": {},
   "outputs": [
    {
     "ename": "NameError",
     "evalue": "name 'S1' is not defined",
     "output_type": "error",
     "traceback": [
      "\u001b[1;31m---------------------------------------------------------------------------\u001b[0m",
      "\u001b[1;31mNameError\u001b[0m                                 Traceback (most recent call last)",
      "\u001b[1;32m<ipython-input-22-f90787e33fc6>\u001b[0m in \u001b[0;36m<module>\u001b[1;34m\u001b[0m\n\u001b[0;32m      5\u001b[0m \u001b[1;32mdel\u001b[0m \u001b[0mS1\u001b[0m\u001b[1;33m\u001b[0m\u001b[1;33m\u001b[0m\u001b[0m\n\u001b[0;32m      6\u001b[0m \u001b[1;33m\u001b[0m\u001b[0m\n\u001b[1;32m----> 7\u001b[1;33m \u001b[0mprint\u001b[0m\u001b[1;33m(\u001b[0m\u001b[0mS1\u001b[0m\u001b[1;33m)\u001b[0m\u001b[1;33m\u001b[0m\u001b[1;33m\u001b[0m\u001b[0m\n\u001b[0m\u001b[0;32m      8\u001b[0m \u001b[1;33m\u001b[0m\u001b[0m\n",
      "\u001b[1;31mNameError\u001b[0m: name 'S1' is not defined"
     ]
    }
   ],
   "source": [
    "# e. del()\n",
    "\n",
    "S1 = {'Data Science', 'ML', 'Statistics', 'NLP', 'AI', 'DL'}\n",
    "\n",
    "del S1\n",
    "\n",
    "print(S1)\n",
    "\n",
    "\n",
    "# shows error as S1 is deleted"
   ]
  },
  {
   "cell_type": "code",
   "execution_count": 23,
   "metadata": {},
   "outputs": [
    {
     "name": "stdout",
     "output_type": "stream",
     "text": [
      "{'Juice', 'Statistics', 'Data Science', 'Tea', 'ML', 'Coffee', 'NLP', 'AI', 'DL'}\n"
     ]
    }
   ],
   "source": [
    "# 7. Joining two sets\n",
    "\n",
    "# a. union() \n",
    "\n",
    "S1 = {'Data Science', 'ML', 'Statistics', 'NLP', 'AI', 'DL'}\n",
    "S2 = {\"Coffee\", \"Tea\", \"Juice\"}\n",
    "\n",
    "S3 = S1.union(S2)\n",
    "print(S3)\n",
    "\n"
   ]
  },
  {
   "cell_type": "code",
   "execution_count": 24,
   "metadata": {},
   "outputs": [
    {
     "name": "stdout",
     "output_type": "stream",
     "text": [
      "{'Data Science', 'ML', 'Stistics', 'NLP', 'AI', 'DL'}\n"
     ]
    }
   ],
   "source": [
    "# b. update()\n",
    "\n",
    "\n",
    "S1 = {'Data Science', 'ML', 'Statistics', 'NLP', 'AI', 'DL'}\n",
    "S2 = {\"Coffee\", \"Tea\", \"Juice\"}\n",
    "\n",
    "S1.update('S2')\n",
    "print(s1)"
   ]
  },
  {
   "cell_type": "code",
   "execution_count": 1,
   "metadata": {},
   "outputs": [
    {
     "name": "stdout",
     "output_type": "stream",
     "text": [
      "{'Juice', 'Coffee', 'Tea'}\n"
     ]
    }
   ],
   "source": [
    "# 8. The set() Constructor\n",
    "\n",
    "# set() - is used make set\n",
    "\n",
    "\n",
    "S2 = set((\"Coffee\", \"Tea\", \"Juice\"))\n",
    "\n",
    "print(S2)\n",
    "\n"
   ]
  },
  {
   "cell_type": "code",
   "execution_count": 2,
   "metadata": {},
   "outputs": [
    {
     "name": "stdout",
     "output_type": "stream",
     "text": [
      "{'Juice', 'Coffee', 'Tea'}\n"
     ]
    }
   ],
   "source": [
    "# 9. copy() - used to copy the set.\n",
    "\n",
    "S1={'Juice', 'Coffee', 'Tea'}\n",
    "\n",
    "x = S1.copy()\n",
    "print (x)"
   ]
  },
  {
   "cell_type": "code",
   "execution_count": 4,
   "metadata": {},
   "outputs": [
    {
     "name": "stdout",
     "output_type": "stream",
     "text": [
      "{'Coffee', 'Tea'}\n"
     ]
    }
   ],
   "source": [
    "# 10. difference() - Return a set that contains the items that only exist in set 1, and not in set 2\n",
    "\n",
    "S1={'Juice', 'Coffee', 'Tea'}\n",
    "S2={'apple', 'banana', 'orange', 'Juice', 'Tea'}\n",
    "\n",
    "x=S1.difference(S2)\n",
    "print(x)\n"
   ]
  },
  {
   "cell_type": "code",
   "execution_count": 5,
   "metadata": {},
   "outputs": [
    {
     "name": "stdout",
     "output_type": "stream",
     "text": [
      "{'Coffee'}\n"
     ]
    }
   ],
   "source": [
    "# 11. difference_update() - removes the items that exist in both sets.\n",
    "\n",
    "S1={'Juice', 'Coffee', 'Tea'}\n",
    "S2={'apple', 'banana', 'orange', 'Juice', 'Tea'}\n",
    "\n",
    "S1.difference_update(S2)\n",
    "print(S1)\n",
    "\n"
   ]
  },
  {
   "cell_type": "code",
   "execution_count": 6,
   "metadata": {},
   "outputs": [
    {
     "name": "stdout",
     "output_type": "stream",
     "text": [
      "{'Juice', 'Tea'}\n"
     ]
    }
   ],
   "source": [
    "# 12. Intersection method \n",
    "# a. intersection() - Return a set that contains the items that exist in both sets\n",
    "\n",
    "S1={'Juice', 'Coffee', 'Tea'}\n",
    "S2={'apple', 'banana', 'orange', 'Juice', 'Tea'}\n",
    "\n",
    "x=S1.intersection(S2)\n",
    "print(x)\n"
   ]
  },
  {
   "cell_type": "code",
   "execution_count": 7,
   "metadata": {},
   "outputs": [
    {
     "name": "stdout",
     "output_type": "stream",
     "text": [
      "{'Juice', 'Tea'}\n"
     ]
    }
   ],
   "source": [
    "# b. intersection_update() - Remove the items that is not present in both sets\n",
    "\n",
    "S1={'Juice', 'Coffee', 'Tea'}\n",
    "S2={'apple', 'banana', 'orange', 'Juice', 'Tea'}\n",
    "\n",
    "S1.intersection_update(S2)\n",
    "print(S1)\n"
   ]
  },
  {
   "cell_type": "code",
   "execution_count": 9,
   "metadata": {},
   "outputs": [
    {
     "name": "stdout",
     "output_type": "stream",
     "text": [
      "False\n",
      "True\n"
     ]
    }
   ],
   "source": [
    "# c. isdisjoint() - Returns whether two sets have a intersection or not.\n",
    "                # (i.e. Return True if no items in set 1 is present in set 2)\n",
    "\n",
    "S1={'Juice', 'Coffee', 'Tea'}\n",
    "S2={'apple', 'banana', 'orange', 'Juice', 'Tea'}\n",
    "\n",
    "x=S1.isdisjoint(S2)\n",
    "print(x)    \n",
    "\n",
    "# -----------------------------------------------------------------\n",
    "\n",
    "A = {\"apple\", \"banana\", \"cherry\"}\n",
    "B = {\"google\", \"microsoft\", \"facebook\"}\n",
    "\n",
    "C = A.isdisjoint(B) \n",
    "\n",
    "print(C)\n",
    "\n"
   ]
  },
  {
   "cell_type": "code",
   "execution_count": 10,
   "metadata": {},
   "outputs": [
    {
     "name": "stdout",
     "output_type": "stream",
     "text": [
      "False\n",
      "True\n"
     ]
    }
   ],
   "source": [
    "# 13. issubset() -  returns True if all items in the set exists in the specified set, otherwise it retuns False.\n",
    "#                   Return True if all items set x are present in set y\n",
    "\n",
    "S1={'Juice', 'Coffee', 'Tea'}\n",
    "S2={'apple', 'banana', 'orange', 'Juice', 'Tea'}\n",
    "\n",
    "x=S1.issubset(S2)\n",
    "print(x) \n",
    "\n",
    "\n",
    "# --------------------------------------\n",
    "\n",
    "A = {\"apple\", \"banana\", \"cherry\"}\n",
    "B = {\"google\",\"apple\",\"apple\", \"microsoft\", \"banana\",\"facebook\", \"cherry\"}\n",
    "\n",
    "C = A.issubset(B) \n",
    "\n",
    "print(C)\n",
    "\n"
   ]
  },
  {
   "cell_type": "code",
   "execution_count": 12,
   "metadata": {},
   "outputs": [
    {
     "name": "stdout",
     "output_type": "stream",
     "text": [
      "True\n",
      "False\n"
     ]
    }
   ],
   "source": [
    "# 14. issuperset() - returns True if all items in the specified set exists in the original set, otherwise it retuns False.\n",
    "                   # (i.e. Return True if all items set 2 are present in set 1)\n",
    "\n",
    "A = {\"google\",\"apple\",\"apple\", \"microsoft\", \"banana\",\"facebook\", \"cherry\"}\n",
    "B = {\"apple\", \"banana\", \"cherry\"}\n",
    "\n",
    "C = A.issuperset(B) \n",
    "\n",
    "print(C)\n",
    "\n",
    "\n",
    "# -------------------------------------\n",
    "\n",
    "S1={'apple', 'banana', 'orange', 'Juice', 'Tea'}\n",
    "S2={'Juice', 'Coffee', 'Tea'}\n",
    "\n",
    "x=S1.issuperset(S2)\n",
    "print(x) \n",
    "\n"
   ]
  },
  {
   "cell_type": "code",
   "execution_count": 13,
   "metadata": {},
   "outputs": [
    {
     "name": "stdout",
     "output_type": "stream",
     "text": [
      "{'Coffee', 'apple', 'banana', 'orange'}\n",
      "{'cherry', 'google', 'apple', 'microsoft', 'facebook', 'banana'}\n"
     ]
    }
   ],
   "source": [
    "# 15. symmetric_difference() method\n",
    "\n",
    "# a. symmetric_difference() - returns a set that contains all items from both set, but not the items that are present in both sets.\n",
    "#                             (i.e.The returned set contains a mix of items that are not present in both sets.) \n",
    "\n",
    "S1={'Juice', 'Coffee', 'Tea'}\n",
    "S2={'apple', 'banana', 'orange', 'Juice', 'Tea'}\n",
    "\n",
    "x=S1.symmetric_difference(S2)\n",
    "print(x)    \n",
    "\n",
    "# -----------------------------------------------------------------\n",
    "\n",
    "A = {\"apple\", \"banana\", \"cherry\"}\n",
    "B = {\"google\", \"microsoft\", \"facebook\"}\n",
    "\n",
    "C = A.symmetric_difference(B) \n",
    "\n",
    "print(C)\n",
    "\n"
   ]
  },
  {
   "cell_type": "code",
   "execution_count": 18,
   "metadata": {},
   "outputs": [
    {
     "name": "stdout",
     "output_type": "stream",
     "text": [
      "{'apple', 'orange', 'Coffee', 'banana'}\n",
      "{'cherry', 'google', 'microsoft', 'facebook'}\n"
     ]
    }
   ],
   "source": [
    "# b. symmetric_difference_update()- updates the original set by removing items that are present in both sets, and inserting the other items.\n",
    "#                     (i.e. Remove the items that are present in both sets, AND insert the items that is not present in both sets)\n",
    "\n",
    "S1={'Juice', 'Coffee', 'Tea'}\n",
    "S2={'apple', 'banana', 'orange', 'Juice', 'Tea'}\n",
    "\n",
    "S1.symmetric_difference_update(S2)\n",
    "print(S1)    \n",
    "\n",
    "# -----------------------------------------------------------------\n",
    "\n",
    "A = {\"apple\", \"banana\", \"cherry\"}\n",
    "B = {\"google\", \"banana\", \"microsoft\", \"facebook\", \"apple\"}\n",
    "\n",
    "A.symmetric_difference_update(B) \n",
    "\n",
    "print(A)\n"
   ]
  },
  {
   "cell_type": "markdown",
   "metadata": {},
   "source": [
    "____________________"
   ]
  },
  {
   "cell_type": "markdown",
   "metadata": {},
   "source": [
    "End"
   ]
  }
 ],
 "metadata": {
  "kernelspec": {
   "display_name": "Python 3",
   "language": "python",
   "name": "python3"
  },
  "language_info": {
   "codemirror_mode": {
    "name": "ipython",
    "version": 3
   },
   "file_extension": ".py",
   "mimetype": "text/x-python",
   "name": "python",
   "nbconvert_exporter": "python",
   "pygments_lexer": "ipython3",
   "version": "3.7.4"
  }
 },
 "nbformat": 4,
 "nbformat_minor": 2
}
