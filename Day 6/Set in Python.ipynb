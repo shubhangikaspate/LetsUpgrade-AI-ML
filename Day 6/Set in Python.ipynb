{
 "cells": [
  {
   "cell_type": "markdown",
   "metadata": {},
   "source": [
    " # Set in Python"
   ]
  },
  {
   "cell_type": "markdown",
   "metadata": {},
   "source": [
    "A set is a collection of elements which is unordered and unindexed. In Python sets are written with curly { } brackets."
   ]
  },
  {
   "cell_type": "code",
   "execution_count": 1,
   "metadata": {},
   "outputs": [
    {
     "data": {
      "text/plain": [
       "{}"
      ]
     },
     "execution_count": 1,
     "metadata": {},
     "output_type": "execute_result"
    }
   ],
   "source": [
    "# 1. Empty set\n",
    "s={}\n",
    "s"
   ]
  },
  {
   "cell_type": "code",
   "execution_count": 2,
   "metadata": {},
   "outputs": [
    {
     "data": {
      "text/plain": [
       "{'AI', 'DL', 'DS', 'ML'}"
      ]
     },
     "execution_count": 2,
     "metadata": {},
     "output_type": "execute_result"
    }
   ],
   "source": [
    "# 2. Creating Set\n",
    "s={\"AI\", \"ML\", \"DS\", \"DL\"}\n",
    "s"
   ]
  },
  {
   "cell_type": "code",
   "execution_count": 3,
   "metadata": {},
   "outputs": [
    {
     "name": "stdout",
     "output_type": "stream",
     "text": [
      "{'DL', 'ML', 'AI'}\n",
      "{'DL', 'ML', 'AI'}\n",
      "{'DL', 'ML', 'AI'}\n"
     ]
    }
   ],
   "source": [
    "# 3. Accessing Elements of Set\n",
    "\n",
    "# A\n",
    "s1={\"AI\", \"ML\", \"DL\"}\n",
    "\n",
    "for x in s1:\n",
    "    print(s1)"
   ]
  },
  {
   "cell_type": "code",
   "execution_count": 4,
   "metadata": {},
   "outputs": [
    {
     "name": "stdout",
     "output_type": "stream",
     "text": [
      "True\n"
     ]
    }
   ],
   "source": [
    "# B\n",
    "s={\"AI\", \"ML\", \"DS\", \"DL\"}\n",
    "\n",
    "print(\"ML\" in s)"
   ]
  },
  {
   "cell_type": "code",
   "execution_count": 5,
   "metadata": {},
   "outputs": [
    {
     "name": "stdout",
     "output_type": "stream",
     "text": [
      "{'Data Science', 'DL', 'ML', 'AI'}\n"
     ]
    }
   ],
   "source": [
    "# 4. Change an elements in set\n",
    "\n",
    "# a. Add() - to add element in set\n",
    "\n",
    "s1={\"AI\", \"ML\", \"DL\"}\n",
    "\n",
    "s1.add(\"Data Science\")\n",
    "\n",
    "print(s1)"
   ]
  },
  {
   "cell_type": "code",
   "execution_count": 6,
   "metadata": {},
   "outputs": [
    {
     "name": "stdout",
     "output_type": "stream",
     "text": [
      "{'AI', 'NLP', 'Stistics', 'ML', 'DL', 'Data Science'}\n"
     ]
    }
   ],
   "source": [
    "# b. Update() - to add more than 1 elements in set\n",
    "\n",
    "s1={\"AI\", \"ML\", \"DL\"}\n",
    "s1.update([\"Data Science\", \"NLP\", \"Stistics\" ])\n",
    "\n",
    "print(s1)\n"
   ]
  },
  {
   "cell_type": "code",
   "execution_count": 7,
   "metadata": {},
   "outputs": [
    {
     "name": "stdout",
     "output_type": "stream",
     "text": [
      "6\n"
     ]
    }
   ],
   "source": [
    "# 5. len() - to determine how many item a set has\n",
    "\n",
    "S1 = {'Data Science', 'ML', 'Stistics', 'NLP', 'AI', 'DL'}\n",
    "\n",
    "print(len(S1))"
   ]
  },
  {
   "cell_type": "code",
   "execution_count": 8,
   "metadata": {},
   "outputs": [
    {
     "name": "stdout",
     "output_type": "stream",
     "text": [
      "{'AI', 'NLP', 'ML', 'DL', 'Data Science'}\n"
     ]
    }
   ],
   "source": [
    "# 6. Removing Items From Set - remove(), discard(), pop(), clear(), del() are used.\n",
    "\n",
    "# a. remove()\n",
    "\n",
    "S1 = {'Data Science', 'ML', 'Statistics', 'NLP', 'AI', 'DL'}\n",
    "\n",
    "S1.remove(\"Statistics\")\n",
    "\n",
    "print(S1)\n"
   ]
  },
  {
   "cell_type": "code",
   "execution_count": 9,
   "metadata": {},
   "outputs": [
    {
     "name": "stdout",
     "output_type": "stream",
     "text": [
      "{'AI', 'Statistics', 'NLP', 'ML', 'DL'}\n"
     ]
    }
   ],
   "source": [
    "# b. discard()\n",
    "\n",
    "S1 = {'Data Science', 'ML', 'Statistics', 'NLP', 'AI', 'DL'}\n",
    "\n",
    "S1.discard(\"Data Science\")\n",
    "\n",
    "print(S1)"
   ]
  },
  {
   "cell_type": "code",
   "execution_count": 10,
   "metadata": {},
   "outputs": [
    {
     "name": "stdout",
     "output_type": "stream",
     "text": [
      "AI\n",
      "{'Statistics', 'NLP', 'ML', 'DL', 'Data Science'}\n"
     ]
    }
   ],
   "source": [
    "# c. pop()\n",
    "\n",
    "S1 = {'Data Science', 'ML', 'Statistics', 'NLP', 'AI', 'DL'}\n",
    "\n",
    "a = S1.pop()\n",
    "\n",
    "print(a)\n",
    "print(S1)"
   ]
  },
  {
   "cell_type": "code",
   "execution_count": 11,
   "metadata": {},
   "outputs": [
    {
     "name": "stdout",
     "output_type": "stream",
     "text": [
      "set()\n"
     ]
    }
   ],
   "source": [
    "# d. clear()\n",
    "\n",
    "\n",
    "S1 = {'Data Science', 'ML', 'Statistics', 'NLP', 'AI', 'DL'}\n",
    "\n",
    "S1.clear()\n",
    "\n",
    "print(S1)\n"
   ]
  },
  {
   "cell_type": "code",
   "execution_count": 12,
   "metadata": {},
   "outputs": [
    {
     "ename": "NameError",
     "evalue": "name 'S1' is not defined",
     "output_type": "error",
     "traceback": [
      "\u001b[1;31m---------------------------------------------------------------------------\u001b[0m",
      "\u001b[1;31mNameError\u001b[0m                                 Traceback (most recent call last)",
      "\u001b[1;32m<ipython-input-12-f70e482bed0e>\u001b[0m in \u001b[0;36m<module>\u001b[1;34m\u001b[0m\n\u001b[0;32m      5\u001b[0m \u001b[1;32mdel\u001b[0m \u001b[0mS1\u001b[0m\u001b[1;33m\u001b[0m\u001b[1;33m\u001b[0m\u001b[0m\n\u001b[0;32m      6\u001b[0m \u001b[1;33m\u001b[0m\u001b[0m\n\u001b[1;32m----> 7\u001b[1;33m \u001b[0mprint\u001b[0m\u001b[1;33m(\u001b[0m\u001b[0mS1\u001b[0m\u001b[1;33m)\u001b[0m\u001b[1;33m\u001b[0m\u001b[1;33m\u001b[0m\u001b[0m\n\u001b[0m\u001b[0;32m      8\u001b[0m \u001b[1;33m\u001b[0m\u001b[0m\n\u001b[0;32m      9\u001b[0m \u001b[1;31m# shows error as S1 is deleted\u001b[0m\u001b[1;33m\u001b[0m\u001b[1;33m\u001b[0m\u001b[1;33m\u001b[0m\u001b[0m\n",
      "\u001b[1;31mNameError\u001b[0m: name 'S1' is not defined"
     ]
    }
   ],
   "source": [
    "# e. del()\n",
    "\n",
    "S1 = {'Data Science', 'ML', 'Statistics', 'NLP', 'AI', 'DL'}\n",
    "\n",
    "del S1\n",
    "\n",
    "print(S1)\n",
    "\n",
    "# shows error as S1 is deleted"
   ]
  },
  {
   "cell_type": "code",
   "execution_count": 13,
   "metadata": {},
   "outputs": [
    {
     "name": "stdout",
     "output_type": "stream",
     "text": [
      "{'Coffee', 'Statistics', 'AI', 'Tea', 'Juice', 'NLP', 'ML', 'DL', 'Data Science'}\n"
     ]
    }
   ],
   "source": [
    "# 7. Joining two sets\n",
    "\n",
    "# a. union() \n",
    "\n",
    "S1 = {'Data Science', 'ML', 'Statistics', 'NLP', 'AI', 'DL'}\n",
    "S2 = {\"Coffee\", \"Tea\", \"Juice\"}\n",
    "\n",
    "S3 = S1.union(S2)\n",
    "print(S3)\n",
    "\n"
   ]
  },
  {
   "cell_type": "code",
   "execution_count": 14,
   "metadata": {},
   "outputs": [
    {
     "name": "stdout",
     "output_type": "stream",
     "text": [
      "{'AI', 'NLP', 'Stistics', 'ML', 'DL', 'Data Science'}\n"
     ]
    }
   ],
   "source": [
    "# b. update()\n",
    "\n",
    "\n",
    "S1 = {'Data Science', 'ML', 'Statistics', 'NLP', 'AI', 'DL'}\n",
    "S2 = {\"Coffee\", \"Tea\", \"Juice\"}\n",
    "\n",
    "S1.update('S2')\n",
    "print(s1)"
   ]
  },
  {
   "cell_type": "code",
   "execution_count": 15,
   "metadata": {},
   "outputs": [
    {
     "name": "stdout",
     "output_type": "stream",
     "text": [
      "{'Tea', 'Juice', 'Coffee'}\n"
     ]
    }
   ],
   "source": [
    "# 8. The set() Constructor\n",
    "\n",
    "# set() - is used make set\n",
    "\n",
    "\n",
    "S2 = set((\"Coffee\", \"Tea\", \"Juice\"))\n",
    "\n",
    "print(S2)\n"
   ]
  },
  {
   "cell_type": "code",
   "execution_count": 16,
   "metadata": {},
   "outputs": [
    {
     "name": "stdout",
     "output_type": "stream",
     "text": [
      "{'Tea', 'Juice', 'Coffee'}\n"
     ]
    }
   ],
   "source": [
    "# 9. copy() - used to copy the set.\n",
    "\n",
    "S1={'Juice', 'Coffee', 'Tea'}\n",
    "\n",
    "x = S1.copy()\n",
    "print (x)"
   ]
  },
  {
   "cell_type": "code",
   "execution_count": 17,
   "metadata": {},
   "outputs": [
    {
     "name": "stdout",
     "output_type": "stream",
     "text": [
      "{'Coffee'}\n"
     ]
    }
   ],
   "source": [
    "# 10. difference() - Return a set that contains the items that only exist in set 1, and not in set 2\n",
    "\n",
    "S1={'Juice', 'Coffee', 'Tea'}\n",
    "S2={'apple', 'banana', 'orange', 'Juice', 'Tea'}\n",
    "\n",
    "x=S1.difference(S2)\n",
    "print(x)\n"
   ]
  },
  {
   "cell_type": "code",
   "execution_count": 18,
   "metadata": {},
   "outputs": [
    {
     "name": "stdout",
     "output_type": "stream",
     "text": [
      "{'Coffee'}\n"
     ]
    }
   ],
   "source": [
    "# 11. difference_update() - removes the items that exist in both sets.\n",
    "\n",
    "S1={'Juice', 'Coffee', 'Tea'}\n",
    "S2={'apple', 'banana', 'orange', 'Juice', 'Tea'}\n",
    "\n",
    "S1.difference_update(S2)\n",
    "print(S1)\n"
   ]
  },
  {
   "cell_type": "code",
   "execution_count": 19,
   "metadata": {},
   "outputs": [
    {
     "name": "stdout",
     "output_type": "stream",
     "text": [
      "{'Tea', 'Juice'}\n"
     ]
    }
   ],
   "source": [
    "# 12. Intersection method \n",
    "# a. intersection() - Return a set that contains the items that exist in both sets\n",
    "\n",
    "S1={'Juice', 'Coffee', 'Tea'}\n",
    "S2={'apple', 'banana', 'orange', 'Juice', 'Tea'}\n",
    "\n",
    "x=S1.intersection(S2)\n",
    "print(x)\n"
   ]
  },
  {
   "cell_type": "code",
   "execution_count": 20,
   "metadata": {},
   "outputs": [
    {
     "name": "stdout",
     "output_type": "stream",
     "text": [
      "{'Tea', 'Juice'}\n"
     ]
    }
   ],
   "source": [
    "# b. intersection_update() - Remove the items that is not present in both sets\n",
    "\n",
    "S1={'Juice', 'Coffee', 'Tea'}\n",
    "S2={'apple', 'banana', 'orange', 'Juice', 'Tea'}\n",
    "\n",
    "S1.intersection_update(S2)\n",
    "print(S1)"
   ]
  },
  {
   "cell_type": "code",
   "execution_count": 21,
   "metadata": {},
   "outputs": [
    {
     "name": "stdout",
     "output_type": "stream",
     "text": [
      "False\n",
      "True\n"
     ]
    }
   ],
   "source": [
    "# c. isdisjoint() - Returns whether two sets have a intersection or not.\n",
    "                # (i.e. Return True if no items in set 1 is present in set 2)\n",
    "\n",
    "S1={'Juice', 'Coffee', 'Tea'}\n",
    "S2={'apple', 'banana', 'orange', 'Juice', 'Tea'}\n",
    "\n",
    "x=S1.isdisjoint(S2)\n",
    "print(x)    \n",
    "\n",
    "# -----------------------------------------------------------------\n",
    "\n",
    "A = {\"apple\", \"banana\", \"cherry\"}\n",
    "B = {\"google\", \"microsoft\", \"facebook\"}\n",
    "\n",
    "C = A.isdisjoint(B) \n",
    "\n",
    "print(C)\n"
   ]
  },
  {
   "cell_type": "code",
   "execution_count": 22,
   "metadata": {},
   "outputs": [
    {
     "name": "stdout",
     "output_type": "stream",
     "text": [
      "False\n",
      "True\n"
     ]
    }
   ],
   "source": [
    "# 13. issubset() -  returns True if all items in the set exists in the specified set, otherwise it retuns False.\n",
    "#                   Return True if all items set x are present in set y\n",
    "\n",
    "S1={'Juice', 'Coffee', 'Tea'}\n",
    "S2={'apple', 'banana', 'orange', 'Juice', 'Tea'}\n",
    "\n",
    "x=S1.issubset(S2)\n",
    "print(x) \n",
    "\n",
    "\n",
    "# --------------------------------------\n",
    "\n",
    "A = {\"apple\", \"banana\", \"cherry\"}\n",
    "B = {\"google\",\"apple\",\"apple\", \"microsoft\", \"banana\",\"facebook\", \"cherry\"}\n",
    "\n",
    "C = A.issubset(B) \n",
    "\n",
    "print(C)"
   ]
  },
  {
   "cell_type": "code",
   "execution_count": 23,
   "metadata": {},
   "outputs": [
    {
     "name": "stdout",
     "output_type": "stream",
     "text": [
      "True\n",
      "False\n"
     ]
    }
   ],
   "source": [
    "# 14. issuperset() - returns True if all items in the specified set exists in the original set, otherwise it retuns False.\n",
    "                   # (i.e. Return True if all items set 2 are present in set 1)\n",
    "\n",
    "A = {\"google\",\"apple\",\"apple\", \"microsoft\", \"banana\",\"facebook\", \"cherry\"}\n",
    "B = {\"apple\", \"banana\", \"cherry\"}\n",
    "\n",
    "C = A.issuperset(B) \n",
    "\n",
    "print(C)\n",
    "\n",
    "\n",
    "# -------------------------------------\n",
    "\n",
    "S1={'apple', 'banana', 'orange', 'Juice', 'Tea'}\n",
    "S2={'Juice', 'Coffee', 'Tea'}\n",
    "\n",
    "x=S1.issuperset(S2)\n",
    "print(x)"
   ]
  },
  {
   "cell_type": "code",
   "execution_count": 24,
   "metadata": {},
   "outputs": [
    {
     "name": "stdout",
     "output_type": "stream",
     "text": [
      "{'banana', 'apple', 'Coffee', 'orange'}\n",
      "{'banana', 'facebook', 'apple', 'microsoft', 'google', 'cherry'}\n"
     ]
    }
   ],
   "source": [
    "# 15. symmetric_difference() method\n",
    "\n",
    "# a. symmetric_difference() - returns a set that contains all items from both set, but not the items that are present in both sets.\n",
    "#                             (i.e.The returned set contains a mix of items that are not present in both sets.) \n",
    "\n",
    "S1={'Juice', 'Coffee', 'Tea'}\n",
    "S2={'apple', 'banana', 'orange', 'Juice', 'Tea'}\n",
    "\n",
    "x=S1.symmetric_difference(S2)\n",
    "print(x)    \n",
    "\n",
    "# -----------------------------------------------------------------\n",
    "\n",
    "A = {\"apple\", \"banana\", \"cherry\"}\n",
    "B = {\"google\", \"microsoft\", \"facebook\"}\n",
    "\n",
    "C = A.symmetric_difference(B) \n",
    "\n",
    "print(C)"
   ]
  },
  {
   "cell_type": "code",
   "execution_count": 25,
   "metadata": {},
   "outputs": [
    {
     "name": "stdout",
     "output_type": "stream",
     "text": [
      "{'banana', 'apple', 'Coffee', 'orange'}\n",
      "{'microsoft', 'cherry', 'google', 'facebook'}\n"
     ]
    }
   ],
   "source": [
    "# b. symmetric_difference_update()- updates the original set by removing items that are present in both sets, and inserting the other items.\n",
    "#                     (i.e. Remove the items that are present in both sets, AND insert the items that is not present in both sets)\n",
    "\n",
    "S1={'Juice', 'Coffee', 'Tea'}\n",
    "S2={'apple', 'banana', 'orange', 'Juice', 'Tea'}\n",
    "\n",
    "S1.symmetric_difference_update(S2)\n",
    "print(S1)    \n",
    "\n",
    "# -----------------------------------------------------------------\n",
    "\n",
    "A = {\"apple\", \"banana\", \"cherry\"}\n",
    "B = {\"google\", \"banana\", \"microsoft\", \"facebook\", \"apple\"}\n",
    "\n",
    "A.symmetric_difference_update(B) \n",
    "\n",
    "print(A)"
   ]
  },
  {
   "cell_type": "markdown",
   "metadata": {},
   "source": [
    "__________________"
   ]
  },
  {
   "cell_type": "markdown",
   "metadata": {},
   "source": [
    "End"
   ]
  },
  {
   "cell_type": "markdown",
   "metadata": {},
   "source": [
    "________________________"
   ]
  }
 ],
 "metadata": {
  "kernelspec": {
   "display_name": "Python 3",
   "language": "python",
   "name": "python3"
  },
  "language_info": {
   "codemirror_mode": {
    "name": "ipython",
    "version": 3
   },
   "file_extension": ".py",
   "mimetype": "text/x-python",
   "name": "python",
   "nbconvert_exporter": "python",
   "pygments_lexer": "ipython3",
   "version": "3.7.4"
  }
 },
 "nbformat": 4,
 "nbformat_minor": 2
}
