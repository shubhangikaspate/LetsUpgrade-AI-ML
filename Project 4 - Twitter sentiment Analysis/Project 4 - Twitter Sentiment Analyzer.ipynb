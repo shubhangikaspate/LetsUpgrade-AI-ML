{
 "cells": [
  {
   "cell_type": "markdown",
   "metadata": {},
   "source": [
    "# Twitter sentiment Analysis"
   ]
  },
  {
   "cell_type": "raw",
   "metadata": {},
   "source": [
    " We will collect data using twitter API."
   ]
  },
  {
   "cell_type": "raw",
   "metadata": {},
   "source": [
    "!pip install tweepy   # Used to work on twitter data\n",
    "\n",
    "!pip install openpyxl # used to read and write excel files"
   ]
  },
  {
   "cell_type": "code",
   "execution_count": 1,
   "metadata": {},
   "outputs": [
    {
     "name": "stdout",
     "output_type": "stream",
     "text": [
      "Requirement already satisfied: tweepy in c:\\users\\vishal\\anaconda3\\lib\\site-packages (3.9.0)\n",
      "Requirement already satisfied: six>=1.10.0 in c:\\users\\vishal\\anaconda3\\lib\\site-packages (from tweepy) (1.12.0)\n",
      "Requirement already satisfied: requests-oauthlib>=0.7.0 in c:\\users\\vishal\\anaconda3\\lib\\site-packages (from tweepy) (1.3.0)\n",
      "Requirement already satisfied: requests[socks]>=2.11.1 in c:\\users\\vishal\\anaconda3\\lib\\site-packages (from tweepy) (2.22.0)\n",
      "Requirement already satisfied: oauthlib>=3.0.0 in c:\\users\\vishal\\anaconda3\\lib\\site-packages (from requests-oauthlib>=0.7.0->tweepy) (3.1.0)\n",
      "Requirement already satisfied: urllib3!=1.25.0,!=1.25.1,<1.26,>=1.21.1 in c:\\users\\vishal\\anaconda3\\lib\\site-packages (from requests[socks]>=2.11.1->tweepy) (1.24.2)\n",
      "Requirement already satisfied: chardet<3.1.0,>=3.0.2 in c:\\users\\vishal\\anaconda3\\lib\\site-packages (from requests[socks]>=2.11.1->tweepy) (3.0.4)\n",
      "Requirement already satisfied: idna<2.9,>=2.5 in c:\\users\\vishal\\anaconda3\\lib\\site-packages (from requests[socks]>=2.11.1->tweepy) (2.8)\n",
      "Requirement already satisfied: certifi>=2017.4.17 in c:\\users\\vishal\\anaconda3\\lib\\site-packages (from requests[socks]>=2.11.1->tweepy) (2019.9.11)\n",
      "Requirement already satisfied: PySocks!=1.5.7,>=1.5.6; extra == \"socks\" in c:\\users\\vishal\\anaconda3\\lib\\site-packages (from requests[socks]>=2.11.1->tweepy) (1.7.1)\n"
     ]
    }
   ],
   "source": [
    "!pip install tweepy"
   ]
  },
  {
   "cell_type": "code",
   "execution_count": 2,
   "metadata": {},
   "outputs": [
    {
     "name": "stdout",
     "output_type": "stream",
     "text": [
      "Requirement already satisfied: openpyxl in c:\\users\\vishal\\anaconda3\\lib\\site-packages (3.0.0)\n",
      "Requirement already satisfied: jdcal in c:\\users\\vishal\\anaconda3\\lib\\site-packages (from openpyxl) (1.4.1)\n",
      "Requirement already satisfied: et-xmlfile in c:\\users\\vishal\\anaconda3\\lib\\site-packages (from openpyxl) (1.0.1)\n"
     ]
    }
   ],
   "source": [
    "!pip install openpyxl"
   ]
  },
  {
   "cell_type": "markdown",
   "metadata": {},
   "source": [
    "# Import Packages"
   ]
  },
  {
   "cell_type": "code",
   "execution_count": 3,
   "metadata": {},
   "outputs": [],
   "source": [
    "import numpy as np\n",
    "import pandas as pd\n",
    "import tweepy\n",
    "import json\n",
    "from tweepy import OAuthHandler"
   ]
  },
  {
   "cell_type": "markdown",
   "metadata": {},
   "source": [
    "# Import API Consumer Access details:"
   ]
  },
  {
   "cell_type": "code",
   "execution_count": 4,
   "metadata": {},
   "outputs": [],
   "source": [
    "consumer_key = \"TbquVVBcdhMC31gBYe8zfUG4n\"\n",
    "consumer_secret = \"RyyBUasXkTNxlJhOu4Vuw9fEw2PtAmtaSdWeLtZrEm6RESIDic\"\n",
    "access_token = \"2430203803-IqMeisouCaJROu7O0opZexK2SEHchOazeP983i1\"\n",
    "access_token_secret = \"uRN81Ws1qh1qPinkCy3T7WQyXJJLmVBKu2M5D4LqLQ80c\"\n"
   ]
  },
  {
   "cell_type": "markdown",
   "metadata": {},
   "source": [
    "# Call API"
   ]
  },
  {
   "cell_type": "code",
   "execution_count": 5,
   "metadata": {},
   "outputs": [],
   "source": [
    "auth = tweepy.OAuthHandler (consumer_key, consumer_secret)\n",
    "auth.set_access_token( access_token, access_token_secret )\n",
    "api = tweepy.API(auth)"
   ]
  },
  {
   "cell_type": "markdown",
   "metadata": {},
   "source": [
    "# Selecting Query statement"
   ]
  },
  {
   "cell_type": "code",
   "execution_count": 6,
   "metadata": {},
   "outputs": [],
   "source": [
    "query  = \"bjp win in Bihar election 2020\"\n"
   ]
  },
  {
   "cell_type": "code",
   "execution_count": 7,
   "metadata": {},
   "outputs": [],
   "source": [
    "Tweets = api.search(query, count=10, lang='en', exclude='retweets', tweet_mode='extended' ) \n",
    "\n",
    "                    \n",
    "# Tweet mode cane be extended or compat. tweet_mode='extended' or tweet_mode='compat'\n",
    "# count = 10 will gives only 10 tweets related to query\n",
    "\n",
    "                               "
   ]
  },
  {
   "cell_type": "code",
   "execution_count": 8,
   "metadata": {},
   "outputs": [
    {
     "name": "stdout",
     "output_type": "stream",
     "text": [
      "Status(_api=<tweepy.api.API object at 0x0000000009135688>, _json={'created_at': 'Thu Nov 12 07:29:46 +0000 2020', 'id': 1326789265959874560, 'id_str': '1326789265959874560', 'full_text': 'Seats won by majority parties in Bihar Elections 2020:\\n\\nRJD (TEJASWI YADAV)-75\\nBJP (MODI)-71\\nJDU (NITISH KUMAR)-43\\n\\nTejaswi won the majority of seats but lost to the alliance.\\n\\nCan BJP win any election without the alliance?\\nNO.', 'truncated': False, 'display_text_range': [0, 227], 'entities': {'hashtags': [], 'symbols': [], 'user_mentions': [], 'urls': []}, 'metadata': {'iso_language_code': 'en', 'result_type': 'recent'}, 'source': '<a href=\"http://twitter.com/download/android\" rel=\"nofollow\">Twitter for Android</a>', 'in_reply_to_status_id': None, 'in_reply_to_status_id_str': None, 'in_reply_to_user_id': None, 'in_reply_to_user_id_str': None, 'in_reply_to_screen_name': None, 'user': {'id': 1022078280114098176, 'id_str': '1022078280114098176', 'name': 'Garvit Gautam', 'screen_name': 'garvitgautamg', 'location': 'Mumbai, India', 'description': \"I'm a full-time Procrastinator and a part-time Writer.\", 'url': 'https://t.co/PRpbl69lKG', 'entities': {'url': {'urls': [{'url': 'https://t.co/PRpbl69lKG', 'expanded_url': 'https://www.instagram.com/garvitgautamg/', 'display_url': 'instagram.com/garvitgautamg/', 'indices': [0, 23]}]}, 'description': {'urls': []}}, 'protected': False, 'followers_count': 44, 'friends_count': 67, 'listed_count': 0, 'created_at': 'Wed Jul 25 11:17:06 +0000 2018', 'favourites_count': 1063, 'utc_offset': None, 'time_zone': None, 'geo_enabled': False, 'verified': False, 'statuses_count': 203, 'lang': None, 'contributors_enabled': False, 'is_translator': False, 'is_translation_enabled': False, 'profile_background_color': 'F5F8FA', 'profile_background_image_url': None, 'profile_background_image_url_https': None, 'profile_background_tile': False, 'profile_image_url': 'http://pbs.twimg.com/profile_images/1324760644365660160/DIBZ-SWQ_normal.jpg', 'profile_image_url_https': 'https://pbs.twimg.com/profile_images/1324760644365660160/DIBZ-SWQ_normal.jpg', 'profile_banner_url': 'https://pbs.twimg.com/profile_banners/1022078280114098176/1600090760', 'profile_link_color': '1DA1F2', 'profile_sidebar_border_color': 'C0DEED', 'profile_sidebar_fill_color': 'DDEEF6', 'profile_text_color': '333333', 'profile_use_background_image': True, 'has_extended_profile': True, 'default_profile': True, 'default_profile_image': False, 'following': False, 'follow_request_sent': False, 'notifications': False, 'translator_type': 'none'}, 'geo': None, 'coordinates': None, 'place': None, 'contributors': None, 'is_quote_status': False, 'retweet_count': 0, 'favorite_count': 0, 'favorited': False, 'retweeted': False, 'lang': 'en'}, created_at=datetime.datetime(2020, 11, 12, 7, 29, 46), id=1326789265959874560, id_str='1326789265959874560', full_text='Seats won by majority parties in Bihar Elections 2020:\\n\\nRJD (TEJASWI YADAV)-75\\nBJP (MODI)-71\\nJDU (NITISH KUMAR)-43\\n\\nTejaswi won the majority of seats but lost to the alliance.\\n\\nCan BJP win any election without the alliance?\\nNO.', truncated=False, display_text_range=[0, 227], entities={'hashtags': [], 'symbols': [], 'user_mentions': [], 'urls': []}, metadata={'iso_language_code': 'en', 'result_type': 'recent'}, source='Twitter for Android', source_url='http://twitter.com/download/android', in_reply_to_status_id=None, in_reply_to_status_id_str=None, in_reply_to_user_id=None, in_reply_to_user_id_str=None, in_reply_to_screen_name=None, author=User(_api=<tweepy.api.API object at 0x0000000009135688>, _json={'id': 1022078280114098176, 'id_str': '1022078280114098176', 'name': 'Garvit Gautam', 'screen_name': 'garvitgautamg', 'location': 'Mumbai, India', 'description': \"I'm a full-time Procrastinator and a part-time Writer.\", 'url': 'https://t.co/PRpbl69lKG', 'entities': {'url': {'urls': [{'url': 'https://t.co/PRpbl69lKG', 'expanded_url': 'https://www.instagram.com/garvitgautamg/', 'display_url': 'instagram.com/garvitgautamg/', 'indices': [0, 23]}]}, 'description': {'urls': []}}, 'protected': False, 'followers_count': 44, 'friends_count': 67, 'listed_count': 0, 'created_at': 'Wed Jul 25 11:17:06 +0000 2018', 'favourites_count': 1063, 'utc_offset': None, 'time_zone': None, 'geo_enabled': False, 'verified': False, 'statuses_count': 203, 'lang': None, 'contributors_enabled': False, 'is_translator': False, 'is_translation_enabled': False, 'profile_background_color': 'F5F8FA', 'profile_background_image_url': None, 'profile_background_image_url_https': None, 'profile_background_tile': False, 'profile_image_url': 'http://pbs.twimg.com/profile_images/1324760644365660160/DIBZ-SWQ_normal.jpg', 'profile_image_url_https': 'https://pbs.twimg.com/profile_images/1324760644365660160/DIBZ-SWQ_normal.jpg', 'profile_banner_url': 'https://pbs.twimg.com/profile_banners/1022078280114098176/1600090760', 'profile_link_color': '1DA1F2', 'profile_sidebar_border_color': 'C0DEED', 'profile_sidebar_fill_color': 'DDEEF6', 'profile_text_color': '333333', 'profile_use_background_image': True, 'has_extended_profile': True, 'default_profile': True, 'default_profile_image': False, 'following': False, 'follow_request_sent': False, 'notifications': False, 'translator_type': 'none'}, id=1022078280114098176, id_str='1022078280114098176', name='Garvit Gautam', screen_name='garvitgautamg', location='Mumbai, India', description=\"I'm a full-time Procrastinator and a part-time Writer.\", url='https://t.co/PRpbl69lKG', entities={'url': {'urls': [{'url': 'https://t.co/PRpbl69lKG', 'expanded_url': 'https://www.instagram.com/garvitgautamg/', 'display_url': 'instagram.com/garvitgautamg/', 'indices': [0, 23]}]}, 'description': {'urls': []}}, protected=False, followers_count=44, friends_count=67, listed_count=0, created_at=datetime.datetime(2018, 7, 25, 11, 17, 6), favourites_count=1063, utc_offset=None, time_zone=None, geo_enabled=False, verified=False, statuses_count=203, lang=None, contributors_enabled=False, is_translator=False, is_translation_enabled=False, profile_background_color='F5F8FA', profile_background_image_url=None, profile_background_image_url_https=None, profile_background_tile=False, profile_image_url='http://pbs.twimg.com/profile_images/1324760644365660160/DIBZ-SWQ_normal.jpg', profile_image_url_https='https://pbs.twimg.com/profile_images/1324760644365660160/DIBZ-SWQ_normal.jpg', profile_banner_url='https://pbs.twimg.com/profile_banners/1022078280114098176/1600090760', profile_link_color='1DA1F2', profile_sidebar_border_color='C0DEED', profile_sidebar_fill_color='DDEEF6', profile_text_color='333333', profile_use_background_image=True, has_extended_profile=True, default_profile=True, default_profile_image=False, following=False, follow_request_sent=False, notifications=False, translator_type='none'), user=User(_api=<tweepy.api.API object at 0x0000000009135688>, _json={'id': 1022078280114098176, 'id_str': '1022078280114098176', 'name': 'Garvit Gautam', 'screen_name': 'garvitgautamg', 'location': 'Mumbai, India', 'description': \"I'm a full-time Procrastinator and a part-time Writer.\", 'url': 'https://t.co/PRpbl69lKG', 'entities': {'url': {'urls': [{'url': 'https://t.co/PRpbl69lKG', 'expanded_url': 'https://www.instagram.com/garvitgautamg/', 'display_url': 'instagram.com/garvitgautamg/', 'indices': [0, 23]}]}, 'description': {'urls': []}}, 'protected': False, 'followers_count': 44, 'friends_count': 67, 'listed_count': 0, 'created_at': 'Wed Jul 25 11:17:06 +0000 2018', 'favourites_count': 1063, 'utc_offset': None, 'time_zone': None, 'geo_enabled': False, 'verified': False, 'statuses_count': 203, 'lang': None, 'contributors_enabled': False, 'is_translator': False, 'is_translation_enabled': False, 'profile_background_color': 'F5F8FA', 'profile_background_image_url': None, 'profile_background_image_url_https': None, 'profile_background_tile': False, 'profile_image_url': 'http://pbs.twimg.com/profile_images/1324760644365660160/DIBZ-SWQ_normal.jpg', 'profile_image_url_https': 'https://pbs.twimg.com/profile_images/1324760644365660160/DIBZ-SWQ_normal.jpg', 'profile_banner_url': 'https://pbs.twimg.com/profile_banners/1022078280114098176/1600090760', 'profile_link_color': '1DA1F2', 'profile_sidebar_border_color': 'C0DEED', 'profile_sidebar_fill_color': 'DDEEF6', 'profile_text_color': '333333', 'profile_use_background_image': True, 'has_extended_profile': True, 'default_profile': True, 'default_profile_image': False, 'following': False, 'follow_request_sent': False, 'notifications': False, 'translator_type': 'none'}, id=1022078280114098176, id_str='1022078280114098176', name='Garvit Gautam', screen_name='garvitgautamg', location='Mumbai, India', description=\"I'm a full-time Procrastinator and a part-time Writer.\", url='https://t.co/PRpbl69lKG', entities={'url': {'urls': [{'url': 'https://t.co/PRpbl69lKG', 'expanded_url': 'https://www.instagram.com/garvitgautamg/', 'display_url': 'instagram.com/garvitgautamg/', 'indices': [0, 23]}]}, 'description': {'urls': []}}, protected=False, followers_count=44, friends_count=67, listed_count=0, created_at=datetime.datetime(2018, 7, 25, 11, 17, 6), favourites_count=1063, utc_offset=None, time_zone=None, geo_enabled=False, verified=False, statuses_count=203, lang=None, contributors_enabled=False, is_translator=False, is_translation_enabled=False, profile_background_color='F5F8FA', profile_background_image_url=None, profile_background_image_url_https=None, profile_background_tile=False, profile_image_url='http://pbs.twimg.com/profile_images/1324760644365660160/DIBZ-SWQ_normal.jpg', profile_image_url_https='https://pbs.twimg.com/profile_images/1324760644365660160/DIBZ-SWQ_normal.jpg', profile_banner_url='https://pbs.twimg.com/profile_banners/1022078280114098176/1600090760', profile_link_color='1DA1F2', profile_sidebar_border_color='C0DEED', profile_sidebar_fill_color='DDEEF6', profile_text_color='333333', profile_use_background_image=True, has_extended_profile=True, default_profile=True, default_profile_image=False, following=False, follow_request_sent=False, notifications=False, translator_type='none'), geo=None, coordinates=None, place=None, contributors=None, is_quote_status=False, retweet_count=0, favorite_count=0, favorited=False, retweeted=False, lang='en') \n",
      "\n",
      "---------------------------------------------------\n",
      "\n",
      "Status(_api=<tweepy.api.API object at 0x0000000009135688>, _json={'created_at': 'Thu Nov 12 03:03:36 +0000 2020', 'id': 1326722284627791873, 'id_str': '1326722284627791873', 'full_text': 'Indian election lessons for USA👌:\\nIndia just completed another flawless elections. Bihar is amongst the poorest states, but lively democratic process with counting taking just 1 day. USA electoral process is flawed. Fix it for healthy democracy 👌🙏🙏🙏:\\n\\nhttps://t.co/ASVfEX35Me', 'truncated': False, 'display_text_range': [0, 275], 'entities': {'hashtags': [], 'symbols': [], 'user_mentions': [], 'urls': [{'url': 'https://t.co/ASVfEX35Me', 'expanded_url': 'https://www.msn.com/en-in/news/other/bihar-election-final-results-2020-live-updates-narendra-modis-credibility-biggest-reason-for-ndas-win-says-state-bjp-chief-bhupender-yadav/ar-BB1aR1bD', 'display_url': 'msn.com/en-in/news/oth…', 'indices': [252, 275]}]}, 'metadata': {'iso_language_code': 'en', 'result_type': 'recent'}, 'source': '<a href=\"http://twitter.com/#!/download/ipad\" rel=\"nofollow\">Twitter for iPad</a>', 'in_reply_to_status_id': None, 'in_reply_to_status_id_str': None, 'in_reply_to_user_id': None, 'in_reply_to_user_id_str': None, 'in_reply_to_screen_name': None, 'user': {'id': 721846632912801793, 'id_str': '721846632912801793', 'name': 'Dr. Prasad’s Space', 'screen_name': 'indiamusings', 'location': 'Planet Earth', 'description': 'Universal view. Love & respect all people equally. Love animals & plants. Proud father. Views & Tweets are personal. RTs not endorsements💙🇺🇸🇮🇳🙏👌', 'url': None, 'entities': {'description': {'urls': []}}, 'protected': False, 'followers_count': 1949, 'friends_count': 5002, 'listed_count': 1, 'created_at': 'Sun Apr 17 23:43:43 +0000 2016', 'favourites_count': 32043, 'utc_offset': None, 'time_zone': None, 'geo_enabled': False, 'verified': False, 'statuses_count': 23217, 'lang': None, 'contributors_enabled': False, 'is_translator': False, 'is_translation_enabled': False, 'profile_background_color': 'F5F8FA', 'profile_background_image_url': None, 'profile_background_image_url_https': None, 'profile_background_tile': False, 'profile_image_url': 'http://pbs.twimg.com/profile_images/1325511347342249985/QHlYMilJ_normal.jpg', 'profile_image_url_https': 'https://pbs.twimg.com/profile_images/1325511347342249985/QHlYMilJ_normal.jpg', 'profile_banner_url': 'https://pbs.twimg.com/profile_banners/721846632912801793/1520132617', 'profile_link_color': '1DA1F2', 'profile_sidebar_border_color': 'C0DEED', 'profile_sidebar_fill_color': 'DDEEF6', 'profile_text_color': '333333', 'profile_use_background_image': True, 'has_extended_profile': False, 'default_profile': True, 'default_profile_image': False, 'following': False, 'follow_request_sent': False, 'notifications': False, 'translator_type': 'none'}, 'geo': None, 'coordinates': None, 'place': None, 'contributors': None, 'is_quote_status': False, 'retweet_count': 1, 'favorite_count': 2, 'favorited': False, 'retweeted': False, 'possibly_sensitive': False, 'lang': 'en'}, created_at=datetime.datetime(2020, 11, 12, 3, 3, 36), id=1326722284627791873, id_str='1326722284627791873', full_text='Indian election lessons for USA👌:\\nIndia just completed another flawless elections. Bihar is amongst the poorest states, but lively democratic process with counting taking just 1 day. USA electoral process is flawed. Fix it for healthy democracy 👌🙏🙏🙏:\\n\\nhttps://t.co/ASVfEX35Me', truncated=False, display_text_range=[0, 275], entities={'hashtags': [], 'symbols': [], 'user_mentions': [], 'urls': [{'url': 'https://t.co/ASVfEX35Me', 'expanded_url': 'https://www.msn.com/en-in/news/other/bihar-election-final-results-2020-live-updates-narendra-modis-credibility-biggest-reason-for-ndas-win-says-state-bjp-chief-bhupender-yadav/ar-BB1aR1bD', 'display_url': 'msn.com/en-in/news/oth…', 'indices': [252, 275]}]}, metadata={'iso_language_code': 'en', 'result_type': 'recent'}, source='Twitter for iPad', source_url='http://twitter.com/#!/download/ipad', in_reply_to_status_id=None, in_reply_to_status_id_str=None, in_reply_to_user_id=None, in_reply_to_user_id_str=None, in_reply_to_screen_name=None, author=User(_api=<tweepy.api.API object at 0x0000000009135688>, _json={'id': 721846632912801793, 'id_str': '721846632912801793', 'name': 'Dr. Prasad’s Space', 'screen_name': 'indiamusings', 'location': 'Planet Earth', 'description': 'Universal view. Love & respect all people equally. Love animals & plants. Proud father. Views & Tweets are personal. RTs not endorsements💙🇺🇸🇮🇳🙏👌', 'url': None, 'entities': {'description': {'urls': []}}, 'protected': False, 'followers_count': 1949, 'friends_count': 5002, 'listed_count': 1, 'created_at': 'Sun Apr 17 23:43:43 +0000 2016', 'favourites_count': 32043, 'utc_offset': None, 'time_zone': None, 'geo_enabled': False, 'verified': False, 'statuses_count': 23217, 'lang': None, 'contributors_enabled': False, 'is_translator': False, 'is_translation_enabled': False, 'profile_background_color': 'F5F8FA', 'profile_background_image_url': None, 'profile_background_image_url_https': None, 'profile_background_tile': False, 'profile_image_url': 'http://pbs.twimg.com/profile_images/1325511347342249985/QHlYMilJ_normal.jpg', 'profile_image_url_https': 'https://pbs.twimg.com/profile_images/1325511347342249985/QHlYMilJ_normal.jpg', 'profile_banner_url': 'https://pbs.twimg.com/profile_banners/721846632912801793/1520132617', 'profile_link_color': '1DA1F2', 'profile_sidebar_border_color': 'C0DEED', 'profile_sidebar_fill_color': 'DDEEF6', 'profile_text_color': '333333', 'profile_use_background_image': True, 'has_extended_profile': False, 'default_profile': True, 'default_profile_image': False, 'following': False, 'follow_request_sent': False, 'notifications': False, 'translator_type': 'none'}, id=721846632912801793, id_str='721846632912801793', name='Dr. Prasad’s Space', screen_name='indiamusings', location='Planet Earth', description='Universal view. Love & respect all people equally. Love animals & plants. Proud father. Views & Tweets are personal. RTs not endorsements💙🇺🇸🇮🇳🙏👌', url=None, entities={'description': {'urls': []}}, protected=False, followers_count=1949, friends_count=5002, listed_count=1, created_at=datetime.datetime(2016, 4, 17, 23, 43, 43), favourites_count=32043, utc_offset=None, time_zone=None, geo_enabled=False, verified=False, statuses_count=23217, lang=None, contributors_enabled=False, is_translator=False, is_translation_enabled=False, profile_background_color='F5F8FA', profile_background_image_url=None, profile_background_image_url_https=None, profile_background_tile=False, profile_image_url='http://pbs.twimg.com/profile_images/1325511347342249985/QHlYMilJ_normal.jpg', profile_image_url_https='https://pbs.twimg.com/profile_images/1325511347342249985/QHlYMilJ_normal.jpg', profile_banner_url='https://pbs.twimg.com/profile_banners/721846632912801793/1520132617', profile_link_color='1DA1F2', profile_sidebar_border_color='C0DEED', profile_sidebar_fill_color='DDEEF6', profile_text_color='333333', profile_use_background_image=True, has_extended_profile=False, default_profile=True, default_profile_image=False, following=False, follow_request_sent=False, notifications=False, translator_type='none'), user=User(_api=<tweepy.api.API object at 0x0000000009135688>, _json={'id': 721846632912801793, 'id_str': '721846632912801793', 'name': 'Dr. Prasad’s Space', 'screen_name': 'indiamusings', 'location': 'Planet Earth', 'description': 'Universal view. Love & respect all people equally. Love animals & plants. Proud father. Views & Tweets are personal. RTs not endorsements💙🇺🇸🇮🇳🙏👌', 'url': None, 'entities': {'description': {'urls': []}}, 'protected': False, 'followers_count': 1949, 'friends_count': 5002, 'listed_count': 1, 'created_at': 'Sun Apr 17 23:43:43 +0000 2016', 'favourites_count': 32043, 'utc_offset': None, 'time_zone': None, 'geo_enabled': False, 'verified': False, 'statuses_count': 23217, 'lang': None, 'contributors_enabled': False, 'is_translator': False, 'is_translation_enabled': False, 'profile_background_color': 'F5F8FA', 'profile_background_image_url': None, 'profile_background_image_url_https': None, 'profile_background_tile': False, 'profile_image_url': 'http://pbs.twimg.com/profile_images/1325511347342249985/QHlYMilJ_normal.jpg', 'profile_image_url_https': 'https://pbs.twimg.com/profile_images/1325511347342249985/QHlYMilJ_normal.jpg', 'profile_banner_url': 'https://pbs.twimg.com/profile_banners/721846632912801793/1520132617', 'profile_link_color': '1DA1F2', 'profile_sidebar_border_color': 'C0DEED', 'profile_sidebar_fill_color': 'DDEEF6', 'profile_text_color': '333333', 'profile_use_background_image': True, 'has_extended_profile': False, 'default_profile': True, 'default_profile_image': False, 'following': False, 'follow_request_sent': False, 'notifications': False, 'translator_type': 'none'}, id=721846632912801793, id_str='721846632912801793', name='Dr. Prasad’s Space', screen_name='indiamusings', location='Planet Earth', description='Universal view. Love & respect all people equally. Love animals & plants. Proud father. Views & Tweets are personal. RTs not endorsements💙🇺🇸🇮🇳🙏👌', url=None, entities={'description': {'urls': []}}, protected=False, followers_count=1949, friends_count=5002, listed_count=1, created_at=datetime.datetime(2016, 4, 17, 23, 43, 43), favourites_count=32043, utc_offset=None, time_zone=None, geo_enabled=False, verified=False, statuses_count=23217, lang=None, contributors_enabled=False, is_translator=False, is_translation_enabled=False, profile_background_color='F5F8FA', profile_background_image_url=None, profile_background_image_url_https=None, profile_background_tile=False, profile_image_url='http://pbs.twimg.com/profile_images/1325511347342249985/QHlYMilJ_normal.jpg', profile_image_url_https='https://pbs.twimg.com/profile_images/1325511347342249985/QHlYMilJ_normal.jpg', profile_banner_url='https://pbs.twimg.com/profile_banners/721846632912801793/1520132617', profile_link_color='1DA1F2', profile_sidebar_border_color='C0DEED', profile_sidebar_fill_color='DDEEF6', profile_text_color='333333', profile_use_background_image=True, has_extended_profile=False, default_profile=True, default_profile_image=False, following=False, follow_request_sent=False, notifications=False, translator_type='none'), geo=None, coordinates=None, place=None, contributors=None, is_quote_status=False, retweet_count=1, favorite_count=2, favorited=False, retweeted=False, possibly_sensitive=False, lang='en') \n",
      "\n",
      "---------------------------------------------------\n",
      "\n",
      "Status(_api=<tweepy.api.API object at 0x0000000009135688>, _json={'created_at': 'Wed Nov 11 17:57:49 +0000 2020', 'id': 1326584934710996998, 'id_str': '1326584934710996998', 'full_text': \"NDA's win in Bihar: Is BJP an unstoppable election juggernaut?\\n\\nWatch full show #NewsToday with @sardesairajdeep: https://t.co/nvo4GYMtff https://t.co/Fx8ckywcwc\", 'truncated': False, 'display_text_range': [0, 137], 'entities': {'hashtags': [{'text': 'NewsToday', 'indices': [80, 90]}], 'symbols': [], 'user_mentions': [{'screen_name': 'sardesairajdeep', 'name': 'Rajdeep Sardesai', 'id': 56304605, 'id_str': '56304605', 'indices': [96, 112]}], 'urls': [{'url': 'https://t.co/nvo4GYMtff', 'expanded_url': 'https://bit.ly/32yZOPr', 'display_url': 'bit.ly/32yZOPr', 'indices': [114, 137]}], 'media': [{'id': 1326551092910456834, 'id_str': '1326551092910456834', 'indices': [138, 161], 'media_url': 'http://pbs.twimg.com/amplify_video_thumb/1326551092910456834/img/RBEXbYiNigifZ-yC.jpg', 'media_url_https': 'https://pbs.twimg.com/amplify_video_thumb/1326551092910456834/img/RBEXbYiNigifZ-yC.jpg', 'url': 'https://t.co/Fx8ckywcwc', 'display_url': 'pic.twitter.com/Fx8ckywcwc', 'expanded_url': 'https://twitter.com/IndiaToday/status/1326584934710996998/video/1', 'type': 'photo', 'sizes': {'thumb': {'w': 150, 'h': 150, 'resize': 'crop'}, 'medium': {'w': 854, 'h': 480, 'resize': 'fit'}, 'large': {'w': 854, 'h': 480, 'resize': 'fit'}, 'small': {'w': 680, 'h': 382, 'resize': 'fit'}}}]}, 'extended_entities': {'media': [{'id': 1326551092910456834, 'id_str': '1326551092910456834', 'indices': [138, 161], 'media_url': 'http://pbs.twimg.com/amplify_video_thumb/1326551092910456834/img/RBEXbYiNigifZ-yC.jpg', 'media_url_https': 'https://pbs.twimg.com/amplify_video_thumb/1326551092910456834/img/RBEXbYiNigifZ-yC.jpg', 'url': 'https://t.co/Fx8ckywcwc', 'display_url': 'pic.twitter.com/Fx8ckywcwc', 'expanded_url': 'https://twitter.com/IndiaToday/status/1326584934710996998/video/1', 'type': 'video', 'sizes': {'thumb': {'w': 150, 'h': 150, 'resize': 'crop'}, 'medium': {'w': 854, 'h': 480, 'resize': 'fit'}, 'large': {'w': 854, 'h': 480, 'resize': 'fit'}, 'small': {'w': 680, 'h': 382, 'resize': 'fit'}}, 'video_info': {'aspect_ratio': [427, 240], 'duration_millis': 227296, 'variants': [{'bitrate': 288000, 'content_type': 'video/mp4', 'url': 'https://video.twimg.com/amplify_video/1326551092910456834/vid/480x270/YfYBz7dWHwYZdoKv.mp4?tag=13'}, {'bitrate': 832000, 'content_type': 'video/mp4', 'url': 'https://video.twimg.com/amplify_video/1326551092910456834/vid/640x360/XglNbSCnUZjGTzDt.mp4?tag=13'}, {'content_type': 'application/x-mpegURL', 'url': 'https://video.twimg.com/amplify_video/1326551092910456834/pl/VBJkyQw9GU3-zaJg.m3u8?tag=13'}, {'bitrate': 2176000, 'content_type': 'video/mp4', 'url': 'https://video.twimg.com/amplify_video/1326551092910456834/vid/854x480/NYWkbojGvOxL_eaO.mp4?tag=13'}]}, 'additional_media_info': {'title': '', 'description': '', 'embeddable': True, 'monetizable': False}}]}, 'metadata': {'iso_language_code': 'en', 'result_type': 'recent'}, 'source': '<a href=\"https://studio.twitter.com\" rel=\"nofollow\">Twitter Media Studio</a>', 'in_reply_to_status_id': None, 'in_reply_to_status_id_str': None, 'in_reply_to_user_id': None, 'in_reply_to_user_id_str': None, 'in_reply_to_screen_name': None, 'user': {'id': 19897138, 'id_str': '19897138', 'name': 'IndiaToday', 'screen_name': 'IndiaToday', 'location': 'India', 'description': 'Brings you news breaks: Exclusive political, entertainment, sports insight, unbiased-nonaligned. We are also on Instagram : https://t.co/qf1v42FMpb', 'url': None, 'entities': {'description': {'urls': [{'url': 'https://t.co/qf1v42FMpb', 'expanded_url': 'https://www.instagram.com/indiatoday', 'display_url': 'instagram.com/indiatoday', 'indices': [124, 147]}]}}, 'protected': False, 'followers_count': 5414630, 'friends_count': 244, 'listed_count': 5570, 'created_at': 'Mon Feb 02 07:21:54 +0000 2009', 'favourites_count': 4432, 'utc_offset': None, 'time_zone': None, 'geo_enabled': True, 'verified': True, 'statuses_count': 799477, 'lang': None, 'contributors_enabled': False, 'is_translator': False, 'is_translation_enabled': False, 'profile_background_color': 'C0DEED', 'profile_background_image_url': 'http://abs.twimg.com/images/themes/theme1/bg.png', 'profile_background_image_url_https': 'https://abs.twimg.com/images/themes/theme1/bg.png', 'profile_background_tile': False, 'profile_image_url': 'http://pbs.twimg.com/profile_images/1323664537770323968/vD4Ifa_b_normal.jpg', 'profile_image_url_https': 'https://pbs.twimg.com/profile_images/1323664537770323968/vD4Ifa_b_normal.jpg', 'profile_banner_url': 'https://pbs.twimg.com/profile_banners/19897138/1605378524', 'profile_link_color': '1DA1F2', 'profile_sidebar_border_color': 'C0DEED', 'profile_sidebar_fill_color': 'DDEEF6', 'profile_text_color': '333333', 'profile_use_background_image': True, 'has_extended_profile': True, 'default_profile': True, 'default_profile_image': False, 'following': False, 'follow_request_sent': False, 'notifications': False, 'translator_type': 'none'}, 'geo': None, 'coordinates': None, 'place': None, 'contributors': None, 'is_quote_status': False, 'retweet_count': 12, 'favorite_count': 298, 'favorited': False, 'retweeted': False, 'possibly_sensitive': False, 'lang': 'en'}, created_at=datetime.datetime(2020, 11, 11, 17, 57, 49), id=1326584934710996998, id_str='1326584934710996998', full_text=\"NDA's win in Bihar: Is BJP an unstoppable election juggernaut?\\n\\nWatch full show #NewsToday with @sardesairajdeep: https://t.co/nvo4GYMtff https://t.co/Fx8ckywcwc\", truncated=False, display_text_range=[0, 137], entities={'hashtags': [{'text': 'NewsToday', 'indices': [80, 90]}], 'symbols': [], 'user_mentions': [{'screen_name': 'sardesairajdeep', 'name': 'Rajdeep Sardesai', 'id': 56304605, 'id_str': '56304605', 'indices': [96, 112]}], 'urls': [{'url': 'https://t.co/nvo4GYMtff', 'expanded_url': 'https://bit.ly/32yZOPr', 'display_url': 'bit.ly/32yZOPr', 'indices': [114, 137]}], 'media': [{'id': 1326551092910456834, 'id_str': '1326551092910456834', 'indices': [138, 161], 'media_url': 'http://pbs.twimg.com/amplify_video_thumb/1326551092910456834/img/RBEXbYiNigifZ-yC.jpg', 'media_url_https': 'https://pbs.twimg.com/amplify_video_thumb/1326551092910456834/img/RBEXbYiNigifZ-yC.jpg', 'url': 'https://t.co/Fx8ckywcwc', 'display_url': 'pic.twitter.com/Fx8ckywcwc', 'expanded_url': 'https://twitter.com/IndiaToday/status/1326584934710996998/video/1', 'type': 'photo', 'sizes': {'thumb': {'w': 150, 'h': 150, 'resize': 'crop'}, 'medium': {'w': 854, 'h': 480, 'resize': 'fit'}, 'large': {'w': 854, 'h': 480, 'resize': 'fit'}, 'small': {'w': 680, 'h': 382, 'resize': 'fit'}}}]}, extended_entities={'media': [{'id': 1326551092910456834, 'id_str': '1326551092910456834', 'indices': [138, 161], 'media_url': 'http://pbs.twimg.com/amplify_video_thumb/1326551092910456834/img/RBEXbYiNigifZ-yC.jpg', 'media_url_https': 'https://pbs.twimg.com/amplify_video_thumb/1326551092910456834/img/RBEXbYiNigifZ-yC.jpg', 'url': 'https://t.co/Fx8ckywcwc', 'display_url': 'pic.twitter.com/Fx8ckywcwc', 'expanded_url': 'https://twitter.com/IndiaToday/status/1326584934710996998/video/1', 'type': 'video', 'sizes': {'thumb': {'w': 150, 'h': 150, 'resize': 'crop'}, 'medium': {'w': 854, 'h': 480, 'resize': 'fit'}, 'large': {'w': 854, 'h': 480, 'resize': 'fit'}, 'small': {'w': 680, 'h': 382, 'resize': 'fit'}}, 'video_info': {'aspect_ratio': [427, 240], 'duration_millis': 227296, 'variants': [{'bitrate': 288000, 'content_type': 'video/mp4', 'url': 'https://video.twimg.com/amplify_video/1326551092910456834/vid/480x270/YfYBz7dWHwYZdoKv.mp4?tag=13'}, {'bitrate': 832000, 'content_type': 'video/mp4', 'url': 'https://video.twimg.com/amplify_video/1326551092910456834/vid/640x360/XglNbSCnUZjGTzDt.mp4?tag=13'}, {'content_type': 'application/x-mpegURL', 'url': 'https://video.twimg.com/amplify_video/1326551092910456834/pl/VBJkyQw9GU3-zaJg.m3u8?tag=13'}, {'bitrate': 2176000, 'content_type': 'video/mp4', 'url': 'https://video.twimg.com/amplify_video/1326551092910456834/vid/854x480/NYWkbojGvOxL_eaO.mp4?tag=13'}]}, 'additional_media_info': {'title': '', 'description': '', 'embeddable': True, 'monetizable': False}}]}, metadata={'iso_language_code': 'en', 'result_type': 'recent'}, source='Twitter Media Studio', source_url='https://studio.twitter.com', in_reply_to_status_id=None, in_reply_to_status_id_str=None, in_reply_to_user_id=None, in_reply_to_user_id_str=None, in_reply_to_screen_name=None, author=User(_api=<tweepy.api.API object at 0x0000000009135688>, _json={'id': 19897138, 'id_str': '19897138', 'name': 'IndiaToday', 'screen_name': 'IndiaToday', 'location': 'India', 'description': 'Brings you news breaks: Exclusive political, entertainment, sports insight, unbiased-nonaligned. We are also on Instagram : https://t.co/qf1v42FMpb', 'url': None, 'entities': {'description': {'urls': [{'url': 'https://t.co/qf1v42FMpb', 'expanded_url': 'https://www.instagram.com/indiatoday', 'display_url': 'instagram.com/indiatoday', 'indices': [124, 147]}]}}, 'protected': False, 'followers_count': 5414630, 'friends_count': 244, 'listed_count': 5570, 'created_at': 'Mon Feb 02 07:21:54 +0000 2009', 'favourites_count': 4432, 'utc_offset': None, 'time_zone': None, 'geo_enabled': True, 'verified': True, 'statuses_count': 799477, 'lang': None, 'contributors_enabled': False, 'is_translator': False, 'is_translation_enabled': False, 'profile_background_color': 'C0DEED', 'profile_background_image_url': 'http://abs.twimg.com/images/themes/theme1/bg.png', 'profile_background_image_url_https': 'https://abs.twimg.com/images/themes/theme1/bg.png', 'profile_background_tile': False, 'profile_image_url': 'http://pbs.twimg.com/profile_images/1323664537770323968/vD4Ifa_b_normal.jpg', 'profile_image_url_https': 'https://pbs.twimg.com/profile_images/1323664537770323968/vD4Ifa_b_normal.jpg', 'profile_banner_url': 'https://pbs.twimg.com/profile_banners/19897138/1605378524', 'profile_link_color': '1DA1F2', 'profile_sidebar_border_color': 'C0DEED', 'profile_sidebar_fill_color': 'DDEEF6', 'profile_text_color': '333333', 'profile_use_background_image': True, 'has_extended_profile': True, 'default_profile': True, 'default_profile_image': False, 'following': False, 'follow_request_sent': False, 'notifications': False, 'translator_type': 'none'}, id=19897138, id_str='19897138', name='IndiaToday', screen_name='IndiaToday', location='India', description='Brings you news breaks: Exclusive political, entertainment, sports insight, unbiased-nonaligned. We are also on Instagram : https://t.co/qf1v42FMpb', url=None, entities={'description': {'urls': [{'url': 'https://t.co/qf1v42FMpb', 'expanded_url': 'https://www.instagram.com/indiatoday', 'display_url': 'instagram.com/indiatoday', 'indices': [124, 147]}]}}, protected=False, followers_count=5414630, friends_count=244, listed_count=5570, created_at=datetime.datetime(2009, 2, 2, 7, 21, 54), favourites_count=4432, utc_offset=None, time_zone=None, geo_enabled=True, verified=True, statuses_count=799477, lang=None, contributors_enabled=False, is_translator=False, is_translation_enabled=False, profile_background_color='C0DEED', profile_background_image_url='http://abs.twimg.com/images/themes/theme1/bg.png', profile_background_image_url_https='https://abs.twimg.com/images/themes/theme1/bg.png', profile_background_tile=False, profile_image_url='http://pbs.twimg.com/profile_images/1323664537770323968/vD4Ifa_b_normal.jpg', profile_image_url_https='https://pbs.twimg.com/profile_images/1323664537770323968/vD4Ifa_b_normal.jpg', profile_banner_url='https://pbs.twimg.com/profile_banners/19897138/1605378524', profile_link_color='1DA1F2', profile_sidebar_border_color='C0DEED', profile_sidebar_fill_color='DDEEF6', profile_text_color='333333', profile_use_background_image=True, has_extended_profile=True, default_profile=True, default_profile_image=False, following=False, follow_request_sent=False, notifications=False, translator_type='none'), user=User(_api=<tweepy.api.API object at 0x0000000009135688>, _json={'id': 19897138, 'id_str': '19897138', 'name': 'IndiaToday', 'screen_name': 'IndiaToday', 'location': 'India', 'description': 'Brings you news breaks: Exclusive political, entertainment, sports insight, unbiased-nonaligned. We are also on Instagram : https://t.co/qf1v42FMpb', 'url': None, 'entities': {'description': {'urls': [{'url': 'https://t.co/qf1v42FMpb', 'expanded_url': 'https://www.instagram.com/indiatoday', 'display_url': 'instagram.com/indiatoday', 'indices': [124, 147]}]}}, 'protected': False, 'followers_count': 5414630, 'friends_count': 244, 'listed_count': 5570, 'created_at': 'Mon Feb 02 07:21:54 +0000 2009', 'favourites_count': 4432, 'utc_offset': None, 'time_zone': None, 'geo_enabled': True, 'verified': True, 'statuses_count': 799477, 'lang': None, 'contributors_enabled': False, 'is_translator': False, 'is_translation_enabled': False, 'profile_background_color': 'C0DEED', 'profile_background_image_url': 'http://abs.twimg.com/images/themes/theme1/bg.png', 'profile_background_image_url_https': 'https://abs.twimg.com/images/themes/theme1/bg.png', 'profile_background_tile': False, 'profile_image_url': 'http://pbs.twimg.com/profile_images/1323664537770323968/vD4Ifa_b_normal.jpg', 'profile_image_url_https': 'https://pbs.twimg.com/profile_images/1323664537770323968/vD4Ifa_b_normal.jpg', 'profile_banner_url': 'https://pbs.twimg.com/profile_banners/19897138/1605378524', 'profile_link_color': '1DA1F2', 'profile_sidebar_border_color': 'C0DEED', 'profile_sidebar_fill_color': 'DDEEF6', 'profile_text_color': '333333', 'profile_use_background_image': True, 'has_extended_profile': True, 'default_profile': True, 'default_profile_image': False, 'following': False, 'follow_request_sent': False, 'notifications': False, 'translator_type': 'none'}, id=19897138, id_str='19897138', name='IndiaToday', screen_name='IndiaToday', location='India', description='Brings you news breaks: Exclusive political, entertainment, sports insight, unbiased-nonaligned. We are also on Instagram : https://t.co/qf1v42FMpb', url=None, entities={'description': {'urls': [{'url': 'https://t.co/qf1v42FMpb', 'expanded_url': 'https://www.instagram.com/indiatoday', 'display_url': 'instagram.com/indiatoday', 'indices': [124, 147]}]}}, protected=False, followers_count=5414630, friends_count=244, listed_count=5570, created_at=datetime.datetime(2009, 2, 2, 7, 21, 54), favourites_count=4432, utc_offset=None, time_zone=None, geo_enabled=True, verified=True, statuses_count=799477, lang=None, contributors_enabled=False, is_translator=False, is_translation_enabled=False, profile_background_color='C0DEED', profile_background_image_url='http://abs.twimg.com/images/themes/theme1/bg.png', profile_background_image_url_https='https://abs.twimg.com/images/themes/theme1/bg.png', profile_background_tile=False, profile_image_url='http://pbs.twimg.com/profile_images/1323664537770323968/vD4Ifa_b_normal.jpg', profile_image_url_https='https://pbs.twimg.com/profile_images/1323664537770323968/vD4Ifa_b_normal.jpg', profile_banner_url='https://pbs.twimg.com/profile_banners/19897138/1605378524', profile_link_color='1DA1F2', profile_sidebar_border_color='C0DEED', profile_sidebar_fill_color='DDEEF6', profile_text_color='333333', profile_use_background_image=True, has_extended_profile=True, default_profile=True, default_profile_image=False, following=False, follow_request_sent=False, notifications=False, translator_type='none'), geo=None, coordinates=None, place=None, contributors=None, is_quote_status=False, retweet_count=12, favorite_count=298, favorited=False, retweeted=False, possibly_sensitive=False, lang='en') \n",
      "\n",
      "---------------------------------------------------\n",
      "\n",
      "Status(_api=<tweepy.api.API object at 0x0000000009135688>, _json={'created_at': 'Wed Nov 11 17:23:13 +0000 2020', 'id': 1326576225611997184, 'id_str': '1326576225611997184', 'full_text': 'In Bihar election 2020 NDA has win in this election but there are three major factors which provide the NDA in better position first due to the rally of PM Modi in Bihar BJP has strengthened their position wherever the prime minister has went for campaigning', 'truncated': False, 'display_text_range': [0, 258], 'entities': {'hashtags': [], 'symbols': [], 'user_mentions': [], 'urls': []}, 'metadata': {'iso_language_code': 'en', 'result_type': 'recent'}, 'source': '<a href=\"http://twitter.com/download/android\" rel=\"nofollow\">Twitter for Android</a>', 'in_reply_to_status_id': None, 'in_reply_to_status_id_str': None, 'in_reply_to_user_id': None, 'in_reply_to_user_id_str': None, 'in_reply_to_screen_name': None, 'user': {'id': 1270375143047561218, 'id_str': '1270375143047561218', 'name': 'Vivek Kumar', 'screen_name': 'VivekKu52792643', 'location': '', 'description': 'I am honest in my life', 'url': None, 'entities': {'description': {'urls': []}}, 'protected': False, 'followers_count': 5, 'friends_count': 4, 'listed_count': 0, 'created_at': 'Tue Jun 09 15:20:34 +0000 2020', 'favourites_count': 0, 'utc_offset': None, 'time_zone': None, 'geo_enabled': False, 'verified': False, 'statuses_count': 6, 'lang': None, 'contributors_enabled': False, 'is_translator': False, 'is_translation_enabled': False, 'profile_background_color': 'F5F8FA', 'profile_background_image_url': None, 'profile_background_image_url_https': None, 'profile_background_tile': False, 'profile_image_url': 'http://pbs.twimg.com/profile_images/1270375906893271042/IWP4PkIS_normal.jpg', 'profile_image_url_https': 'https://pbs.twimg.com/profile_images/1270375906893271042/IWP4PkIS_normal.jpg', 'profile_link_color': '1DA1F2', 'profile_sidebar_border_color': 'C0DEED', 'profile_sidebar_fill_color': 'DDEEF6', 'profile_text_color': '333333', 'profile_use_background_image': True, 'has_extended_profile': False, 'default_profile': True, 'default_profile_image': False, 'following': False, 'follow_request_sent': False, 'notifications': False, 'translator_type': 'none'}, 'geo': None, 'coordinates': None, 'place': None, 'contributors': None, 'is_quote_status': False, 'retweet_count': 0, 'favorite_count': 0, 'favorited': False, 'retweeted': False, 'lang': 'en'}, created_at=datetime.datetime(2020, 11, 11, 17, 23, 13), id=1326576225611997184, id_str='1326576225611997184', full_text='In Bihar election 2020 NDA has win in this election but there are three major factors which provide the NDA in better position first due to the rally of PM Modi in Bihar BJP has strengthened their position wherever the prime minister has went for campaigning', truncated=False, display_text_range=[0, 258], entities={'hashtags': [], 'symbols': [], 'user_mentions': [], 'urls': []}, metadata={'iso_language_code': 'en', 'result_type': 'recent'}, source='Twitter for Android', source_url='http://twitter.com/download/android', in_reply_to_status_id=None, in_reply_to_status_id_str=None, in_reply_to_user_id=None, in_reply_to_user_id_str=None, in_reply_to_screen_name=None, author=User(_api=<tweepy.api.API object at 0x0000000009135688>, _json={'id': 1270375143047561218, 'id_str': '1270375143047561218', 'name': 'Vivek Kumar', 'screen_name': 'VivekKu52792643', 'location': '', 'description': 'I am honest in my life', 'url': None, 'entities': {'description': {'urls': []}}, 'protected': False, 'followers_count': 5, 'friends_count': 4, 'listed_count': 0, 'created_at': 'Tue Jun 09 15:20:34 +0000 2020', 'favourites_count': 0, 'utc_offset': None, 'time_zone': None, 'geo_enabled': False, 'verified': False, 'statuses_count': 6, 'lang': None, 'contributors_enabled': False, 'is_translator': False, 'is_translation_enabled': False, 'profile_background_color': 'F5F8FA', 'profile_background_image_url': None, 'profile_background_image_url_https': None, 'profile_background_tile': False, 'profile_image_url': 'http://pbs.twimg.com/profile_images/1270375906893271042/IWP4PkIS_normal.jpg', 'profile_image_url_https': 'https://pbs.twimg.com/profile_images/1270375906893271042/IWP4PkIS_normal.jpg', 'profile_link_color': '1DA1F2', 'profile_sidebar_border_color': 'C0DEED', 'profile_sidebar_fill_color': 'DDEEF6', 'profile_text_color': '333333', 'profile_use_background_image': True, 'has_extended_profile': False, 'default_profile': True, 'default_profile_image': False, 'following': False, 'follow_request_sent': False, 'notifications': False, 'translator_type': 'none'}, id=1270375143047561218, id_str='1270375143047561218', name='Vivek Kumar', screen_name='VivekKu52792643', location='', description='I am honest in my life', url=None, entities={'description': {'urls': []}}, protected=False, followers_count=5, friends_count=4, listed_count=0, created_at=datetime.datetime(2020, 6, 9, 15, 20, 34), favourites_count=0, utc_offset=None, time_zone=None, geo_enabled=False, verified=False, statuses_count=6, lang=None, contributors_enabled=False, is_translator=False, is_translation_enabled=False, profile_background_color='F5F8FA', profile_background_image_url=None, profile_background_image_url_https=None, profile_background_tile=False, profile_image_url='http://pbs.twimg.com/profile_images/1270375906893271042/IWP4PkIS_normal.jpg', profile_image_url_https='https://pbs.twimg.com/profile_images/1270375906893271042/IWP4PkIS_normal.jpg', profile_link_color='1DA1F2', profile_sidebar_border_color='C0DEED', profile_sidebar_fill_color='DDEEF6', profile_text_color='333333', profile_use_background_image=True, has_extended_profile=False, default_profile=True, default_profile_image=False, following=False, follow_request_sent=False, notifications=False, translator_type='none'), user=User(_api=<tweepy.api.API object at 0x0000000009135688>, _json={'id': 1270375143047561218, 'id_str': '1270375143047561218', 'name': 'Vivek Kumar', 'screen_name': 'VivekKu52792643', 'location': '', 'description': 'I am honest in my life', 'url': None, 'entities': {'description': {'urls': []}}, 'protected': False, 'followers_count': 5, 'friends_count': 4, 'listed_count': 0, 'created_at': 'Tue Jun 09 15:20:34 +0000 2020', 'favourites_count': 0, 'utc_offset': None, 'time_zone': None, 'geo_enabled': False, 'verified': False, 'statuses_count': 6, 'lang': None, 'contributors_enabled': False, 'is_translator': False, 'is_translation_enabled': False, 'profile_background_color': 'F5F8FA', 'profile_background_image_url': None, 'profile_background_image_url_https': None, 'profile_background_tile': False, 'profile_image_url': 'http://pbs.twimg.com/profile_images/1270375906893271042/IWP4PkIS_normal.jpg', 'profile_image_url_https': 'https://pbs.twimg.com/profile_images/1270375906893271042/IWP4PkIS_normal.jpg', 'profile_link_color': '1DA1F2', 'profile_sidebar_border_color': 'C0DEED', 'profile_sidebar_fill_color': 'DDEEF6', 'profile_text_color': '333333', 'profile_use_background_image': True, 'has_extended_profile': False, 'default_profile': True, 'default_profile_image': False, 'following': False, 'follow_request_sent': False, 'notifications': False, 'translator_type': 'none'}, id=1270375143047561218, id_str='1270375143047561218', name='Vivek Kumar', screen_name='VivekKu52792643', location='', description='I am honest in my life', url=None, entities={'description': {'urls': []}}, protected=False, followers_count=5, friends_count=4, listed_count=0, created_at=datetime.datetime(2020, 6, 9, 15, 20, 34), favourites_count=0, utc_offset=None, time_zone=None, geo_enabled=False, verified=False, statuses_count=6, lang=None, contributors_enabled=False, is_translator=False, is_translation_enabled=False, profile_background_color='F5F8FA', profile_background_image_url=None, profile_background_image_url_https=None, profile_background_tile=False, profile_image_url='http://pbs.twimg.com/profile_images/1270375906893271042/IWP4PkIS_normal.jpg', profile_image_url_https='https://pbs.twimg.com/profile_images/1270375906893271042/IWP4PkIS_normal.jpg', profile_link_color='1DA1F2', profile_sidebar_border_color='C0DEED', profile_sidebar_fill_color='DDEEF6', profile_text_color='333333', profile_use_background_image=True, has_extended_profile=False, default_profile=True, default_profile_image=False, following=False, follow_request_sent=False, notifications=False, translator_type='none'), geo=None, coordinates=None, place=None, contributors=None, is_quote_status=False, retweet_count=0, favorite_count=0, favorited=False, retweeted=False, lang='en') \n",
      "\n",
      "---------------------------------------------------\n",
      "\n",
      "Status(_api=<tweepy.api.API object at 0x0000000009135688>, _json={'created_at': 'Wed Nov 11 14:10:09 +0000 2020', 'id': 1326527640954675201, 'id_str': '1326527640954675201', 'full_text': '\\u2066@CMOMaharashtra\\u2069 \\u2066@Central_Railway\\u2069 \\n\\u2066@AUThackeray\\u2069 if social distance in not necessary in these kind of events then why mumbai local trains !!! Open trains and give ease to ppl ..poor ppl are desperate for the Jobs ... pls do somethng https://t.co/gTILtjX24A', 'truncated': False, 'display_text_range': [0, 260], 'entities': {'hashtags': [], 'symbols': [], 'user_mentions': [{'screen_name': 'CMOMaharashtra', 'name': 'CMO Maharashtra', 'id': 2597666894, 'id_str': '2597666894', 'indices': [1, 16]}, {'screen_name': 'Central_Railway', 'name': 'Central Railway', 'id': 2789625312, 'id_str': '2789625312', 'indices': [19, 35]}, {'screen_name': 'AUThackeray', 'name': 'Aaditya Thackeray', 'id': 1606048885, 'id_str': '1606048885', 'indices': [39, 51]}], 'urls': [{'url': 'https://t.co/gTILtjX24A', 'expanded_url': 'https://www.ndtv.com/india-news/pm-narendra-modi-address-on-bihar-election-win-jp-nadda-bjp-speech-after-bihar-election-2020-victory-2323959', 'display_url': 'ndtv.com/india-news/pm-…', 'indices': [237, 260]}]}, 'metadata': {'iso_language_code': 'en', 'result_type': 'recent'}, 'source': '<a href=\"http://twitter.com/download/iphone\" rel=\"nofollow\">Twitter for iPhone</a>', 'in_reply_to_status_id': None, 'in_reply_to_status_id_str': None, 'in_reply_to_user_id': None, 'in_reply_to_user_id_str': None, 'in_reply_to_screen_name': None, 'user': {'id': 1213090862709661696, 'id_str': '1213090862709661696', 'name': 'MTB', 'screen_name': 'IMTB0000', 'location': 'Mumbai', 'description': 'Living for Unity and diversity', 'url': None, 'entities': {'description': {'urls': []}}, 'protected': False, 'followers_count': 5, 'friends_count': 63, 'listed_count': 0, 'created_at': 'Fri Jan 03 13:32:59 +0000 2020', 'favourites_count': 322, 'utc_offset': None, 'time_zone': None, 'geo_enabled': True, 'verified': False, 'statuses_count': 524, 'lang': None, 'contributors_enabled': False, 'is_translator': False, 'is_translation_enabled': False, 'profile_background_color': 'F5F8FA', 'profile_background_image_url': None, 'profile_background_image_url_https': None, 'profile_background_tile': False, 'profile_image_url': 'http://abs.twimg.com/sticky/default_profile_images/default_profile_normal.png', 'profile_image_url_https': 'https://abs.twimg.com/sticky/default_profile_images/default_profile_normal.png', 'profile_banner_url': 'https://pbs.twimg.com/profile_banners/1213090862709661696/1578327630', 'profile_link_color': '1DA1F2', 'profile_sidebar_border_color': 'C0DEED', 'profile_sidebar_fill_color': 'DDEEF6', 'profile_text_color': '333333', 'profile_use_background_image': True, 'has_extended_profile': False, 'default_profile': True, 'default_profile_image': True, 'following': False, 'follow_request_sent': False, 'notifications': False, 'translator_type': 'none'}, 'geo': None, 'coordinates': None, 'place': None, 'contributors': None, 'is_quote_status': False, 'retweet_count': 0, 'favorite_count': 1, 'favorited': False, 'retweeted': False, 'possibly_sensitive': False, 'lang': 'en'}, created_at=datetime.datetime(2020, 11, 11, 14, 10, 9), id=1326527640954675201, id_str='1326527640954675201', full_text='\\u2066@CMOMaharashtra\\u2069 \\u2066@Central_Railway\\u2069 \\n\\u2066@AUThackeray\\u2069 if social distance in not necessary in these kind of events then why mumbai local trains !!! Open trains and give ease to ppl ..poor ppl are desperate for the Jobs ... pls do somethng https://t.co/gTILtjX24A', truncated=False, display_text_range=[0, 260], entities={'hashtags': [], 'symbols': [], 'user_mentions': [{'screen_name': 'CMOMaharashtra', 'name': 'CMO Maharashtra', 'id': 2597666894, 'id_str': '2597666894', 'indices': [1, 16]}, {'screen_name': 'Central_Railway', 'name': 'Central Railway', 'id': 2789625312, 'id_str': '2789625312', 'indices': [19, 35]}, {'screen_name': 'AUThackeray', 'name': 'Aaditya Thackeray', 'id': 1606048885, 'id_str': '1606048885', 'indices': [39, 51]}], 'urls': [{'url': 'https://t.co/gTILtjX24A', 'expanded_url': 'https://www.ndtv.com/india-news/pm-narendra-modi-address-on-bihar-election-win-jp-nadda-bjp-speech-after-bihar-election-2020-victory-2323959', 'display_url': 'ndtv.com/india-news/pm-…', 'indices': [237, 260]}]}, metadata={'iso_language_code': 'en', 'result_type': 'recent'}, source='Twitter for iPhone', source_url='http://twitter.com/download/iphone', in_reply_to_status_id=None, in_reply_to_status_id_str=None, in_reply_to_user_id=None, in_reply_to_user_id_str=None, in_reply_to_screen_name=None, author=User(_api=<tweepy.api.API object at 0x0000000009135688>, _json={'id': 1213090862709661696, 'id_str': '1213090862709661696', 'name': 'MTB', 'screen_name': 'IMTB0000', 'location': 'Mumbai', 'description': 'Living for Unity and diversity', 'url': None, 'entities': {'description': {'urls': []}}, 'protected': False, 'followers_count': 5, 'friends_count': 63, 'listed_count': 0, 'created_at': 'Fri Jan 03 13:32:59 +0000 2020', 'favourites_count': 322, 'utc_offset': None, 'time_zone': None, 'geo_enabled': True, 'verified': False, 'statuses_count': 524, 'lang': None, 'contributors_enabled': False, 'is_translator': False, 'is_translation_enabled': False, 'profile_background_color': 'F5F8FA', 'profile_background_image_url': None, 'profile_background_image_url_https': None, 'profile_background_tile': False, 'profile_image_url': 'http://abs.twimg.com/sticky/default_profile_images/default_profile_normal.png', 'profile_image_url_https': 'https://abs.twimg.com/sticky/default_profile_images/default_profile_normal.png', 'profile_banner_url': 'https://pbs.twimg.com/profile_banners/1213090862709661696/1578327630', 'profile_link_color': '1DA1F2', 'profile_sidebar_border_color': 'C0DEED', 'profile_sidebar_fill_color': 'DDEEF6', 'profile_text_color': '333333', 'profile_use_background_image': True, 'has_extended_profile': False, 'default_profile': True, 'default_profile_image': True, 'following': False, 'follow_request_sent': False, 'notifications': False, 'translator_type': 'none'}, id=1213090862709661696, id_str='1213090862709661696', name='MTB', screen_name='IMTB0000', location='Mumbai', description='Living for Unity and diversity', url=None, entities={'description': {'urls': []}}, protected=False, followers_count=5, friends_count=63, listed_count=0, created_at=datetime.datetime(2020, 1, 3, 13, 32, 59), favourites_count=322, utc_offset=None, time_zone=None, geo_enabled=True, verified=False, statuses_count=524, lang=None, contributors_enabled=False, is_translator=False, is_translation_enabled=False, profile_background_color='F5F8FA', profile_background_image_url=None, profile_background_image_url_https=None, profile_background_tile=False, profile_image_url='http://abs.twimg.com/sticky/default_profile_images/default_profile_normal.png', profile_image_url_https='https://abs.twimg.com/sticky/default_profile_images/default_profile_normal.png', profile_banner_url='https://pbs.twimg.com/profile_banners/1213090862709661696/1578327630', profile_link_color='1DA1F2', profile_sidebar_border_color='C0DEED', profile_sidebar_fill_color='DDEEF6', profile_text_color='333333', profile_use_background_image=True, has_extended_profile=False, default_profile=True, default_profile_image=True, following=False, follow_request_sent=False, notifications=False, translator_type='none'), user=User(_api=<tweepy.api.API object at 0x0000000009135688>, _json={'id': 1213090862709661696, 'id_str': '1213090862709661696', 'name': 'MTB', 'screen_name': 'IMTB0000', 'location': 'Mumbai', 'description': 'Living for Unity and diversity', 'url': None, 'entities': {'description': {'urls': []}}, 'protected': False, 'followers_count': 5, 'friends_count': 63, 'listed_count': 0, 'created_at': 'Fri Jan 03 13:32:59 +0000 2020', 'favourites_count': 322, 'utc_offset': None, 'time_zone': None, 'geo_enabled': True, 'verified': False, 'statuses_count': 524, 'lang': None, 'contributors_enabled': False, 'is_translator': False, 'is_translation_enabled': False, 'profile_background_color': 'F5F8FA', 'profile_background_image_url': None, 'profile_background_image_url_https': None, 'profile_background_tile': False, 'profile_image_url': 'http://abs.twimg.com/sticky/default_profile_images/default_profile_normal.png', 'profile_image_url_https': 'https://abs.twimg.com/sticky/default_profile_images/default_profile_normal.png', 'profile_banner_url': 'https://pbs.twimg.com/profile_banners/1213090862709661696/1578327630', 'profile_link_color': '1DA1F2', 'profile_sidebar_border_color': 'C0DEED', 'profile_sidebar_fill_color': 'DDEEF6', 'profile_text_color': '333333', 'profile_use_background_image': True, 'has_extended_profile': False, 'default_profile': True, 'default_profile_image': True, 'following': False, 'follow_request_sent': False, 'notifications': False, 'translator_type': 'none'}, id=1213090862709661696, id_str='1213090862709661696', name='MTB', screen_name='IMTB0000', location='Mumbai', description='Living for Unity and diversity', url=None, entities={'description': {'urls': []}}, protected=False, followers_count=5, friends_count=63, listed_count=0, created_at=datetime.datetime(2020, 1, 3, 13, 32, 59), favourites_count=322, utc_offset=None, time_zone=None, geo_enabled=True, verified=False, statuses_count=524, lang=None, contributors_enabled=False, is_translator=False, is_translation_enabled=False, profile_background_color='F5F8FA', profile_background_image_url=None, profile_background_image_url_https=None, profile_background_tile=False, profile_image_url='http://abs.twimg.com/sticky/default_profile_images/default_profile_normal.png', profile_image_url_https='https://abs.twimg.com/sticky/default_profile_images/default_profile_normal.png', profile_banner_url='https://pbs.twimg.com/profile_banners/1213090862709661696/1578327630', profile_link_color='1DA1F2', profile_sidebar_border_color='C0DEED', profile_sidebar_fill_color='DDEEF6', profile_text_color='333333', profile_use_background_image=True, has_extended_profile=False, default_profile=True, default_profile_image=True, following=False, follow_request_sent=False, notifications=False, translator_type='none'), geo=None, coordinates=None, place=None, contributors=None, is_quote_status=False, retweet_count=0, favorite_count=1, favorited=False, retweeted=False, possibly_sensitive=False, lang='en') \n",
      "\n",
      "---------------------------------------------------\n",
      "\n",
      "Status(_api=<tweepy.api.API object at 0x0000000009135688>, _json={'created_at': 'Wed Nov 11 09:31:00 +0000 2020', 'id': 1326457387679686656, 'id_str': '1326457387679686656', 'full_text': 'Bihar Assembly election: #NitishKumar #BJP win Bihar cliffhanger, #TejashwiYadav’s RJD is single-largest party #BiharResults #BiharElectionResults \\n\\nhttps://t.co/NTWZ7uB1Tr', 'truncated': False, 'display_text_range': [0, 172], 'entities': {'hashtags': [{'text': 'NitishKumar', 'indices': [25, 37]}, {'text': 'BJP', 'indices': [38, 42]}, {'text': 'TejashwiYadav', 'indices': [66, 80]}, {'text': 'BiharResults', 'indices': [111, 124]}, {'text': 'BiharElectionResults', 'indices': [125, 146]}], 'symbols': [], 'user_mentions': [], 'urls': [{'url': 'https://t.co/NTWZ7uB1Tr', 'expanded_url': 'https://freevoiceindia.in/2020/11/11/bihar-assembly-election-nitish-kumar-bjp-win-bihar-cliffhanger-tejashwi-yadavs-rjd-is-single-largest-party/', 'display_url': 'freevoiceindia.in/2020/11/11/bih…', 'indices': [149, 172]}]}, 'metadata': {'iso_language_code': 'en', 'result_type': 'recent'}, 'source': '<a href=\"https://about.twitter.com/products/tweetdeck\" rel=\"nofollow\">TweetDeck</a>', 'in_reply_to_status_id': None, 'in_reply_to_status_id_str': None, 'in_reply_to_user_id': None, 'in_reply_to_user_id_str': None, 'in_reply_to_screen_name': None, 'user': {'id': 1191661347760566272, 'id_str': '1191661347760566272', 'name': 'Free Voice', 'screen_name': 'FreeVoiceIN', 'location': '', 'description': 'We tell stories from different angles, with an unbiased view of current affairs. #FreeVoice', 'url': 'https://t.co/xKxB7EEEwV', 'entities': {'url': {'urls': [{'url': 'https://t.co/xKxB7EEEwV', 'expanded_url': 'http://freevoiceindia.in/', 'display_url': 'freevoiceindia.in', 'indices': [0, 23]}]}, 'description': {'urls': []}}, 'protected': False, 'followers_count': 195, 'friends_count': 55, 'listed_count': 0, 'created_at': 'Tue Nov 05 10:19:57 +0000 2019', 'favourites_count': 14, 'utc_offset': None, 'time_zone': None, 'geo_enabled': False, 'verified': False, 'statuses_count': 4747, 'lang': None, 'contributors_enabled': False, 'is_translator': False, 'is_translation_enabled': False, 'profile_background_color': 'F5F8FA', 'profile_background_image_url': None, 'profile_background_image_url_https': None, 'profile_background_tile': False, 'profile_image_url': 'http://pbs.twimg.com/profile_images/1191661468455821313/q2CK6m4__normal.jpg', 'profile_image_url_https': 'https://pbs.twimg.com/profile_images/1191661468455821313/q2CK6m4__normal.jpg', 'profile_banner_url': 'https://pbs.twimg.com/profile_banners/1191661347760566272/1594902533', 'profile_link_color': '1DA1F2', 'profile_sidebar_border_color': 'C0DEED', 'profile_sidebar_fill_color': 'DDEEF6', 'profile_text_color': '333333', 'profile_use_background_image': True, 'has_extended_profile': False, 'default_profile': True, 'default_profile_image': False, 'following': False, 'follow_request_sent': False, 'notifications': False, 'translator_type': 'none'}, 'geo': None, 'coordinates': None, 'place': None, 'contributors': None, 'is_quote_status': False, 'retweet_count': 0, 'favorite_count': 0, 'favorited': False, 'retweeted': False, 'possibly_sensitive': False, 'lang': 'en'}, created_at=datetime.datetime(2020, 11, 11, 9, 31), id=1326457387679686656, id_str='1326457387679686656', full_text='Bihar Assembly election: #NitishKumar #BJP win Bihar cliffhanger, #TejashwiYadav’s RJD is single-largest party #BiharResults #BiharElectionResults \\n\\nhttps://t.co/NTWZ7uB1Tr', truncated=False, display_text_range=[0, 172], entities={'hashtags': [{'text': 'NitishKumar', 'indices': [25, 37]}, {'text': 'BJP', 'indices': [38, 42]}, {'text': 'TejashwiYadav', 'indices': [66, 80]}, {'text': 'BiharResults', 'indices': [111, 124]}, {'text': 'BiharElectionResults', 'indices': [125, 146]}], 'symbols': [], 'user_mentions': [], 'urls': [{'url': 'https://t.co/NTWZ7uB1Tr', 'expanded_url': 'https://freevoiceindia.in/2020/11/11/bihar-assembly-election-nitish-kumar-bjp-win-bihar-cliffhanger-tejashwi-yadavs-rjd-is-single-largest-party/', 'display_url': 'freevoiceindia.in/2020/11/11/bih…', 'indices': [149, 172]}]}, metadata={'iso_language_code': 'en', 'result_type': 'recent'}, source='TweetDeck', source_url='https://about.twitter.com/products/tweetdeck', in_reply_to_status_id=None, in_reply_to_status_id_str=None, in_reply_to_user_id=None, in_reply_to_user_id_str=None, in_reply_to_screen_name=None, author=User(_api=<tweepy.api.API object at 0x0000000009135688>, _json={'id': 1191661347760566272, 'id_str': '1191661347760566272', 'name': 'Free Voice', 'screen_name': 'FreeVoiceIN', 'location': '', 'description': 'We tell stories from different angles, with an unbiased view of current affairs. #FreeVoice', 'url': 'https://t.co/xKxB7EEEwV', 'entities': {'url': {'urls': [{'url': 'https://t.co/xKxB7EEEwV', 'expanded_url': 'http://freevoiceindia.in/', 'display_url': 'freevoiceindia.in', 'indices': [0, 23]}]}, 'description': {'urls': []}}, 'protected': False, 'followers_count': 195, 'friends_count': 55, 'listed_count': 0, 'created_at': 'Tue Nov 05 10:19:57 +0000 2019', 'favourites_count': 14, 'utc_offset': None, 'time_zone': None, 'geo_enabled': False, 'verified': False, 'statuses_count': 4747, 'lang': None, 'contributors_enabled': False, 'is_translator': False, 'is_translation_enabled': False, 'profile_background_color': 'F5F8FA', 'profile_background_image_url': None, 'profile_background_image_url_https': None, 'profile_background_tile': False, 'profile_image_url': 'http://pbs.twimg.com/profile_images/1191661468455821313/q2CK6m4__normal.jpg', 'profile_image_url_https': 'https://pbs.twimg.com/profile_images/1191661468455821313/q2CK6m4__normal.jpg', 'profile_banner_url': 'https://pbs.twimg.com/profile_banners/1191661347760566272/1594902533', 'profile_link_color': '1DA1F2', 'profile_sidebar_border_color': 'C0DEED', 'profile_sidebar_fill_color': 'DDEEF6', 'profile_text_color': '333333', 'profile_use_background_image': True, 'has_extended_profile': False, 'default_profile': True, 'default_profile_image': False, 'following': False, 'follow_request_sent': False, 'notifications': False, 'translator_type': 'none'}, id=1191661347760566272, id_str='1191661347760566272', name='Free Voice', screen_name='FreeVoiceIN', location='', description='We tell stories from different angles, with an unbiased view of current affairs. #FreeVoice', url='https://t.co/xKxB7EEEwV', entities={'url': {'urls': [{'url': 'https://t.co/xKxB7EEEwV', 'expanded_url': 'http://freevoiceindia.in/', 'display_url': 'freevoiceindia.in', 'indices': [0, 23]}]}, 'description': {'urls': []}}, protected=False, followers_count=195, friends_count=55, listed_count=0, created_at=datetime.datetime(2019, 11, 5, 10, 19, 57), favourites_count=14, utc_offset=None, time_zone=None, geo_enabled=False, verified=False, statuses_count=4747, lang=None, contributors_enabled=False, is_translator=False, is_translation_enabled=False, profile_background_color='F5F8FA', profile_background_image_url=None, profile_background_image_url_https=None, profile_background_tile=False, profile_image_url='http://pbs.twimg.com/profile_images/1191661468455821313/q2CK6m4__normal.jpg', profile_image_url_https='https://pbs.twimg.com/profile_images/1191661468455821313/q2CK6m4__normal.jpg', profile_banner_url='https://pbs.twimg.com/profile_banners/1191661347760566272/1594902533', profile_link_color='1DA1F2', profile_sidebar_border_color='C0DEED', profile_sidebar_fill_color='DDEEF6', profile_text_color='333333', profile_use_background_image=True, has_extended_profile=False, default_profile=True, default_profile_image=False, following=False, follow_request_sent=False, notifications=False, translator_type='none'), user=User(_api=<tweepy.api.API object at 0x0000000009135688>, _json={'id': 1191661347760566272, 'id_str': '1191661347760566272', 'name': 'Free Voice', 'screen_name': 'FreeVoiceIN', 'location': '', 'description': 'We tell stories from different angles, with an unbiased view of current affairs. #FreeVoice', 'url': 'https://t.co/xKxB7EEEwV', 'entities': {'url': {'urls': [{'url': 'https://t.co/xKxB7EEEwV', 'expanded_url': 'http://freevoiceindia.in/', 'display_url': 'freevoiceindia.in', 'indices': [0, 23]}]}, 'description': {'urls': []}}, 'protected': False, 'followers_count': 195, 'friends_count': 55, 'listed_count': 0, 'created_at': 'Tue Nov 05 10:19:57 +0000 2019', 'favourites_count': 14, 'utc_offset': None, 'time_zone': None, 'geo_enabled': False, 'verified': False, 'statuses_count': 4747, 'lang': None, 'contributors_enabled': False, 'is_translator': False, 'is_translation_enabled': False, 'profile_background_color': 'F5F8FA', 'profile_background_image_url': None, 'profile_background_image_url_https': None, 'profile_background_tile': False, 'profile_image_url': 'http://pbs.twimg.com/profile_images/1191661468455821313/q2CK6m4__normal.jpg', 'profile_image_url_https': 'https://pbs.twimg.com/profile_images/1191661468455821313/q2CK6m4__normal.jpg', 'profile_banner_url': 'https://pbs.twimg.com/profile_banners/1191661347760566272/1594902533', 'profile_link_color': '1DA1F2', 'profile_sidebar_border_color': 'C0DEED', 'profile_sidebar_fill_color': 'DDEEF6', 'profile_text_color': '333333', 'profile_use_background_image': True, 'has_extended_profile': False, 'default_profile': True, 'default_profile_image': False, 'following': False, 'follow_request_sent': False, 'notifications': False, 'translator_type': 'none'}, id=1191661347760566272, id_str='1191661347760566272', name='Free Voice', screen_name='FreeVoiceIN', location='', description='We tell stories from different angles, with an unbiased view of current affairs. #FreeVoice', url='https://t.co/xKxB7EEEwV', entities={'url': {'urls': [{'url': 'https://t.co/xKxB7EEEwV', 'expanded_url': 'http://freevoiceindia.in/', 'display_url': 'freevoiceindia.in', 'indices': [0, 23]}]}, 'description': {'urls': []}}, protected=False, followers_count=195, friends_count=55, listed_count=0, created_at=datetime.datetime(2019, 11, 5, 10, 19, 57), favourites_count=14, utc_offset=None, time_zone=None, geo_enabled=False, verified=False, statuses_count=4747, lang=None, contributors_enabled=False, is_translator=False, is_translation_enabled=False, profile_background_color='F5F8FA', profile_background_image_url=None, profile_background_image_url_https=None, profile_background_tile=False, profile_image_url='http://pbs.twimg.com/profile_images/1191661468455821313/q2CK6m4__normal.jpg', profile_image_url_https='https://pbs.twimg.com/profile_images/1191661468455821313/q2CK6m4__normal.jpg', profile_banner_url='https://pbs.twimg.com/profile_banners/1191661347760566272/1594902533', profile_link_color='1DA1F2', profile_sidebar_border_color='C0DEED', profile_sidebar_fill_color='DDEEF6', profile_text_color='333333', profile_use_background_image=True, has_extended_profile=False, default_profile=True, default_profile_image=False, following=False, follow_request_sent=False, notifications=False, translator_type='none'), geo=None, coordinates=None, place=None, contributors=None, is_quote_status=False, retweet_count=0, favorite_count=0, favorited=False, retweeted=False, possibly_sensitive=False, lang='en') \n",
      "\n",
      "---------------------------------------------------\n",
      "\n",
      "Status(_api=<tweepy.api.API object at 0x0000000009135688>, _json={'created_at': 'Wed Nov 11 09:12:02 +0000 2020', 'id': 1326452614830026753, 'id_str': '1326452614830026753', 'full_text': 'MashaAllah ZazakAllah Khair for all one who have contributed for at least winning 5 seats, \\n\\nAIMIM Statistics in Bihar Assembly Election 2020, \\n\\nAs per the statistical data of vote share, It was Congress made BJP win Bihar election by giving RJD 70 seats without getting 20 seats. https://t.co/E9pG97vzt2', 'truncated': False, 'display_text_range': [0, 280], 'entities': {'hashtags': [], 'symbols': [], 'user_mentions': [], 'urls': [], 'media': [{'id': 1326452527110344706, 'id_str': '1326452527110344706', 'indices': [281, 304], 'media_url': 'http://pbs.twimg.com/media/EmiBi6nU0AIKzJX.jpg', 'media_url_https': 'https://pbs.twimg.com/media/EmiBi6nU0AIKzJX.jpg', 'url': 'https://t.co/E9pG97vzt2', 'display_url': 'pic.twitter.com/E9pG97vzt2', 'expanded_url': 'https://twitter.com/riyaz12nadaf/status/1326452614830026753/photo/1', 'type': 'photo', 'sizes': {'thumb': {'w': 150, 'h': 150, 'resize': 'crop'}, 'medium': {'w': 567, 'h': 1067, 'resize': 'fit'}, 'small': {'w': 361, 'h': 680, 'resize': 'fit'}, 'large': {'w': 567, 'h': 1067, 'resize': 'fit'}}}]}, 'extended_entities': {'media': [{'id': 1326452527110344706, 'id_str': '1326452527110344706', 'indices': [281, 304], 'media_url': 'http://pbs.twimg.com/media/EmiBi6nU0AIKzJX.jpg', 'media_url_https': 'https://pbs.twimg.com/media/EmiBi6nU0AIKzJX.jpg', 'url': 'https://t.co/E9pG97vzt2', 'display_url': 'pic.twitter.com/E9pG97vzt2', 'expanded_url': 'https://twitter.com/riyaz12nadaf/status/1326452614830026753/photo/1', 'type': 'photo', 'sizes': {'thumb': {'w': 150, 'h': 150, 'resize': 'crop'}, 'medium': {'w': 567, 'h': 1067, 'resize': 'fit'}, 'small': {'w': 361, 'h': 680, 'resize': 'fit'}, 'large': {'w': 567, 'h': 1067, 'resize': 'fit'}}}, {'id': 1326452527227826176, 'id_str': '1326452527227826176', 'indices': [281, 304], 'media_url': 'http://pbs.twimg.com/media/EmiBi7DVcAAlkCG.png', 'media_url_https': 'https://pbs.twimg.com/media/EmiBi7DVcAAlkCG.png', 'url': 'https://t.co/E9pG97vzt2', 'display_url': 'pic.twitter.com/E9pG97vzt2', 'expanded_url': 'https://twitter.com/riyaz12nadaf/status/1326452614830026753/photo/1', 'type': 'photo', 'sizes': {'large': {'w': 573, 'h': 792, 'resize': 'fit'}, 'medium': {'w': 573, 'h': 792, 'resize': 'fit'}, 'small': {'w': 492, 'h': 680, 'resize': 'fit'}, 'thumb': {'w': 150, 'h': 150, 'resize': 'crop'}}}]}, 'metadata': {'iso_language_code': 'en', 'result_type': 'recent'}, 'source': '<a href=\"https://mobile.twitter.com\" rel=\"nofollow\">Twitter Web App</a>', 'in_reply_to_status_id': None, 'in_reply_to_status_id_str': None, 'in_reply_to_user_id': None, 'in_reply_to_user_id_str': None, 'in_reply_to_screen_name': None, 'user': {'id': 1390191943, 'id_str': '1390191943', 'name': 'Riyaz Nadaf', 'screen_name': 'riyaz12nadaf', 'location': '', 'description': \"Awareness of Hate, Genocide & Pogroms, \\nAwareness of Intellectual Terrorism, \\nAccountability of India's Intelligence Bureau (IB) Department.\", 'url': None, 'entities': {'description': {'urls': []}}, 'protected': False, 'followers_count': 33, 'friends_count': 241, 'listed_count': 0, 'created_at': 'Mon Apr 29 18:38:41 +0000 2013', 'favourites_count': 966, 'utc_offset': None, 'time_zone': None, 'geo_enabled': False, 'verified': False, 'statuses_count': 1840, 'lang': None, 'contributors_enabled': False, 'is_translator': False, 'is_translation_enabled': False, 'profile_background_color': 'C0DEED', 'profile_background_image_url': 'http://abs.twimg.com/images/themes/theme1/bg.png', 'profile_background_image_url_https': 'https://abs.twimg.com/images/themes/theme1/bg.png', 'profile_background_tile': False, 'profile_image_url': 'http://pbs.twimg.com/profile_images/1220269369223041032/R3zXYaew_normal.jpg', 'profile_image_url_https': 'https://pbs.twimg.com/profile_images/1220269369223041032/R3zXYaew_normal.jpg', 'profile_link_color': '1DA1F2', 'profile_sidebar_border_color': 'C0DEED', 'profile_sidebar_fill_color': 'DDEEF6', 'profile_text_color': '333333', 'profile_use_background_image': True, 'has_extended_profile': False, 'default_profile': True, 'default_profile_image': False, 'following': False, 'follow_request_sent': False, 'notifications': False, 'translator_type': 'none'}, 'geo': None, 'coordinates': None, 'place': None, 'contributors': None, 'is_quote_status': False, 'retweet_count': 0, 'favorite_count': 0, 'favorited': False, 'retweeted': False, 'possibly_sensitive': False, 'lang': 'en'}, created_at=datetime.datetime(2020, 11, 11, 9, 12, 2), id=1326452614830026753, id_str='1326452614830026753', full_text='MashaAllah ZazakAllah Khair for all one who have contributed for at least winning 5 seats, \\n\\nAIMIM Statistics in Bihar Assembly Election 2020, \\n\\nAs per the statistical data of vote share, It was Congress made BJP win Bihar election by giving RJD 70 seats without getting 20 seats. https://t.co/E9pG97vzt2', truncated=False, display_text_range=[0, 280], entities={'hashtags': [], 'symbols': [], 'user_mentions': [], 'urls': [], 'media': [{'id': 1326452527110344706, 'id_str': '1326452527110344706', 'indices': [281, 304], 'media_url': 'http://pbs.twimg.com/media/EmiBi6nU0AIKzJX.jpg', 'media_url_https': 'https://pbs.twimg.com/media/EmiBi6nU0AIKzJX.jpg', 'url': 'https://t.co/E9pG97vzt2', 'display_url': 'pic.twitter.com/E9pG97vzt2', 'expanded_url': 'https://twitter.com/riyaz12nadaf/status/1326452614830026753/photo/1', 'type': 'photo', 'sizes': {'thumb': {'w': 150, 'h': 150, 'resize': 'crop'}, 'medium': {'w': 567, 'h': 1067, 'resize': 'fit'}, 'small': {'w': 361, 'h': 680, 'resize': 'fit'}, 'large': {'w': 567, 'h': 1067, 'resize': 'fit'}}}]}, extended_entities={'media': [{'id': 1326452527110344706, 'id_str': '1326452527110344706', 'indices': [281, 304], 'media_url': 'http://pbs.twimg.com/media/EmiBi6nU0AIKzJX.jpg', 'media_url_https': 'https://pbs.twimg.com/media/EmiBi6nU0AIKzJX.jpg', 'url': 'https://t.co/E9pG97vzt2', 'display_url': 'pic.twitter.com/E9pG97vzt2', 'expanded_url': 'https://twitter.com/riyaz12nadaf/status/1326452614830026753/photo/1', 'type': 'photo', 'sizes': {'thumb': {'w': 150, 'h': 150, 'resize': 'crop'}, 'medium': {'w': 567, 'h': 1067, 'resize': 'fit'}, 'small': {'w': 361, 'h': 680, 'resize': 'fit'}, 'large': {'w': 567, 'h': 1067, 'resize': 'fit'}}}, {'id': 1326452527227826176, 'id_str': '1326452527227826176', 'indices': [281, 304], 'media_url': 'http://pbs.twimg.com/media/EmiBi7DVcAAlkCG.png', 'media_url_https': 'https://pbs.twimg.com/media/EmiBi7DVcAAlkCG.png', 'url': 'https://t.co/E9pG97vzt2', 'display_url': 'pic.twitter.com/E9pG97vzt2', 'expanded_url': 'https://twitter.com/riyaz12nadaf/status/1326452614830026753/photo/1', 'type': 'photo', 'sizes': {'large': {'w': 573, 'h': 792, 'resize': 'fit'}, 'medium': {'w': 573, 'h': 792, 'resize': 'fit'}, 'small': {'w': 492, 'h': 680, 'resize': 'fit'}, 'thumb': {'w': 150, 'h': 150, 'resize': 'crop'}}}]}, metadata={'iso_language_code': 'en', 'result_type': 'recent'}, source='Twitter Web App', source_url='https://mobile.twitter.com', in_reply_to_status_id=None, in_reply_to_status_id_str=None, in_reply_to_user_id=None, in_reply_to_user_id_str=None, in_reply_to_screen_name=None, author=User(_api=<tweepy.api.API object at 0x0000000009135688>, _json={'id': 1390191943, 'id_str': '1390191943', 'name': 'Riyaz Nadaf', 'screen_name': 'riyaz12nadaf', 'location': '', 'description': \"Awareness of Hate, Genocide & Pogroms, \\nAwareness of Intellectual Terrorism, \\nAccountability of India's Intelligence Bureau (IB) Department.\", 'url': None, 'entities': {'description': {'urls': []}}, 'protected': False, 'followers_count': 33, 'friends_count': 241, 'listed_count': 0, 'created_at': 'Mon Apr 29 18:38:41 +0000 2013', 'favourites_count': 966, 'utc_offset': None, 'time_zone': None, 'geo_enabled': False, 'verified': False, 'statuses_count': 1840, 'lang': None, 'contributors_enabled': False, 'is_translator': False, 'is_translation_enabled': False, 'profile_background_color': 'C0DEED', 'profile_background_image_url': 'http://abs.twimg.com/images/themes/theme1/bg.png', 'profile_background_image_url_https': 'https://abs.twimg.com/images/themes/theme1/bg.png', 'profile_background_tile': False, 'profile_image_url': 'http://pbs.twimg.com/profile_images/1220269369223041032/R3zXYaew_normal.jpg', 'profile_image_url_https': 'https://pbs.twimg.com/profile_images/1220269369223041032/R3zXYaew_normal.jpg', 'profile_link_color': '1DA1F2', 'profile_sidebar_border_color': 'C0DEED', 'profile_sidebar_fill_color': 'DDEEF6', 'profile_text_color': '333333', 'profile_use_background_image': True, 'has_extended_profile': False, 'default_profile': True, 'default_profile_image': False, 'following': False, 'follow_request_sent': False, 'notifications': False, 'translator_type': 'none'}, id=1390191943, id_str='1390191943', name='Riyaz Nadaf', screen_name='riyaz12nadaf', location='', description=\"Awareness of Hate, Genocide & Pogroms, \\nAwareness of Intellectual Terrorism, \\nAccountability of India's Intelligence Bureau (IB) Department.\", url=None, entities={'description': {'urls': []}}, protected=False, followers_count=33, friends_count=241, listed_count=0, created_at=datetime.datetime(2013, 4, 29, 18, 38, 41), favourites_count=966, utc_offset=None, time_zone=None, geo_enabled=False, verified=False, statuses_count=1840, lang=None, contributors_enabled=False, is_translator=False, is_translation_enabled=False, profile_background_color='C0DEED', profile_background_image_url='http://abs.twimg.com/images/themes/theme1/bg.png', profile_background_image_url_https='https://abs.twimg.com/images/themes/theme1/bg.png', profile_background_tile=False, profile_image_url='http://pbs.twimg.com/profile_images/1220269369223041032/R3zXYaew_normal.jpg', profile_image_url_https='https://pbs.twimg.com/profile_images/1220269369223041032/R3zXYaew_normal.jpg', profile_link_color='1DA1F2', profile_sidebar_border_color='C0DEED', profile_sidebar_fill_color='DDEEF6', profile_text_color='333333', profile_use_background_image=True, has_extended_profile=False, default_profile=True, default_profile_image=False, following=False, follow_request_sent=False, notifications=False, translator_type='none'), user=User(_api=<tweepy.api.API object at 0x0000000009135688>, _json={'id': 1390191943, 'id_str': '1390191943', 'name': 'Riyaz Nadaf', 'screen_name': 'riyaz12nadaf', 'location': '', 'description': \"Awareness of Hate, Genocide & Pogroms, \\nAwareness of Intellectual Terrorism, \\nAccountability of India's Intelligence Bureau (IB) Department.\", 'url': None, 'entities': {'description': {'urls': []}}, 'protected': False, 'followers_count': 33, 'friends_count': 241, 'listed_count': 0, 'created_at': 'Mon Apr 29 18:38:41 +0000 2013', 'favourites_count': 966, 'utc_offset': None, 'time_zone': None, 'geo_enabled': False, 'verified': False, 'statuses_count': 1840, 'lang': None, 'contributors_enabled': False, 'is_translator': False, 'is_translation_enabled': False, 'profile_background_color': 'C0DEED', 'profile_background_image_url': 'http://abs.twimg.com/images/themes/theme1/bg.png', 'profile_background_image_url_https': 'https://abs.twimg.com/images/themes/theme1/bg.png', 'profile_background_tile': False, 'profile_image_url': 'http://pbs.twimg.com/profile_images/1220269369223041032/R3zXYaew_normal.jpg', 'profile_image_url_https': 'https://pbs.twimg.com/profile_images/1220269369223041032/R3zXYaew_normal.jpg', 'profile_link_color': '1DA1F2', 'profile_sidebar_border_color': 'C0DEED', 'profile_sidebar_fill_color': 'DDEEF6', 'profile_text_color': '333333', 'profile_use_background_image': True, 'has_extended_profile': False, 'default_profile': True, 'default_profile_image': False, 'following': False, 'follow_request_sent': False, 'notifications': False, 'translator_type': 'none'}, id=1390191943, id_str='1390191943', name='Riyaz Nadaf', screen_name='riyaz12nadaf', location='', description=\"Awareness of Hate, Genocide & Pogroms, \\nAwareness of Intellectual Terrorism, \\nAccountability of India's Intelligence Bureau (IB) Department.\", url=None, entities={'description': {'urls': []}}, protected=False, followers_count=33, friends_count=241, listed_count=0, created_at=datetime.datetime(2013, 4, 29, 18, 38, 41), favourites_count=966, utc_offset=None, time_zone=None, geo_enabled=False, verified=False, statuses_count=1840, lang=None, contributors_enabled=False, is_translator=False, is_translation_enabled=False, profile_background_color='C0DEED', profile_background_image_url='http://abs.twimg.com/images/themes/theme1/bg.png', profile_background_image_url_https='https://abs.twimg.com/images/themes/theme1/bg.png', profile_background_tile=False, profile_image_url='http://pbs.twimg.com/profile_images/1220269369223041032/R3zXYaew_normal.jpg', profile_image_url_https='https://pbs.twimg.com/profile_images/1220269369223041032/R3zXYaew_normal.jpg', profile_link_color='1DA1F2', profile_sidebar_border_color='C0DEED', profile_sidebar_fill_color='DDEEF6', profile_text_color='333333', profile_use_background_image=True, has_extended_profile=False, default_profile=True, default_profile_image=False, following=False, follow_request_sent=False, notifications=False, translator_type='none'), geo=None, coordinates=None, place=None, contributors=None, is_quote_status=False, retweet_count=0, favorite_count=0, favorited=False, retweeted=False, possibly_sensitive=False, lang='en') \n",
      "\n",
      "---------------------------------------------------\n",
      "\n"
     ]
    }
   ],
   "source": [
    "for tweet in Tweets:\n",
    "    print(tweet,\"\\n\")\n",
    "    print(\"---------------------------------------------------\\n\")"
   ]
  },
  {
   "cell_type": "markdown",
   "metadata": {},
   "source": [
    "## Get the tweets and some Attributes\n"
   ]
  },
  {
   "cell_type": "code",
   "execution_count": 9,
   "metadata": {},
   "outputs": [],
   "source": [
    "## Get the tweets and some Attributes\n",
    "df = pd.DataFrame(columns = ['Tweets', 'User', 'User_statuses_count',\n",
    "                             'user_followers', 'User_location', 'User_verified', \n",
    "                             'fav_count', 'rt_count', 'tweet_date'])"
   ]
  },
  {
   "cell_type": "code",
   "execution_count": 10,
   "metadata": {},
   "outputs": [
    {
     "name": "stdout",
     "output_type": "stream",
     "text": [
      "Empty DataFrame\n",
      "Columns: [Tweets, User, User_statuses_count, user_followers, User_location, User_verified, fav_count, rt_count, tweet_date]\n",
      "Index: []\n",
      "(0, 9)\n"
     ]
    }
   ],
   "source": [
    "print(df)\n",
    "print(df.shape)\n"
   ]
  },
  {
   "cell_type": "markdown",
   "metadata": {},
   "source": [
    "# Create a Function"
   ]
  },
  {
   "cell_type": "code",
   "execution_count": 11,
   "metadata": {},
   "outputs": [],
   "source": [
    "# Create a function\n",
    "def stream(data, file_name):\n",
    "    i = 0\n",
    "    for tweet in tweepy.Cursor(api.search, q=data, count=100, lang='en').items():\n",
    "        print(i, end='\\r')\n",
    "        df.loc[i, 'Tweets'] = tweet.text\n",
    "        df.loc[i, 'User'] = tweet.user.name\n",
    "        df.loc[i, 'User_statuses_count'] = tweet.user.statuses_count\n",
    "        df.loc[i, 'user_followers'] = tweet.user.followers_count\n",
    "        df.loc[i, 'User_location'] = tweet.user.location\n",
    "        df.loc[i, 'User_verified'] = tweet.user.verified\n",
    "        df.loc[i, 'fav_count'] = tweet.favorite_count\n",
    "        df.loc[i, 'rt_count'] = tweet.retweet_count\n",
    "        df.loc[i, 'tweet_date'] = tweet.created_at\n",
    "        df.to_excel('{}.xlsx'.format(file_name))\n",
    "        i = i+1\n",
    "        if i == 1000:\n",
    "            break\n",
    "        else:\n",
    "            pass\n",
    "\n",
    "\n"
   ]
  },
  {
   "cell_type": "code",
   "execution_count": 12,
   "metadata": {},
   "outputs": [
    {
     "name": "stdout",
     "output_type": "stream",
     "text": [
      "112\r"
     ]
    }
   ],
   "source": [
    "stream(data=[\"bjp win in Bihar election 2020\"], file_name='my_tweets')"
   ]
  },
  {
   "cell_type": "code",
   "execution_count": 13,
   "metadata": {},
   "outputs": [
    {
     "data": {
      "text/html": [
       "<div>\n",
       "<style scoped>\n",
       "    .dataframe tbody tr th:only-of-type {\n",
       "        vertical-align: middle;\n",
       "    }\n",
       "\n",
       "    .dataframe tbody tr th {\n",
       "        vertical-align: top;\n",
       "    }\n",
       "\n",
       "    .dataframe thead th {\n",
       "        text-align: right;\n",
       "    }\n",
       "</style>\n",
       "<table border=\"1\" class=\"dataframe\">\n",
       "  <thead>\n",
       "    <tr style=\"text-align: right;\">\n",
       "      <th></th>\n",
       "      <th>Tweets</th>\n",
       "      <th>User</th>\n",
       "      <th>User_statuses_count</th>\n",
       "      <th>user_followers</th>\n",
       "      <th>User_location</th>\n",
       "      <th>User_verified</th>\n",
       "      <th>fav_count</th>\n",
       "      <th>rt_count</th>\n",
       "      <th>tweet_date</th>\n",
       "    </tr>\n",
       "  </thead>\n",
       "  <tbody>\n",
       "    <tr>\n",
       "      <td>0</td>\n",
       "      <td>RT @IndiaToday: NDA's win in Bihar: Is BJP an ...</td>\n",
       "      <td>office of kd</td>\n",
       "      <td>11626</td>\n",
       "      <td>125</td>\n",
       "      <td></td>\n",
       "      <td>False</td>\n",
       "      <td>0</td>\n",
       "      <td>12</td>\n",
       "      <td>2020-11-14 15:26:40</td>\n",
       "    </tr>\n",
       "    <tr>\n",
       "      <td>1</td>\n",
       "      <td>RT @IndiaToday: NDA's win in Bihar: Is BJP an ...</td>\n",
       "      <td>FunFootlooseFoodie</td>\n",
       "      <td>66425</td>\n",
       "      <td>122</td>\n",
       "      <td></td>\n",
       "      <td>False</td>\n",
       "      <td>0</td>\n",
       "      <td>12</td>\n",
       "      <td>2020-11-12 18:13:22</td>\n",
       "    </tr>\n",
       "    <tr>\n",
       "      <td>2</td>\n",
       "      <td>RT @IndiaToday: NDA's win in Bihar: Is BJP an ...</td>\n",
       "      <td>ChennaKesava Singh</td>\n",
       "      <td>720</td>\n",
       "      <td>47</td>\n",
       "      <td></td>\n",
       "      <td>False</td>\n",
       "      <td>0</td>\n",
       "      <td>12</td>\n",
       "      <td>2020-11-12 14:03:23</td>\n",
       "    </tr>\n",
       "    <tr>\n",
       "      <td>3</td>\n",
       "      <td>Seats won by majority parties in Bihar Electio...</td>\n",
       "      <td>Garvit Gautam</td>\n",
       "      <td>203</td>\n",
       "      <td>44</td>\n",
       "      <td>Mumbai, India</td>\n",
       "      <td>False</td>\n",
       "      <td>0</td>\n",
       "      <td>0</td>\n",
       "      <td>2020-11-12 07:29:46</td>\n",
       "    </tr>\n",
       "    <tr>\n",
       "      <td>4</td>\n",
       "      <td>RT @indiamusings: Indian election lessons for ...</td>\n",
       "      <td>BG.Subhash</td>\n",
       "      <td>56940</td>\n",
       "      <td>644</td>\n",
       "      <td>Bangalore</td>\n",
       "      <td>False</td>\n",
       "      <td>0</td>\n",
       "      <td>1</td>\n",
       "      <td>2020-11-12 03:05:15</td>\n",
       "    </tr>\n",
       "  </tbody>\n",
       "</table>\n",
       "</div>"
      ],
      "text/plain": [
       "                                              Tweets                User  \\\n",
       "0  RT @IndiaToday: NDA's win in Bihar: Is BJP an ...        office of kd   \n",
       "1  RT @IndiaToday: NDA's win in Bihar: Is BJP an ...  FunFootlooseFoodie   \n",
       "2  RT @IndiaToday: NDA's win in Bihar: Is BJP an ...  ChennaKesava Singh   \n",
       "3  Seats won by majority parties in Bihar Electio...       Garvit Gautam   \n",
       "4  RT @indiamusings: Indian election lessons for ...          BG.Subhash   \n",
       "\n",
       "  User_statuses_count user_followers  User_location User_verified fav_count  \\\n",
       "0               11626            125                        False         0   \n",
       "1               66425            122                        False         0   \n",
       "2                 720             47                        False         0   \n",
       "3                 203             44  Mumbai, India         False         0   \n",
       "4               56940            644      Bangalore         False         0   \n",
       "\n",
       "  rt_count           tweet_date  \n",
       "0       12  2020-11-14 15:26:40  \n",
       "1       12  2020-11-12 18:13:22  \n",
       "2       12  2020-11-12 14:03:23  \n",
       "3        0  2020-11-12 07:29:46  \n",
       "4        1  2020-11-12 03:05:15  "
      ]
     },
     "execution_count": 13,
     "metadata": {},
     "output_type": "execute_result"
    }
   ],
   "source": [
    "df.head()"
   ]
  },
  {
   "cell_type": "markdown",
   "metadata": {},
   "source": [
    "# Install textblob library"
   ]
  },
  {
   "cell_type": "code",
   "execution_count": 14,
   "metadata": {},
   "outputs": [
    {
     "name": "stdout",
     "output_type": "stream",
     "text": [
      "Requirement already satisfied: textblob in c:\\users\\vishal\\anaconda3\\lib\\site-packages (0.15.3)\n",
      "Requirement already satisfied: nltk>=3.1 in c:\\users\\vishal\\anaconda3\\lib\\site-packages (from textblob) (3.4.5)\n",
      "Requirement already satisfied: six in c:\\users\\vishal\\anaconda3\\lib\\site-packages (from nltk>=3.1->textblob) (1.12.0)\n"
     ]
    }
   ],
   "source": [
    "## Install new library named textblob\n",
    "!pip install textblob"
   ]
  },
  {
   "cell_type": "raw",
   "metadata": {},
   "source": [
    "Note:\n",
    "\n",
    "Sentiment(polarity, subjectivity)\n",
    "\n",
    "Polarity score: [-1, +1]\n",
    "\n",
    "Subjectivity: [0.0, 1.0]\n",
    "Where 0.0 is very Objective and 1.0 is Very Subjectve."
   ]
  },
  {
   "cell_type": "code",
   "execution_count": 15,
   "metadata": {},
   "outputs": [],
   "source": [
    "from textblob import TextBlob\n"
   ]
  },
  {
   "cell_type": "code",
   "execution_count": 16,
   "metadata": {},
   "outputs": [],
   "source": [
    "import re\n",
    "def clean_tweet(tweet):\n",
    "    return ' '.join(re.sub('(@[A-Za-z0-9]+)|([^0-9A-Za-z \\t])|(\\w+:\\/\\/\\S+)', ' ', tweet).split())\n",
    "\n"
   ]
  },
  {
   "cell_type": "markdown",
   "metadata": {},
   "source": [
    "# Addition of another column wrt analyse the Sentiments"
   ]
  },
  {
   "cell_type": "code",
   "execution_count": 17,
   "metadata": {},
   "outputs": [],
   "source": [
    "## Addition of another column wrt analyse the Sentiments\n",
    "\n",
    "def analyze_sentiment(tweet):\n",
    "    analysis = TextBlob(tweet)\n",
    "    if analysis.sentiment.polarity > 0:\n",
    "        return 'Positive'\n",
    "    elif analysis.sentiment.polarity == 0:\n",
    "        return 'Neutral'\n",
    "    else:\n",
    "        return 'Negative'\n",
    "\n"
   ]
  },
  {
   "cell_type": "code",
   "execution_count": 18,
   "metadata": {},
   "outputs": [],
   "source": [
    "df['clean_tweet'] = df['Tweets'].apply(lambda x : clean_tweet(x))"
   ]
  },
  {
   "cell_type": "code",
   "execution_count": 19,
   "metadata": {},
   "outputs": [
    {
     "data": {
      "text/html": [
       "<div>\n",
       "<style scoped>\n",
       "    .dataframe tbody tr th:only-of-type {\n",
       "        vertical-align: middle;\n",
       "    }\n",
       "\n",
       "    .dataframe tbody tr th {\n",
       "        vertical-align: top;\n",
       "    }\n",
       "\n",
       "    .dataframe thead th {\n",
       "        text-align: right;\n",
       "    }\n",
       "</style>\n",
       "<table border=\"1\" class=\"dataframe\">\n",
       "  <thead>\n",
       "    <tr style=\"text-align: right;\">\n",
       "      <th></th>\n",
       "      <th>Tweets</th>\n",
       "      <th>User</th>\n",
       "      <th>User_statuses_count</th>\n",
       "      <th>user_followers</th>\n",
       "      <th>User_location</th>\n",
       "      <th>User_verified</th>\n",
       "      <th>fav_count</th>\n",
       "      <th>rt_count</th>\n",
       "      <th>tweet_date</th>\n",
       "      <th>clean_tweet</th>\n",
       "    </tr>\n",
       "  </thead>\n",
       "  <tbody>\n",
       "    <tr>\n",
       "      <td>0</td>\n",
       "      <td>RT @IndiaToday: NDA's win in Bihar: Is BJP an ...</td>\n",
       "      <td>office of kd</td>\n",
       "      <td>11626</td>\n",
       "      <td>125</td>\n",
       "      <td></td>\n",
       "      <td>False</td>\n",
       "      <td>0</td>\n",
       "      <td>12</td>\n",
       "      <td>2020-11-14 15:26:40</td>\n",
       "      <td>RT NDA s win in Bihar Is BJP an unstoppable el...</td>\n",
       "    </tr>\n",
       "    <tr>\n",
       "      <td>1</td>\n",
       "      <td>RT @IndiaToday: NDA's win in Bihar: Is BJP an ...</td>\n",
       "      <td>FunFootlooseFoodie</td>\n",
       "      <td>66425</td>\n",
       "      <td>122</td>\n",
       "      <td></td>\n",
       "      <td>False</td>\n",
       "      <td>0</td>\n",
       "      <td>12</td>\n",
       "      <td>2020-11-12 18:13:22</td>\n",
       "      <td>RT NDA s win in Bihar Is BJP an unstoppable el...</td>\n",
       "    </tr>\n",
       "    <tr>\n",
       "      <td>2</td>\n",
       "      <td>RT @IndiaToday: NDA's win in Bihar: Is BJP an ...</td>\n",
       "      <td>ChennaKesava Singh</td>\n",
       "      <td>720</td>\n",
       "      <td>47</td>\n",
       "      <td></td>\n",
       "      <td>False</td>\n",
       "      <td>0</td>\n",
       "      <td>12</td>\n",
       "      <td>2020-11-12 14:03:23</td>\n",
       "      <td>RT NDA s win in Bihar Is BJP an unstoppable el...</td>\n",
       "    </tr>\n",
       "    <tr>\n",
       "      <td>3</td>\n",
       "      <td>Seats won by majority parties in Bihar Electio...</td>\n",
       "      <td>Garvit Gautam</td>\n",
       "      <td>203</td>\n",
       "      <td>44</td>\n",
       "      <td>Mumbai, India</td>\n",
       "      <td>False</td>\n",
       "      <td>0</td>\n",
       "      <td>0</td>\n",
       "      <td>2020-11-12 07:29:46</td>\n",
       "      <td>Seats won by majority parties in Bihar Electio...</td>\n",
       "    </tr>\n",
       "    <tr>\n",
       "      <td>4</td>\n",
       "      <td>RT @indiamusings: Indian election lessons for ...</td>\n",
       "      <td>BG.Subhash</td>\n",
       "      <td>56940</td>\n",
       "      <td>644</td>\n",
       "      <td>Bangalore</td>\n",
       "      <td>False</td>\n",
       "      <td>0</td>\n",
       "      <td>1</td>\n",
       "      <td>2020-11-12 03:05:15</td>\n",
       "      <td>RT Indian election lessons for USA India just ...</td>\n",
       "    </tr>\n",
       "  </tbody>\n",
       "</table>\n",
       "</div>"
      ],
      "text/plain": [
       "                                              Tweets                User  \\\n",
       "0  RT @IndiaToday: NDA's win in Bihar: Is BJP an ...        office of kd   \n",
       "1  RT @IndiaToday: NDA's win in Bihar: Is BJP an ...  FunFootlooseFoodie   \n",
       "2  RT @IndiaToday: NDA's win in Bihar: Is BJP an ...  ChennaKesava Singh   \n",
       "3  Seats won by majority parties in Bihar Electio...       Garvit Gautam   \n",
       "4  RT @indiamusings: Indian election lessons for ...          BG.Subhash   \n",
       "\n",
       "  User_statuses_count user_followers  User_location User_verified fav_count  \\\n",
       "0               11626            125                        False         0   \n",
       "1               66425            122                        False         0   \n",
       "2                 720             47                        False         0   \n",
       "3                 203             44  Mumbai, India         False         0   \n",
       "4               56940            644      Bangalore         False         0   \n",
       "\n",
       "  rt_count           tweet_date  \\\n",
       "0       12  2020-11-14 15:26:40   \n",
       "1       12  2020-11-12 18:13:22   \n",
       "2       12  2020-11-12 14:03:23   \n",
       "3        0  2020-11-12 07:29:46   \n",
       "4        1  2020-11-12 03:05:15   \n",
       "\n",
       "                                         clean_tweet  \n",
       "0  RT NDA s win in Bihar Is BJP an unstoppable el...  \n",
       "1  RT NDA s win in Bihar Is BJP an unstoppable el...  \n",
       "2  RT NDA s win in Bihar Is BJP an unstoppable el...  \n",
       "3  Seats won by majority parties in Bihar Electio...  \n",
       "4  RT Indian election lessons for USA India just ...  "
      ]
     },
     "execution_count": 19,
     "metadata": {},
     "output_type": "execute_result"
    }
   ],
   "source": [
    "df.head()"
   ]
  },
  {
   "cell_type": "code",
   "execution_count": 20,
   "metadata": {},
   "outputs": [],
   "source": [
    "df['Sentiment'] = df['clean_tweet'].apply(lambda x : analyze_sentiment(x))\n"
   ]
  },
  {
   "cell_type": "code",
   "execution_count": 21,
   "metadata": {},
   "outputs": [
    {
     "data": {
      "text/html": [
       "<div>\n",
       "<style scoped>\n",
       "    .dataframe tbody tr th:only-of-type {\n",
       "        vertical-align: middle;\n",
       "    }\n",
       "\n",
       "    .dataframe tbody tr th {\n",
       "        vertical-align: top;\n",
       "    }\n",
       "\n",
       "    .dataframe thead th {\n",
       "        text-align: right;\n",
       "    }\n",
       "</style>\n",
       "<table border=\"1\" class=\"dataframe\">\n",
       "  <thead>\n",
       "    <tr style=\"text-align: right;\">\n",
       "      <th></th>\n",
       "      <th>Tweets</th>\n",
       "      <th>User</th>\n",
       "      <th>User_statuses_count</th>\n",
       "      <th>user_followers</th>\n",
       "      <th>User_location</th>\n",
       "      <th>User_verified</th>\n",
       "      <th>fav_count</th>\n",
       "      <th>rt_count</th>\n",
       "      <th>tweet_date</th>\n",
       "      <th>clean_tweet</th>\n",
       "      <th>Sentiment</th>\n",
       "    </tr>\n",
       "  </thead>\n",
       "  <tbody>\n",
       "    <tr>\n",
       "      <td>0</td>\n",
       "      <td>RT @IndiaToday: NDA's win in Bihar: Is BJP an ...</td>\n",
       "      <td>office of kd</td>\n",
       "      <td>11626</td>\n",
       "      <td>125</td>\n",
       "      <td></td>\n",
       "      <td>False</td>\n",
       "      <td>0</td>\n",
       "      <td>12</td>\n",
       "      <td>2020-11-14 15:26:40</td>\n",
       "      <td>RT NDA s win in Bihar Is BJP an unstoppable el...</td>\n",
       "      <td>Positive</td>\n",
       "    </tr>\n",
       "    <tr>\n",
       "      <td>1</td>\n",
       "      <td>RT @IndiaToday: NDA's win in Bihar: Is BJP an ...</td>\n",
       "      <td>FunFootlooseFoodie</td>\n",
       "      <td>66425</td>\n",
       "      <td>122</td>\n",
       "      <td></td>\n",
       "      <td>False</td>\n",
       "      <td>0</td>\n",
       "      <td>12</td>\n",
       "      <td>2020-11-12 18:13:22</td>\n",
       "      <td>RT NDA s win in Bihar Is BJP an unstoppable el...</td>\n",
       "      <td>Positive</td>\n",
       "    </tr>\n",
       "    <tr>\n",
       "      <td>2</td>\n",
       "      <td>RT @IndiaToday: NDA's win in Bihar: Is BJP an ...</td>\n",
       "      <td>ChennaKesava Singh</td>\n",
       "      <td>720</td>\n",
       "      <td>47</td>\n",
       "      <td></td>\n",
       "      <td>False</td>\n",
       "      <td>0</td>\n",
       "      <td>12</td>\n",
       "      <td>2020-11-12 14:03:23</td>\n",
       "      <td>RT NDA s win in Bihar Is BJP an unstoppable el...</td>\n",
       "      <td>Positive</td>\n",
       "    </tr>\n",
       "    <tr>\n",
       "      <td>3</td>\n",
       "      <td>Seats won by majority parties in Bihar Electio...</td>\n",
       "      <td>Garvit Gautam</td>\n",
       "      <td>203</td>\n",
       "      <td>44</td>\n",
       "      <td>Mumbai, India</td>\n",
       "      <td>False</td>\n",
       "      <td>0</td>\n",
       "      <td>0</td>\n",
       "      <td>2020-11-12 07:29:46</td>\n",
       "      <td>Seats won by majority parties in Bihar Electio...</td>\n",
       "      <td>Neutral</td>\n",
       "    </tr>\n",
       "    <tr>\n",
       "      <td>4</td>\n",
       "      <td>RT @indiamusings: Indian election lessons for ...</td>\n",
       "      <td>BG.Subhash</td>\n",
       "      <td>56940</td>\n",
       "      <td>644</td>\n",
       "      <td>Bangalore</td>\n",
       "      <td>False</td>\n",
       "      <td>0</td>\n",
       "      <td>1</td>\n",
       "      <td>2020-11-12 03:05:15</td>\n",
       "      <td>RT Indian election lessons for USA India just ...</td>\n",
       "      <td>Positive</td>\n",
       "    </tr>\n",
       "  </tbody>\n",
       "</table>\n",
       "</div>"
      ],
      "text/plain": [
       "                                              Tweets                User  \\\n",
       "0  RT @IndiaToday: NDA's win in Bihar: Is BJP an ...        office of kd   \n",
       "1  RT @IndiaToday: NDA's win in Bihar: Is BJP an ...  FunFootlooseFoodie   \n",
       "2  RT @IndiaToday: NDA's win in Bihar: Is BJP an ...  ChennaKesava Singh   \n",
       "3  Seats won by majority parties in Bihar Electio...       Garvit Gautam   \n",
       "4  RT @indiamusings: Indian election lessons for ...          BG.Subhash   \n",
       "\n",
       "  User_statuses_count user_followers  User_location User_verified fav_count  \\\n",
       "0               11626            125                        False         0   \n",
       "1               66425            122                        False         0   \n",
       "2                 720             47                        False         0   \n",
       "3                 203             44  Mumbai, India         False         0   \n",
       "4               56940            644      Bangalore         False         0   \n",
       "\n",
       "  rt_count           tweet_date  \\\n",
       "0       12  2020-11-14 15:26:40   \n",
       "1       12  2020-11-12 18:13:22   \n",
       "2       12  2020-11-12 14:03:23   \n",
       "3        0  2020-11-12 07:29:46   \n",
       "4        1  2020-11-12 03:05:15   \n",
       "\n",
       "                                         clean_tweet Sentiment  \n",
       "0  RT NDA s win in Bihar Is BJP an unstoppable el...  Positive  \n",
       "1  RT NDA s win in Bihar Is BJP an unstoppable el...  Positive  \n",
       "2  RT NDA s win in Bihar Is BJP an unstoppable el...  Positive  \n",
       "3  Seats won by majority parties in Bihar Electio...   Neutral  \n",
       "4  RT Indian election lessons for USA India just ...  Positive  "
      ]
     },
     "execution_count": 21,
     "metadata": {},
     "output_type": "execute_result"
    }
   ],
   "source": [
    "df.head()"
   ]
  },
  {
   "cell_type": "code",
   "execution_count": 23,
   "metadata": {},
   "outputs": [
    {
     "name": "stdout",
     "output_type": "stream",
     "text": [
      "Original tweet:\n",
      " RT @news18dotcom: In the first win for the BJP in Bihar. BJP’s Murari Mohan Jha beats RJD’s Abdul Bari Siddiqui in Keoti. Siddiqui is a sen…\n",
      "\n",
      "Clean tweet:\n",
      " RT In the first win for the BJP in Bihar BJP s Murari Mohan Jha beats RJD s Abdul Bari Siddiqui in Keoti Siddiqui is a sen\n",
      "\n",
      "Sentiment of the tweet:\n",
      " Positive\n",
      "\n"
     ]
    }
   ],
   "source": [
    "n = 20\n",
    "print(\"Original tweet:\\n\",df['Tweets'][n])\n",
    "print()\n",
    "print(\"Clean tweet:\\n\",df['clean_tweet'][n])\n",
    "print()\n",
    "print(\"Sentiment of the tweet:\\n\",df['Sentiment'][n])\n",
    "print()\n"
   ]
  },
  {
   "cell_type": "code",
   "execution_count": 24,
   "metadata": {},
   "outputs": [
    {
     "name": "stdout",
     "output_type": "stream",
     "text": [
      "Original tweet:\n",
      " RT @IndiaToday: NDA's win in Bihar: Is BJP an unstoppable election juggernaut?\n",
      "\n",
      "Watch full show #NewsToday with @sardesairajdeep: https://t…\n",
      "\n",
      "Clean tweet:\n",
      " RT NDA s win in Bihar Is BJP an unstoppable election juggernaut Watch full show NewsToday with\n",
      "\n",
      "Sentiment of the tweet:\n",
      " Positive\n",
      "\n"
     ]
    }
   ],
   "source": [
    "n = 11\n",
    "print(\"Original tweet:\\n\",df['Tweets'][n])\n",
    "print()\n",
    "print(\"Clean tweet:\\n\",df['clean_tweet'][n])\n",
    "print()\n",
    "print(\"Sentiment of the tweet:\\n\",df['Sentiment'][n])\n",
    "print()\n"
   ]
  },
  {
   "cell_type": "code",
   "execution_count": 25,
   "metadata": {},
   "outputs": [
    {
     "name": "stdout",
     "output_type": "stream",
     "text": [
      "Original tweet:\n",
      " Seats won by majority parties in Bihar Elections 2020:\n",
      "\n",
      "RJD (TEJASWI YADAV)-75\n",
      "BJP (MODI)-71\n",
      "JDU (NITISH KUMAR)-43… https://t.co/o1010dLJK4\n",
      "\n",
      "Clean tweet:\n",
      " Seats won by majority parties in Bihar Elections 2020 RJD TEJASWI YADAV 75 BJP MODI 71 JDU NITISH KUMAR 43\n",
      "\n",
      "Sentiment of the tweet:\n",
      " Neutral\n",
      "\n"
     ]
    }
   ],
   "source": [
    "n = 3\n",
    "print(\"Original tweet:\\n\",df['Tweets'][n])\n",
    "print()\n",
    "print(\"Clean tweet:\\n\",df['clean_tweet'][n])\n",
    "print()\n",
    "print(\"Sentiment of the tweet:\\n\",df['Sentiment'][n])\n",
    "print()\n"
   ]
  },
  {
   "cell_type": "code",
   "execution_count": 26,
   "metadata": {},
   "outputs": [
    {
     "name": "stdout",
     "output_type": "stream",
     "text": [
      "Original tweet:\n",
      " #BiharElectionResults2020 | Ashok Kumar Chodhary of JD(U) win from Sakra; Poll panel briefing at 6 pm today \n",
      "\n",
      "Track… https://t.co/4yafzxKT75\n",
      "\n",
      "Clean tweet:\n",
      " BiharElectionResults2020 Ashok Kumar Chodhary of JD U win from Sakra Poll panel briefing at 6 pm today Track\n",
      "\n",
      "Sentiment of the tweet:\n",
      " Positive\n",
      "\n"
     ]
    }
   ],
   "source": [
    "n = 77\n",
    "print(\"Original tweet:\\n\",df['Tweets'][n])\n",
    "print()\n",
    "print(\"Clean tweet:\\n\",df['clean_tweet'][n])\n",
    "print()\n",
    "print(\"Sentiment of the tweet:\\n\",df['Sentiment'][n])\n",
    "print()"
   ]
  },
  {
   "cell_type": "code",
   "execution_count": 27,
   "metadata": {},
   "outputs": [
    {
     "name": "stdout",
     "output_type": "stream",
     "text": [
      "Original tweet:\n",
      " RT @ABPNews: ' #NitishKumar Will Be The CM,' BJP Sources Claim Even As JDU Emerges As Weak Link In NDA's Bihar Outcome\n",
      "\n",
      "#BiharResultOnABP…\n",
      "\n",
      "Clean tweet:\n",
      " RT NitishKumar Will Be The CM BJP Sources Claim Even As JDU Emerges As Weak Link In NDA s Bihar Outcome BiharResultOnABP\n",
      "\n",
      "Sentiment of the tweet:\n",
      " Negative\n",
      "\n"
     ]
    }
   ],
   "source": [
    "n = 81\n",
    "print(\"Original tweet:\\n\",df['Tweets'][n])\n",
    "print()\n",
    "print(\"Clean tweet:\\n\",df['clean_tweet'][n])\n",
    "print()\n",
    "print(\"Sentiment of the tweet:\\n\",df['Sentiment'][n])\n",
    "print()"
   ]
  },
  {
   "cell_type": "code",
   "execution_count": 28,
   "metadata": {},
   "outputs": [
    {
     "name": "stdout",
     "output_type": "stream",
     "text": [
      "Original tweet:\n",
      " RT @ndtv: Watch | BJP Claims Victory In Bihar Before Results Out, Says Win For Development\n",
      "\n",
      "Read here https://t.co/W8LmAVRFDn\n",
      "\n",
      "#ResultsWith…\n",
      "\n",
      "Clean tweet:\n",
      " RT Watch BJP Claims Victory In Bihar Before Results Out Says Win For Development Read here ResultsWith\n",
      "\n",
      "Sentiment of the tweet:\n",
      " Positive\n",
      "\n"
     ]
    }
   ],
   "source": [
    "n = 50\n",
    "print(\"Original tweet:\\n\",df['Tweets'][n])\n",
    "print()\n",
    "print(\"Clean tweet:\\n\",df['clean_tweet'][n])\n",
    "print()\n",
    "print(\"Sentiment of the tweet:\\n\",df['Sentiment'][n])\n",
    "print()"
   ]
  },
  {
   "cell_type": "code",
   "execution_count": 29,
   "metadata": {},
   "outputs": [
    {
     "name": "stdout",
     "output_type": "stream",
     "text": [
      "Original tweet:\n",
      " @Hari04849748 @blsanthosh @JPNadda @BJP4Bihar @AmitShah Forget it dear ,trust my prediction. \n",
      "I humbly predicted Jo… https://t.co/omxB5u1klY\n",
      "\n",
      "Clean tweet:\n",
      " Forget it dear trust my prediction I humbly predicted Jo\n",
      "\n",
      "Sentiment of the tweet:\n",
      " Negative\n",
      "\n"
     ]
    }
   ],
   "source": [
    "n = 90\n",
    "print(\"Original tweet:\\n\",df['Tweets'][n])\n",
    "print()\n",
    "print(\"Clean tweet:\\n\",df['clean_tweet'][n])\n",
    "print()\n",
    "print(\"Sentiment of the tweet:\\n\",df['Sentiment'][n])\n",
    "print()"
   ]
  },
  {
   "cell_type": "code",
   "execution_count": 30,
   "metadata": {},
   "outputs": [
    {
     "data": {
      "text/html": [
       "<div>\n",
       "<style scoped>\n",
       "    .dataframe tbody tr th:only-of-type {\n",
       "        vertical-align: middle;\n",
       "    }\n",
       "\n",
       "    .dataframe tbody tr th {\n",
       "        vertical-align: top;\n",
       "    }\n",
       "\n",
       "    .dataframe thead th {\n",
       "        text-align: right;\n",
       "    }\n",
       "</style>\n",
       "<table border=\"1\" class=\"dataframe\">\n",
       "  <thead>\n",
       "    <tr style=\"text-align: right;\">\n",
       "      <th></th>\n",
       "      <th>Tweets</th>\n",
       "      <th>User</th>\n",
       "      <th>User_statuses_count</th>\n",
       "      <th>user_followers</th>\n",
       "      <th>User_location</th>\n",
       "      <th>User_verified</th>\n",
       "      <th>fav_count</th>\n",
       "      <th>rt_count</th>\n",
       "      <th>tweet_date</th>\n",
       "      <th>clean_tweet</th>\n",
       "      <th>Sentiment</th>\n",
       "    </tr>\n",
       "  </thead>\n",
       "  <tbody>\n",
       "    <tr>\n",
       "      <td>0</td>\n",
       "      <td>RT @IndiaToday: NDA's win in Bihar: Is BJP an ...</td>\n",
       "      <td>office of kd</td>\n",
       "      <td>11626</td>\n",
       "      <td>125</td>\n",
       "      <td></td>\n",
       "      <td>False</td>\n",
       "      <td>0</td>\n",
       "      <td>12</td>\n",
       "      <td>2020-11-14 15:26:40</td>\n",
       "      <td>RT NDA s win in Bihar Is BJP an unstoppable el...</td>\n",
       "      <td>Positive</td>\n",
       "    </tr>\n",
       "    <tr>\n",
       "      <td>1</td>\n",
       "      <td>RT @IndiaToday: NDA's win in Bihar: Is BJP an ...</td>\n",
       "      <td>FunFootlooseFoodie</td>\n",
       "      <td>66425</td>\n",
       "      <td>122</td>\n",
       "      <td></td>\n",
       "      <td>False</td>\n",
       "      <td>0</td>\n",
       "      <td>12</td>\n",
       "      <td>2020-11-12 18:13:22</td>\n",
       "      <td>RT NDA s win in Bihar Is BJP an unstoppable el...</td>\n",
       "      <td>Positive</td>\n",
       "    </tr>\n",
       "    <tr>\n",
       "      <td>2</td>\n",
       "      <td>RT @IndiaToday: NDA's win in Bihar: Is BJP an ...</td>\n",
       "      <td>ChennaKesava Singh</td>\n",
       "      <td>720</td>\n",
       "      <td>47</td>\n",
       "      <td></td>\n",
       "      <td>False</td>\n",
       "      <td>0</td>\n",
       "      <td>12</td>\n",
       "      <td>2020-11-12 14:03:23</td>\n",
       "      <td>RT NDA s win in Bihar Is BJP an unstoppable el...</td>\n",
       "      <td>Positive</td>\n",
       "    </tr>\n",
       "    <tr>\n",
       "      <td>4</td>\n",
       "      <td>RT @indiamusings: Indian election lessons for ...</td>\n",
       "      <td>BG.Subhash</td>\n",
       "      <td>56940</td>\n",
       "      <td>644</td>\n",
       "      <td>Bangalore</td>\n",
       "      <td>False</td>\n",
       "      <td>0</td>\n",
       "      <td>1</td>\n",
       "      <td>2020-11-12 03:05:15</td>\n",
       "      <td>RT Indian election lessons for USA India just ...</td>\n",
       "      <td>Positive</td>\n",
       "    </tr>\n",
       "    <tr>\n",
       "      <td>5</td>\n",
       "      <td>Indian election lessons for USA👌:\\nIndia just ...</td>\n",
       "      <td>Dr. Prasad’s Space</td>\n",
       "      <td>23217</td>\n",
       "      <td>1949</td>\n",
       "      <td>Planet Earth</td>\n",
       "      <td>False</td>\n",
       "      <td>2</td>\n",
       "      <td>1</td>\n",
       "      <td>2020-11-12 03:03:36</td>\n",
       "      <td>Indian election lessons for USA India just com...</td>\n",
       "      <td>Positive</td>\n",
       "    </tr>\n",
       "    <tr>\n",
       "      <td>...</td>\n",
       "      <td>...</td>\n",
       "      <td>...</td>\n",
       "      <td>...</td>\n",
       "      <td>...</td>\n",
       "      <td>...</td>\n",
       "      <td>...</td>\n",
       "      <td>...</td>\n",
       "      <td>...</td>\n",
       "      <td>...</td>\n",
       "      <td>...</td>\n",
       "      <td>...</td>\n",
       "    </tr>\n",
       "    <tr>\n",
       "      <td>108</td>\n",
       "      <td>RT @ThePrintIndia: Most exit polls predicted T...</td>\n",
       "      <td>Kairvy Grewal</td>\n",
       "      <td>208</td>\n",
       "      <td>791</td>\n",
       "      <td>New Delhi, India</td>\n",
       "      <td>False</td>\n",
       "      <td>0</td>\n",
       "      <td>14</td>\n",
       "      <td>2020-11-10 02:48:56</td>\n",
       "      <td>RT Most exit polls predicted Tejashwi Yadav le...</td>\n",
       "      <td>Positive</td>\n",
       "    </tr>\n",
       "    <tr>\n",
       "      <td>109</td>\n",
       "      <td>RT @ThePrintIndia: Most exit polls predicted T...</td>\n",
       "      <td>DK Singh</td>\n",
       "      <td>6014</td>\n",
       "      <td>6117</td>\n",
       "      <td>New Delhi</td>\n",
       "      <td>True</td>\n",
       "      <td>0</td>\n",
       "      <td>14</td>\n",
       "      <td>2020-11-10 02:47:48</td>\n",
       "      <td>RT Most exit polls predicted Tejashwi Yadav le...</td>\n",
       "      <td>Positive</td>\n",
       "    </tr>\n",
       "    <tr>\n",
       "      <td>110</td>\n",
       "      <td>Most exit polls predicted Tejashwi Yadav-led m...</td>\n",
       "      <td>ThePrintIndia</td>\n",
       "      <td>103781</td>\n",
       "      <td>288620</td>\n",
       "      <td>New Delhi, India</td>\n",
       "      <td>True</td>\n",
       "      <td>323</td>\n",
       "      <td>14</td>\n",
       "      <td>2020-11-10 01:56:42</td>\n",
       "      <td>Most exit polls predicted Tejashwi Yadav led m...</td>\n",
       "      <td>Positive</td>\n",
       "    </tr>\n",
       "    <tr>\n",
       "      <td>111</td>\n",
       "      <td>One more state out of BJP net. So days are num...</td>\n",
       "      <td>Girish Dave</td>\n",
       "      <td>854</td>\n",
       "      <td>43</td>\n",
       "      <td>mumbai</td>\n",
       "      <td>False</td>\n",
       "      <td>0</td>\n",
       "      <td>0</td>\n",
       "      <td>2020-11-09 08:13:13</td>\n",
       "      <td>One more state out of BJP net So days are numb...</td>\n",
       "      <td>Positive</td>\n",
       "    </tr>\n",
       "    <tr>\n",
       "      <td>112</td>\n",
       "      <td>@ANI He is not able to win a single state elec...</td>\n",
       "      <td>Vinod Chawla</td>\n",
       "      <td>699</td>\n",
       "      <td>15</td>\n",
       "      <td>ठाणे, भारत</td>\n",
       "      <td>False</td>\n",
       "      <td>0</td>\n",
       "      <td>0</td>\n",
       "      <td>2020-11-09 07:06:20</td>\n",
       "      <td>He is not able to win a single state election ...</td>\n",
       "      <td>Positive</td>\n",
       "    </tr>\n",
       "  </tbody>\n",
       "</table>\n",
       "<p>102 rows × 11 columns</p>\n",
       "</div>"
      ],
      "text/plain": [
       "                                                Tweets                User  \\\n",
       "0    RT @IndiaToday: NDA's win in Bihar: Is BJP an ...        office of kd   \n",
       "1    RT @IndiaToday: NDA's win in Bihar: Is BJP an ...  FunFootlooseFoodie   \n",
       "2    RT @IndiaToday: NDA's win in Bihar: Is BJP an ...  ChennaKesava Singh   \n",
       "4    RT @indiamusings: Indian election lessons for ...          BG.Subhash   \n",
       "5    Indian election lessons for USA👌:\\nIndia just ...  Dr. Prasad’s Space   \n",
       "..                                                 ...                 ...   \n",
       "108  RT @ThePrintIndia: Most exit polls predicted T...       Kairvy Grewal   \n",
       "109  RT @ThePrintIndia: Most exit polls predicted T...            DK Singh   \n",
       "110  Most exit polls predicted Tejashwi Yadav-led m...       ThePrintIndia   \n",
       "111  One more state out of BJP net. So days are num...         Girish Dave   \n",
       "112  @ANI He is not able to win a single state elec...        Vinod Chawla   \n",
       "\n",
       "    User_statuses_count user_followers     User_location User_verified  \\\n",
       "0                 11626            125                           False   \n",
       "1                 66425            122                           False   \n",
       "2                   720             47                           False   \n",
       "4                 56940            644         Bangalore         False   \n",
       "5                 23217           1949      Planet Earth         False   \n",
       "..                  ...            ...               ...           ...   \n",
       "108                 208            791  New Delhi, India         False   \n",
       "109                6014           6117         New Delhi          True   \n",
       "110              103781         288620  New Delhi, India          True   \n",
       "111                 854             43            mumbai         False   \n",
       "112                 699             15        ठाणे, भारत         False   \n",
       "\n",
       "    fav_count rt_count           tweet_date  \\\n",
       "0           0       12  2020-11-14 15:26:40   \n",
       "1           0       12  2020-11-12 18:13:22   \n",
       "2           0       12  2020-11-12 14:03:23   \n",
       "4           0        1  2020-11-12 03:05:15   \n",
       "5           2        1  2020-11-12 03:03:36   \n",
       "..        ...      ...                  ...   \n",
       "108         0       14  2020-11-10 02:48:56   \n",
       "109         0       14  2020-11-10 02:47:48   \n",
       "110       323       14  2020-11-10 01:56:42   \n",
       "111         0        0  2020-11-09 08:13:13   \n",
       "112         0        0  2020-11-09 07:06:20   \n",
       "\n",
       "                                           clean_tweet Sentiment  \n",
       "0    RT NDA s win in Bihar Is BJP an unstoppable el...  Positive  \n",
       "1    RT NDA s win in Bihar Is BJP an unstoppable el...  Positive  \n",
       "2    RT NDA s win in Bihar Is BJP an unstoppable el...  Positive  \n",
       "4    RT Indian election lessons for USA India just ...  Positive  \n",
       "5    Indian election lessons for USA India just com...  Positive  \n",
       "..                                                 ...       ...  \n",
       "108  RT Most exit polls predicted Tejashwi Yadav le...  Positive  \n",
       "109  RT Most exit polls predicted Tejashwi Yadav le...  Positive  \n",
       "110  Most exit polls predicted Tejashwi Yadav led m...  Positive  \n",
       "111  One more state out of BJP net So days are numb...  Positive  \n",
       "112  He is not able to win a single state election ...  Positive  \n",
       "\n",
       "[102 rows x 11 columns]"
      ]
     },
     "execution_count": 30,
     "metadata": {},
     "output_type": "execute_result"
    }
   ],
   "source": [
    "df[df.Sentiment == 'Positive']"
   ]
  },
  {
   "cell_type": "code",
   "execution_count": 31,
   "metadata": {},
   "outputs": [
    {
     "data": {
      "text/plain": [
       "102"
      ]
     },
     "execution_count": 31,
     "metadata": {},
     "output_type": "execute_result"
    }
   ],
   "source": [
    "df[df.Sentiment == 'Positive'].shape[0]"
   ]
  },
  {
   "cell_type": "code",
   "execution_count": 32,
   "metadata": {},
   "outputs": [
    {
     "data": {
      "text/html": [
       "<div>\n",
       "<style scoped>\n",
       "    .dataframe tbody tr th:only-of-type {\n",
       "        vertical-align: middle;\n",
       "    }\n",
       "\n",
       "    .dataframe tbody tr th {\n",
       "        vertical-align: top;\n",
       "    }\n",
       "\n",
       "    .dataframe thead th {\n",
       "        text-align: right;\n",
       "    }\n",
       "</style>\n",
       "<table border=\"1\" class=\"dataframe\">\n",
       "  <thead>\n",
       "    <tr style=\"text-align: right;\">\n",
       "      <th></th>\n",
       "      <th>Tweets</th>\n",
       "      <th>User</th>\n",
       "      <th>User_statuses_count</th>\n",
       "      <th>user_followers</th>\n",
       "      <th>User_location</th>\n",
       "      <th>User_verified</th>\n",
       "      <th>fav_count</th>\n",
       "      <th>rt_count</th>\n",
       "      <th>tweet_date</th>\n",
       "      <th>clean_tweet</th>\n",
       "      <th>Sentiment</th>\n",
       "    </tr>\n",
       "  </thead>\n",
       "  <tbody>\n",
       "    <tr>\n",
       "      <td>3</td>\n",
       "      <td>Seats won by majority parties in Bihar Electio...</td>\n",
       "      <td>Garvit Gautam</td>\n",
       "      <td>203</td>\n",
       "      <td>44</td>\n",
       "      <td>Mumbai, India</td>\n",
       "      <td>False</td>\n",
       "      <td>0</td>\n",
       "      <td>0</td>\n",
       "      <td>2020-11-12 07:29:46</td>\n",
       "      <td>Seats won by majority parties in Bihar Electio...</td>\n",
       "      <td>Neutral</td>\n",
       "    </tr>\n",
       "    <tr>\n",
       "      <td>38</td>\n",
       "      <td>Tejashwi must go 2 courts against fraud in ele...</td>\n",
       "      <td>Saif</td>\n",
       "      <td>56824</td>\n",
       "      <td>920</td>\n",
       "      <td>Malaysia</td>\n",
       "      <td>False</td>\n",
       "      <td>0</td>\n",
       "      <td>0</td>\n",
       "      <td>2020-11-10 21:52:17</td>\n",
       "      <td>Tejashwi must go 2 courts against fraud in ele...</td>\n",
       "      <td>Neutral</td>\n",
       "    </tr>\n",
       "    <tr>\n",
       "      <td>76</td>\n",
       "      <td>@gsvasu_TNIE @khogensingh1 @hajipurrajesh Whil...</td>\n",
       "      <td>The New Indian Express</td>\n",
       "      <td>606249</td>\n",
       "      <td>457253</td>\n",
       "      <td>Chennai</td>\n",
       "      <td>True</td>\n",
       "      <td>2</td>\n",
       "      <td>0</td>\n",
       "      <td>2020-11-10 12:05:00</td>\n",
       "      <td>TNIE While the NDA is leading in 124 seats amp...</td>\n",
       "      <td>Neutral</td>\n",
       "    </tr>\n",
       "  </tbody>\n",
       "</table>\n",
       "</div>"
      ],
      "text/plain": [
       "                                               Tweets                    User  \\\n",
       "3   Seats won by majority parties in Bihar Electio...           Garvit Gautam   \n",
       "38  Tejashwi must go 2 courts against fraud in ele...                    Saif   \n",
       "76  @gsvasu_TNIE @khogensingh1 @hajipurrajesh Whil...  The New Indian Express   \n",
       "\n",
       "   User_statuses_count user_followers  User_location User_verified fav_count  \\\n",
       "3                  203             44  Mumbai, India         False         0   \n",
       "38               56824            920       Malaysia         False         0   \n",
       "76              606249         457253        Chennai          True         2   \n",
       "\n",
       "   rt_count           tweet_date  \\\n",
       "3         0  2020-11-12 07:29:46   \n",
       "38        0  2020-11-10 21:52:17   \n",
       "76        0  2020-11-10 12:05:00   \n",
       "\n",
       "                                          clean_tweet Sentiment  \n",
       "3   Seats won by majority parties in Bihar Electio...   Neutral  \n",
       "38  Tejashwi must go 2 courts against fraud in ele...   Neutral  \n",
       "76  TNIE While the NDA is leading in 124 seats amp...   Neutral  "
      ]
     },
     "execution_count": 32,
     "metadata": {},
     "output_type": "execute_result"
    }
   ],
   "source": [
    "df[df.Sentiment == 'Neutral']"
   ]
  },
  {
   "cell_type": "code",
   "execution_count": 33,
   "metadata": {},
   "outputs": [
    {
     "data": {
      "text/plain": [
       "3"
      ]
     },
     "execution_count": 33,
     "metadata": {},
     "output_type": "execute_result"
    }
   ],
   "source": [
    "df[df.Sentiment == 'Neutral'].shape[0]"
   ]
  },
  {
   "cell_type": "code",
   "execution_count": 34,
   "metadata": {},
   "outputs": [
    {
     "data": {
      "text/html": [
       "<div>\n",
       "<style scoped>\n",
       "    .dataframe tbody tr th:only-of-type {\n",
       "        vertical-align: middle;\n",
       "    }\n",
       "\n",
       "    .dataframe tbody tr th {\n",
       "        vertical-align: top;\n",
       "    }\n",
       "\n",
       "    .dataframe thead th {\n",
       "        text-align: right;\n",
       "    }\n",
       "</style>\n",
       "<table border=\"1\" class=\"dataframe\">\n",
       "  <thead>\n",
       "    <tr style=\"text-align: right;\">\n",
       "      <th></th>\n",
       "      <th>Tweets</th>\n",
       "      <th>User</th>\n",
       "      <th>User_statuses_count</th>\n",
       "      <th>user_followers</th>\n",
       "      <th>User_location</th>\n",
       "      <th>User_verified</th>\n",
       "      <th>fav_count</th>\n",
       "      <th>rt_count</th>\n",
       "      <th>tweet_date</th>\n",
       "      <th>clean_tweet</th>\n",
       "      <th>Sentiment</th>\n",
       "    </tr>\n",
       "  </thead>\n",
       "  <tbody>\n",
       "    <tr>\n",
       "      <td>63</td>\n",
       "      <td>RT @ABPNews: #BiharElection2020 , Vote Countin...</td>\n",
       "      <td>ASHWANI KUMAR GOYAL</td>\n",
       "      <td>574857</td>\n",
       "      <td>764</td>\n",
       "      <td></td>\n",
       "      <td>False</td>\n",
       "      <td>0</td>\n",
       "      <td>2</td>\n",
       "      <td>2020-11-10 15:33:44</td>\n",
       "      <td>RT BiharElection2020 Vote Counting Tally After...</td>\n",
       "      <td>Negative</td>\n",
       "    </tr>\n",
       "    <tr>\n",
       "      <td>64</td>\n",
       "      <td>RT @ABPNews: #BiharElection2020 , Vote Countin...</td>\n",
       "      <td>Sumit Sangwan</td>\n",
       "      <td>293901</td>\n",
       "      <td>1214</td>\n",
       "      <td>Uttar Pradesh, India</td>\n",
       "      <td>False</td>\n",
       "      <td>0</td>\n",
       "      <td>2</td>\n",
       "      <td>2020-11-10 15:18:03</td>\n",
       "      <td>RT BiharElection2020 Vote Counting Tally After...</td>\n",
       "      <td>Negative</td>\n",
       "    </tr>\n",
       "    <tr>\n",
       "      <td>81</td>\n",
       "      <td>RT @ABPNews: ' #NitishKumar Will Be The CM,' B...</td>\n",
       "      <td>BJP4Anand</td>\n",
       "      <td>814</td>\n",
       "      <td>63</td>\n",
       "      <td>Gujarat, India</td>\n",
       "      <td>False</td>\n",
       "      <td>0</td>\n",
       "      <td>1</td>\n",
       "      <td>2020-11-10 08:52:40</td>\n",
       "      <td>RT NitishKumar Will Be The CM BJP Sources Clai...</td>\n",
       "      <td>Negative</td>\n",
       "    </tr>\n",
       "    <tr>\n",
       "      <td>82</td>\n",
       "      <td>' #NitishKumar Will Be The CM,' BJP Sources Cl...</td>\n",
       "      <td>ABP News</td>\n",
       "      <td>275494</td>\n",
       "      <td>10576409</td>\n",
       "      <td>India</td>\n",
       "      <td>True</td>\n",
       "      <td>53</td>\n",
       "      <td>1</td>\n",
       "      <td>2020-11-10 08:50:11</td>\n",
       "      <td>NitishKumar Will Be The CM BJP Sources Claim E...</td>\n",
       "      <td>Negative</td>\n",
       "    </tr>\n",
       "    <tr>\n",
       "      <td>87</td>\n",
       "      <td>@IndiaToday Being brain washed, this is the ga...</td>\n",
       "      <td>Saif Ahmad</td>\n",
       "      <td>1118</td>\n",
       "      <td>28</td>\n",
       "      <td></td>\n",
       "      <td>False</td>\n",
       "      <td>0</td>\n",
       "      <td>0</td>\n",
       "      <td>2020-11-10 08:32:23</td>\n",
       "      <td>Being brain washed this is the game of cheatin...</td>\n",
       "      <td>Negative</td>\n",
       "    </tr>\n",
       "    <tr>\n",
       "      <td>90</td>\n",
       "      <td>@Hari04849748 @blsanthosh @JPNadda @BJP4Bihar ...</td>\n",
       "      <td>Anil the Predictor 🌺🌺🌺</td>\n",
       "      <td>39891</td>\n",
       "      <td>5872</td>\n",
       "      <td>🌍</td>\n",
       "      <td>False</td>\n",
       "      <td>2</td>\n",
       "      <td>0</td>\n",
       "      <td>2020-11-10 07:35:05</td>\n",
       "      <td>Forget it dear trust my prediction I humbly pr...</td>\n",
       "      <td>Negative</td>\n",
       "    </tr>\n",
       "    <tr>\n",
       "      <td>102</td>\n",
       "      <td>Did exit polls get it completely wrong in Biha...</td>\n",
       "      <td>Vipin Vijayan</td>\n",
       "      <td>4827</td>\n",
       "      <td>529</td>\n",
       "      <td>In Mumbai, but loves Delhi</td>\n",
       "      <td>False</td>\n",
       "      <td>0</td>\n",
       "      <td>0</td>\n",
       "      <td>2020-11-10 04:54:24</td>\n",
       "      <td>Did exit polls get it completely wrong in Biha...</td>\n",
       "      <td>Negative</td>\n",
       "    </tr>\n",
       "    <tr>\n",
       "      <td>106</td>\n",
       "      <td>In electoral politics, BJP is Cuscuta (Amarvel...</td>\n",
       "      <td>ਹਰਮਨ</td>\n",
       "      <td>11746</td>\n",
       "      <td>152</td>\n",
       "      <td></td>\n",
       "      <td>False</td>\n",
       "      <td>0</td>\n",
       "      <td>0</td>\n",
       "      <td>2020-11-10 03:51:58</td>\n",
       "      <td>In electoral politics BJP is Cuscuta Amarvel i...</td>\n",
       "      <td>Negative</td>\n",
       "    </tr>\n",
       "  </tbody>\n",
       "</table>\n",
       "</div>"
      ],
      "text/plain": [
       "                                                Tweets  \\\n",
       "63   RT @ABPNews: #BiharElection2020 , Vote Countin...   \n",
       "64   RT @ABPNews: #BiharElection2020 , Vote Countin...   \n",
       "81   RT @ABPNews: ' #NitishKumar Will Be The CM,' B...   \n",
       "82   ' #NitishKumar Will Be The CM,' BJP Sources Cl...   \n",
       "87   @IndiaToday Being brain washed, this is the ga...   \n",
       "90   @Hari04849748 @blsanthosh @JPNadda @BJP4Bihar ...   \n",
       "102  Did exit polls get it completely wrong in Biha...   \n",
       "106  In electoral politics, BJP is Cuscuta (Amarvel...   \n",
       "\n",
       "                       User User_statuses_count user_followers  \\\n",
       "63      ASHWANI KUMAR GOYAL              574857            764   \n",
       "64            Sumit Sangwan              293901           1214   \n",
       "81                BJP4Anand                 814             63   \n",
       "82                 ABP News              275494       10576409   \n",
       "87               Saif Ahmad                1118             28   \n",
       "90   Anil the Predictor 🌺🌺🌺               39891           5872   \n",
       "102           Vipin Vijayan                4827            529   \n",
       "106                    ਹਰਮਨ               11746            152   \n",
       "\n",
       "                  User_location User_verified fav_count rt_count  \\\n",
       "63                                      False         0        2   \n",
       "64         Uttar Pradesh, India         False         0        2   \n",
       "81               Gujarat, India         False         0        1   \n",
       "82                        India          True        53        1   \n",
       "87                                      False         0        0   \n",
       "90                           🌍          False         2        0   \n",
       "102  In Mumbai, but loves Delhi         False         0        0   \n",
       "106                                     False         0        0   \n",
       "\n",
       "              tweet_date                                        clean_tweet  \\\n",
       "63   2020-11-10 15:33:44  RT BiharElection2020 Vote Counting Tally After...   \n",
       "64   2020-11-10 15:18:03  RT BiharElection2020 Vote Counting Tally After...   \n",
       "81   2020-11-10 08:52:40  RT NitishKumar Will Be The CM BJP Sources Clai...   \n",
       "82   2020-11-10 08:50:11  NitishKumar Will Be The CM BJP Sources Claim E...   \n",
       "87   2020-11-10 08:32:23  Being brain washed this is the game of cheatin...   \n",
       "90   2020-11-10 07:35:05  Forget it dear trust my prediction I humbly pr...   \n",
       "102  2020-11-10 04:54:24  Did exit polls get it completely wrong in Biha...   \n",
       "106  2020-11-10 03:51:58  In electoral politics BJP is Cuscuta Amarvel i...   \n",
       "\n",
       "    Sentiment  \n",
       "63   Negative  \n",
       "64   Negative  \n",
       "81   Negative  \n",
       "82   Negative  \n",
       "87   Negative  \n",
       "90   Negative  \n",
       "102  Negative  \n",
       "106  Negative  "
      ]
     },
     "execution_count": 34,
     "metadata": {},
     "output_type": "execute_result"
    }
   ],
   "source": [
    "df[df.Sentiment == 'Negative']"
   ]
  },
  {
   "cell_type": "code",
   "execution_count": 35,
   "metadata": {},
   "outputs": [
    {
     "data": {
      "text/plain": [
       "8"
      ]
     },
     "execution_count": 35,
     "metadata": {},
     "output_type": "execute_result"
    }
   ],
   "source": [
    "df[df.Sentiment == 'Negative'].shape[0]"
   ]
  },
  {
   "cell_type": "markdown",
   "metadata": {},
   "source": [
    "______________________"
   ]
  }
 ],
 "metadata": {
  "kernelspec": {
   "display_name": "Python 3",
   "language": "python",
   "name": "python3"
  },
  "language_info": {
   "codemirror_mode": {
    "name": "ipython",
    "version": 3
   },
   "file_extension": ".py",
   "mimetype": "text/x-python",
   "name": "python",
   "nbconvert_exporter": "python",
   "pygments_lexer": "ipython3",
   "version": "3.7.4"
  },
  "toc": {
   "base_numbering": 1,
   "nav_menu": {},
   "number_sections": true,
   "sideBar": true,
   "skip_h1_title": false,
   "title_cell": "Table of Contents",
   "title_sidebar": "Contents",
   "toc_cell": false,
   "toc_position": {},
   "toc_section_display": true,
   "toc_window_display": false
  }
 },
 "nbformat": 4,
 "nbformat_minor": 2
}
